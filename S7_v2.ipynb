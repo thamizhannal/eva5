{
  "nbformat": 4,
  "nbformat_minor": 0,
  "metadata": {
    "colab": {
      "name": "S7_v1.ipynb",
      "provenance": [],
      "authorship_tag": "ABX9TyOS6G3a7XX5qBoJk3BvP0lR",
      "include_colab_link": true
    },
    "kernelspec": {
      "name": "python3",
      "display_name": "Python 3"
    },
    "accelerator": "GPU"
  },
  "cells": [
    {
      "cell_type": "markdown",
      "metadata": {
        "id": "view-in-github",
        "colab_type": "text"
      },
      "source": [
        "<a href=\"https://colab.research.google.com/github/thamizhannal/eva5/blob/master/S7_v2.ipynb\" target=\"_parent\"><img src=\"https://colab.research.google.com/assets/colab-badge.svg\" alt=\"Open In Colab\"/></a>"
      ]
    },
    {
      "cell_type": "code",
      "metadata": {
        "id": "HuWkusKDoC_d",
        "colab_type": "code",
        "colab": {}
      },
      "source": [
        "import torch\n",
        "import torchvision\n",
        "import torchvision.transforms as transforms"
      ],
      "execution_count": 17,
      "outputs": []
    },
    {
      "cell_type": "code",
      "metadata": {
        "id": "vJnwxs6yrx1E",
        "colab_type": "code",
        "colab": {}
      },
      "source": [
        "import torch\n",
        "use_cuda = torch.cuda.is_available()\n",
        "device = torch.device(\"cuda\" if use_cuda else \"cpu\")\n",
        "batch_size = 256\n",
        "num_workers = 1\n",
        "pin_memory = True\n",
        "input_size = (3,32,32)"
      ],
      "execution_count": 18,
      "outputs": []
    },
    {
      "cell_type": "code",
      "metadata": {
        "id": "Me2DkiMRoKqV",
        "colab_type": "code",
        "colab": {
          "base_uri": "https://localhost:8080/",
          "height": 34
        },
        "outputId": "e7fa3f6f-02d4-4644-c11d-e66a4ef90ba2"
      },
      "source": [
        "from __future__ import print_function\n",
        "import torch\n",
        "from torchvision import datasets, transforms\n",
        "import sys\n",
        "\n",
        "#sys.path.append(\".\")\n",
        "#import config\n",
        "\n",
        "torch.manual_seed(1)\n",
        "#kwargs = {'num_workers': config.num_workers, 'pin_memory': config.pin_memory} if config.use_cuda else {}\n",
        "kwargs = {'num_workers': num_workers, 'pin_memory': pin_memory} if use_cuda else {}\n",
        "train_loader = torch.utils.data.DataLoader(\n",
        "    datasets.CIFAR10('../data', train=True, download=True,\n",
        "                   transform=transforms.Compose([\n",
        "                       transforms.RandomCrop(32, padding=4),\n",
        "                       transforms.RandomHorizontalFlip(),\n",
        "                       transforms.RandomRotation((-8.0, 8.0)),                                                 \n",
        "                       #transforms.RandomRotation((-8.0, 8.0), fill=(1,)),\n",
        "                       transforms.ToTensor(),\n",
        "                       transforms.Normalize((0.4914, 0.4822, 0.4465), (0.2023, 0.1994, 0.2010))\n",
        "                   ])),\n",
        "    #batch_size=config.batch_size, shuffle=True, **kwargs)\n",
        "    batch_size=batch_size, shuffle=True, **kwargs)\n",
        "test_loader = torch.utils.data.DataLoader(\n",
        "    datasets.CIFAR10('../data', train=False, transform=transforms.Compose([\n",
        "        transforms.ToTensor(),\n",
        "        transforms.Normalize((0.4914, 0.4822, 0.4465), (0.2023, 0.1994, 0.2010))\n",
        "    ])),\n",
        "    #batch_size=config.batch_size, shuffle=True, **kwargs)\n",
        "    batch_size=batch_size, shuffle=True, **kwargs)\n",
        "\n",
        "classes = ('plane', 'car', 'bird', 'cat',\n",
        "           'deer', 'dog', 'frog', 'horse', 'ship', 'truck')\n"
      ],
      "execution_count": 19,
      "outputs": [
        {
          "output_type": "stream",
          "text": [
            "Files already downloaded and verified\n"
          ],
          "name": "stdout"
        }
      ]
    },
    {
      "cell_type": "code",
      "metadata": {
        "id": "VKA2uytRsUVV",
        "colab_type": "code",
        "colab": {}
      },
      "source": [
        "import torch\n",
        "import torch.nn as nn\n",
        "import torch.nn.functional as F\n",
        "\n",
        "class BatchNorm(nn.BatchNorm2d):\n",
        "    def __init__(self, num_features, eps=1e-05, momentum=0.1, weight=True, bias=True):\n",
        "        super().__init__(num_features, eps=eps, momentum=momentum)\n",
        "        self.weight.data.fill_(1.0)\n",
        "        self.bias.data.fill_(0.0)\n",
        "        self.weight.requires_grad = weight\n",
        "        self.bias.requires_grad = bias\n",
        "class GhostBatchNorm(BatchNorm):\n",
        "    def __init__(self, num_features, num_splits, **kw):\n",
        "        super().__init__(num_features, **kw)\n",
        "        self.num_splits = num_splits\n",
        "        self.register_buffer('running_mean', torch.zeros(num_features * self.num_splits))\n",
        "        self.register_buffer('running_var', torch.ones(num_features * self.num_splits))\n",
        "\n",
        "    def train(self, mode=True):\n",
        "        if (self.training is True) and (mode is False):  # lazily collate stats when we are going to use them\n",
        "            self.running_mean = torch.mean(self.running_mean.view(self.num_splits, self.num_features), dim=0).repeat(\n",
        "                self.num_splits)\n",
        "            self.running_var = torch.mean(self.running_var.view(self.num_splits, self.num_features), dim=0).repeat(\n",
        "                self.num_splits)\n",
        "        return super().train(mode)\n",
        "\n",
        "    def forward(self, input):\n",
        "        N, C, H, W = input.shape\n",
        "        if self.training or not self.track_running_stats:\n",
        "            return F.batch_norm(\n",
        "                input.view(-1, C * self.num_splits, H, W), self.running_mean, self.running_var,\n",
        "                self.weight.repeat(self.num_splits), self.bias.repeat(self.num_splits),\n",
        "                True, self.momentum, self.eps).view(N, C, H, W)\n",
        "        else:\n",
        "            return F.batch_norm(\n",
        "                input, self.running_mean[:self.num_features], self.running_var[:self.num_features],\n",
        "                self.weight, self.bias, False, self.momentum, self.eps)"
      ],
      "execution_count": 20,
      "outputs": []
    },
    {
      "cell_type": "code",
      "metadata": {
        "id": "KhDHp918pmcK",
        "colab_type": "code",
        "colab": {}
      },
      "source": [
        "#Create and view model architecture\n",
        "import sys\n",
        "import torch\n",
        "import torch.nn as nn\n",
        "import torch.nn.functional as F\n",
        "\n",
        "#sys.path.append(\".\")\n",
        "#from batchnorm import GhostBatchNorm\n",
        "#import config\n",
        "\n",
        "\n",
        "def model_summary(model_, input_):\n",
        "    from torchsummary import summary\n",
        "    #use_cuda = config.use_cuda\n",
        "    #device = config.device\n",
        "    #use_cuda = use_cuda\n",
        "    #device = device\n",
        "    arch = model_.to(device)\n",
        "    return summary(arch, input_)\n",
        "class Net(nn.Module):\n",
        "    # BN_flag 0: normal batchnorm; 1: Ghost batchnorm\n",
        "    def batch_norm(self, channels, BN_flag):\n",
        "        if BN_flag == 1:\n",
        "            return GhostBatchNorm(channels, num_splits=2, weight=False)\n",
        "        else:\n",
        "            return nn.BatchNorm2d(channels)\n",
        "\n",
        "    def __init__(self, BN_flag):\n",
        "        super(Net, self).__init__()\n",
        "\n",
        "        # Convolution Block-1 ###################################\n",
        "        # Input:32x32  Outout:32x32 RF:3x3\n",
        "        self.conv1 = nn.Conv2d(in_channels = 3, out_channels=32, kernel_size=3, padding=1)  # input -? OUtput? RF #28,26,3\n",
        "        self.batchnorm1 = self.batch_norm(32, BN_flag=1)\n",
        "        \n",
        "        # Input:32x32  Outout:32x32 RF:5x5\n",
        "        self.conv2 = nn.Conv2d(in_channels = 32, out_channels=32, kernel_size=3, padding=1)  # 26,24,5\n",
        "        self.batchnorm2 = self.batch_norm(32, BN_flag=1)\n",
        "\n",
        "        self.dp2 = nn.Dropout(0.10)\n",
        "        # Transition Block-1 ###################################\n",
        "        # Input:32x32  Outout:16x16 RF:10x10\n",
        "        self.pool1 = nn.MaxPool2d(2, 2)  # 24,12,10\n",
        "\n",
        "        # Input:16x16  Outout:16x16 RF:10x10\n",
        "        self.conv3 = nn.Conv2d(in_channels = 32, out_channels=16, kernel_size=1, padding=1) #20, 10, 1)  # 12,12,10\n",
        "        self.batchnorm3 = self.batch_norm(16, BN_flag=1)\n",
        "        self.dp3 = nn.Dropout(0.10)\n",
        "      \n",
        "        # Convolution Block-2 ###################################\n",
        "        # Input:16x16  Outout:16x16 RF:12x12\n",
        "        self.conv4 = nn.Conv2d(in_channels = 16, out_channels=64, kernel_size=(3,1), padding=1 )  # 12,10,12\n",
        "        self.batchnorm4 = self.batch_norm(64, BN_flag=1)\n",
        "        self.dp4 = nn.Dropout(0.10)\n",
        "\n",
        "        # Input:16x16  Outout:16x16 RF:14x14\n",
        "        self.conv5 = nn.Conv2d(in_channels = 64, out_channels=64, kernel_size=(1,3), padding=1)  # 10,8,12\n",
        "        self.batchnorm5 = self.batch_norm(64, BN_flag=1)\n",
        "        self.dp5 = nn.Dropout(0.10)\n",
        "        \n",
        "        # Input:16x16  Outout:8x8 RF:28x28\n",
        "        self.pool2 = nn.MaxPool2d(2, 2)  # 24,12,10\n",
        "\n",
        "        # Transition Block-2 ###################################\n",
        "        # Input:8x8  Outout:8x8 RF:28x28\n",
        "        self.conv6 = nn.Conv2d(in_channels = 64, out_channels=32, kernel_size=1, padding=1) #20, 10, 1)  # 12,12,10\n",
        "        self.batchnorm6 = self.batch_norm(32, BN_flag=1)\n",
        "        self.dp6 = nn.Dropout(0.10)\n",
        "        \n",
        "        # Convolution Block-3 ###################################\n",
        "        # Input:8x8  Outout:8x8 RF:30x30\n",
        "        self.conv7 = nn.Conv2d(in_channels = 32, out_channels=128, dilation=2, kernel_size=3,  padding=2)  # 12,10,12\n",
        "        self.batchnorm7 = self.batch_norm(128, BN_flag=1)\n",
        "        self.dp7 = nn.Dropout(0.10)\n",
        "\n",
        "        # Input:8x8  Outout:8x8 RF:32x32\n",
        "        self.conv8 = nn.Conv2d(in_channels = 128, out_channels=128, dilation=2, kernel_size=3, padding=1)  # 10,8,12\n",
        "        self.batchnorm8 = self.batch_norm(128, BN_flag=1)\n",
        "        self.dp8 = nn.Dropout(0.10)\n",
        "        \n",
        "        # MP\n",
        "        # Input:8x8  Outout:4x4 RF:64x64\n",
        "        self.pool3 = nn.MaxPool2d(2, 2)  # 24,12,10\n",
        "        \n",
        "        # Input:4x4  Outout:4x4 RF:66x66\n",
        "        self.conv9 = nn.Conv2d(in_channels = 128, out_channels=256, kernel_size=3, padding=1)  # 10,8,12\n",
        "        self.conv10 = nn.Conv2d(in_channels = 256, out_channels=64, kernel_size=3, padding=1)  # 10,8,12\n",
        "        \n",
        "        self.avgp = nn.AvgPool2d(kernel_size=4)\n",
        "        self.conv11 = nn.Conv2d(64, 10, 1)  # 6,4,18\n",
        "\n",
        "    def forward(self, x):\n",
        "        x = self.conv1(x)\n",
        "        x = F.relu(x)\n",
        "        x = self.batchnorm1(x)\n",
        "\n",
        "        x = self.conv2(x)\n",
        "        x = F.relu(x)\n",
        "        x = self.batchnorm2(x)\n",
        "        x = self.dp2(x)\n",
        "\n",
        "        x = self.pool1(x)\n",
        "\n",
        "        x = self.conv3(x)\n",
        "        x = F.relu(x)\n",
        "        x = self.batchnorm3(x)\n",
        "        x = self.dp3(x)\n",
        "\n",
        "        x = self.conv4(x)\n",
        "        x = F.relu(x)\n",
        "        x = self.batchnorm4(x)\n",
        "        x = self.dp4(x)\n",
        "\n",
        "        x = self.conv5(x)\n",
        "        x = F.relu(x)\n",
        "        x = self.batchnorm5(x)\n",
        "        x = self.dp5(x)\n",
        "\n",
        "        x = self.pool2(x)\n",
        "\n",
        "        x = self.conv6(x)\n",
        "        x = F.relu(x)\n",
        "        x = self.batchnorm6(x)\n",
        "        x = self.dp6(x)\n",
        "\n",
        "\n",
        "        x = self.conv7(x)\n",
        "        x = F.relu(x)\n",
        "        x = self.batchnorm7(x)\n",
        "        x = self.dp7(x)\n",
        "\n",
        "        x = self.conv8(x)\n",
        "        x = F.relu(x)\n",
        "        x = self.batchnorm8(x)\n",
        "        x = self.dp8(x)\n",
        "\n",
        "        x = self.pool3(x)\n",
        "\n",
        "        x = self.conv9(x)\n",
        "        x = F.relu(x)\n",
        "        #x = self.batchnorm9(x)\n",
        "        \n",
        "\n",
        "        x = self.conv10(x)\n",
        "        x = F.relu(x)\n",
        "        #x = self.batchnorm10(x)\n",
        "        #x = self.dp8(x)\n",
        "\n",
        "        x = self.avgp(x)\n",
        "        x = self.conv11(x)\n",
        "\n",
        "        x = x.view(-1, 10)\n",
        "        return F.log_softmax(x)"
      ],
      "execution_count": 21,
      "outputs": []
    },
    {
      "cell_type": "code",
      "metadata": {
        "id": "WN865mvm01ZU",
        "colab_type": "code",
        "colab": {}
      },
      "source": [
        "from __future__ import print_function\n",
        "from tqdm import tqdm\n",
        "import torch\n",
        "import torch.nn as nn\n",
        "import torch.nn.functional as F\n",
        "\n",
        "test_loss_ = []\n",
        "train_loss = 0\n",
        "\n",
        "\n",
        "def train(model, device, train_loader, optimizer, epoch, l1_regularization=[1, 0.001]):\n",
        "    model.train()\n",
        "    train_correct = 0\n",
        "    train_loss = 0\n",
        "    type = l1_regularization[0]\n",
        "    l = l1_regularization[1]\n",
        "    pbar = tqdm(train_loader, leave=False, position=0)\n",
        "    for batch_idx, (data, target) in enumerate(pbar):\n",
        "        data, target = data.to(device), target.to(device)\n",
        "        output = model(data)\n",
        "        optimizer.zero_grad()\n",
        "\n",
        "        if type == 1:\n",
        "            l1_regularization = 0\n",
        "            for param in model.parameters():\n",
        "                l1_regularization += torch.sum(abs(param))\n",
        "            train_loss = F.nll_loss(output, target) + l * l1_regularization\n",
        "        else:\n",
        "            train_loss = F.nll_loss(output, target)\n",
        "\n",
        "        train_loss.backward()\n",
        "        optimizer.step()\n",
        "        pred = output.argmax(dim=1, keepdim=True)  # get the index of the max log-probability\n",
        "        train_correct += pred.eq(target.view_as(pred)).sum().item()\n",
        "        pbar.set_description(desc=f'loss={train_loss.item()} batch_id={batch_idx}')\n",
        "\n",
        "    print('Epoch: {:.0f},LR: {}.\\nTrain set: train Average loss: {:.4f}, train_Accuracy: {}/{} ({:.4f}%)\\n'.format(\n",
        "        epoch, optimizer.param_groups[0]['lr'], train_loss, train_correct, len(train_loader.dataset),\n",
        "        100. * train_correct / len(train_loader.dataset)))\n",
        "\n",
        "\n",
        "def test(model, device, test_loader):\n",
        "    model.eval()\n",
        "    test_loss = 0\n",
        "    correct = 0\n",
        "    with torch.no_grad():\n",
        "        for data, target in test_loader:\n",
        "            data, target = data.to(device), target.to(device)\n",
        "            output = model(data)\n",
        "            test_loss += F.nll_loss(output, target, reduction='sum').item()  # sum up batch loss\n",
        "            pred = output.argmax(dim=1, keepdim=True)  # get the index of the max log-probability\n",
        "            correct += pred.eq(target.view_as(pred)).sum().item()\n",
        "\n",
        "    test_loss /= len(test_loader.dataset)\n",
        "\n",
        "    print('\\nTest set: Average loss: {:.4f}, Accuracy: {}/{} ({:.4f}%)\\n'.format(\n",
        "        test_loss, correct, len(test_loader.dataset),\n",
        "        100. * correct / len(test_loader.dataset)))\n",
        "\n",
        "    return 100. * correct / len(test_loader.dataset), test_loss"
      ],
      "execution_count": 22,
      "outputs": []
    },
    {
      "cell_type": "code",
      "metadata": {
        "id": "r6fYeJKYsWmj",
        "colab_type": "code",
        "colab": {
          "base_uri": "https://localhost:8080/",
          "height": 1000
        },
        "outputId": "e90403bd-dcae-43b3-e86b-93d40dc0e683"
      },
      "source": [
        "from __future__ import print_function\n",
        "import torch.optim as optim\n",
        "from torch.optim.lr_scheduler import StepLR\n",
        "import sys\n",
        "\n",
        "#sys.path.append(\".\")\n",
        "\n",
        "#import config\n",
        "#from model import Net, model_summary\n",
        "#from Engine_train_test import train, test\n",
        "#from dataloader import train_loader,test_loader\n",
        "\n",
        "#print(model_summary(Net(1), config.input_size))\n",
        "print(model_summary(Net(1), input_size))\n",
        "\n",
        "accu = []\n",
        "loss_test = []\n",
        "\n",
        "\n",
        "model_ = Net(BN_flag=1).to(device)\n",
        "optimizer = optim.SGD(model_.parameters(), lr=0.016, momentum=0.9)\n",
        "scheduler = StepLR(optimizer, step_size=2, gamma=0.92)\n",
        "\n",
        "valid_acc = []\n",
        "loss_test_ = []\n",
        "l1_regularization = [0, 0]\n",
        "for epoch in range(1, 26):\n",
        "    train(model_, device, train_loader, optimizer, epoch, l1_regularization)\n",
        "    scheduler.step()\n",
        "    valid_a, valid_l = test(model_, device, test_loader)\n",
        "    # Appending to loss and accuracy lists\n",
        "    valid_acc.append(valid_a)\n",
        "    loss_test_.append(valid_l)\n",
        "\n",
        "accu.append(valid_acc)\n",
        "loss_test.append(loss_test_)\n",
        "\n",
        "import pickle\n",
        "#with open(\"D:/ML/EVA/JEDI/model_objects/model_op_params.pickle\",\"wb\") as f:\n",
        "with open(\"model_op_params.pickle\",\"wb\") as f:\n",
        "    pickle.dump(accu, f)\n",
        "    pickle.dump(loss_test, f)"
      ],
      "execution_count": 23,
      "outputs": [
        {
          "output_type": "stream",
          "text": [
            "/usr/local/lib/python3.6/dist-packages/ipykernel_launcher.py:153: UserWarning: Implicit dimension choice for log_softmax has been deprecated. Change the call to include dim=X as an argument.\n",
            "\r  0%|          | 0/196 [00:00<?, ?it/s]"
          ],
          "name": "stderr"
        },
        {
          "output_type": "stream",
          "text": [
            "----------------------------------------------------------------\n",
            "        Layer (type)               Output Shape         Param #\n",
            "================================================================\n",
            "            Conv2d-1           [-1, 32, 32, 32]             896\n",
            "    GhostBatchNorm-2           [-1, 32, 32, 32]              64\n",
            "            Conv2d-3           [-1, 32, 32, 32]           9,248\n",
            "    GhostBatchNorm-4           [-1, 32, 32, 32]              64\n",
            "           Dropout-5           [-1, 32, 32, 32]               0\n",
            "         MaxPool2d-6           [-1, 32, 16, 16]               0\n",
            "            Conv2d-7           [-1, 16, 18, 18]             528\n",
            "    GhostBatchNorm-8           [-1, 16, 18, 18]              32\n",
            "           Dropout-9           [-1, 16, 18, 18]               0\n",
            "           Conv2d-10           [-1, 64, 18, 20]           3,136\n",
            "   GhostBatchNorm-11           [-1, 64, 18, 20]             128\n",
            "          Dropout-12           [-1, 64, 18, 20]               0\n",
            "           Conv2d-13           [-1, 64, 20, 20]          12,352\n",
            "   GhostBatchNorm-14           [-1, 64, 20, 20]             128\n",
            "          Dropout-15           [-1, 64, 20, 20]               0\n",
            "        MaxPool2d-16           [-1, 64, 10, 10]               0\n",
            "           Conv2d-17           [-1, 32, 12, 12]           2,080\n",
            "   GhostBatchNorm-18           [-1, 32, 12, 12]              64\n",
            "          Dropout-19           [-1, 32, 12, 12]               0\n",
            "           Conv2d-20          [-1, 128, 12, 12]          36,992\n",
            "   GhostBatchNorm-21          [-1, 128, 12, 12]             256\n",
            "          Dropout-22          [-1, 128, 12, 12]               0\n",
            "           Conv2d-23          [-1, 128, 10, 10]         147,584\n",
            "   GhostBatchNorm-24          [-1, 128, 10, 10]             256\n",
            "          Dropout-25          [-1, 128, 10, 10]               0\n",
            "        MaxPool2d-26            [-1, 128, 5, 5]               0\n",
            "           Conv2d-27            [-1, 256, 5, 5]         295,168\n",
            "           Conv2d-28             [-1, 64, 5, 5]         147,520\n",
            "        AvgPool2d-29             [-1, 64, 1, 1]               0\n",
            "           Conv2d-30             [-1, 10, 1, 1]             650\n",
            "================================================================\n",
            "Total params: 657,146\n",
            "Trainable params: 656,154\n",
            "Non-trainable params: 992\n",
            "----------------------------------------------------------------\n",
            "Input size (MB): 0.01\n",
            "Forward/backward pass size (MB): 3.50\n",
            "Params size (MB): 2.51\n",
            "Estimated Total Size (MB): 6.02\n",
            "----------------------------------------------------------------\n",
            "None\n"
          ],
          "name": "stdout"
        },
        {
          "output_type": "stream",
          "text": [
            "                                                                                       "
          ],
          "name": "stderr"
        },
        {
          "output_type": "stream",
          "text": [
            "Epoch: 1,LR: 0.016.\n",
            "Train set: train Average loss: 1.4127, train_Accuracy: 16959/50000 (33.9180%)\n",
            "\n"
          ],
          "name": "stdout"
        },
        {
          "output_type": "stream",
          "text": [
            "  0%|          | 0/196 [00:00<?, ?it/s]"
          ],
          "name": "stderr"
        },
        {
          "output_type": "stream",
          "text": [
            "\n",
            "Test set: Average loss: 1.4475, Accuracy: 4514/10000 (45.1400%)\n",
            "\n"
          ],
          "name": "stdout"
        },
        {
          "output_type": "stream",
          "text": [
            "                                                                                       "
          ],
          "name": "stderr"
        },
        {
          "output_type": "stream",
          "text": [
            "Epoch: 2,LR: 0.016.\n",
            "Train set: train Average loss: 1.0323, train_Accuracy: 26061/50000 (52.1220%)\n",
            "\n"
          ],
          "name": "stdout"
        },
        {
          "output_type": "stream",
          "text": [
            "  0%|          | 0/196 [00:00<?, ?it/s]"
          ],
          "name": "stderr"
        },
        {
          "output_type": "stream",
          "text": [
            "\n",
            "Test set: Average loss: 1.3139, Accuracy: 5464/10000 (54.6400%)\n",
            "\n"
          ],
          "name": "stdout"
        },
        {
          "output_type": "stream",
          "text": [
            "                                                                                       "
          ],
          "name": "stderr"
        },
        {
          "output_type": "stream",
          "text": [
            "Epoch: 3,LR: 0.01472.\n",
            "Train set: train Average loss: 1.1015, train_Accuracy: 29594/50000 (59.1880%)\n",
            "\n"
          ],
          "name": "stdout"
        },
        {
          "output_type": "stream",
          "text": [
            "  0%|          | 0/196 [00:00<?, ?it/s]"
          ],
          "name": "stderr"
        },
        {
          "output_type": "stream",
          "text": [
            "\n",
            "Test set: Average loss: 1.1918, Accuracy: 5909/10000 (59.0900%)\n",
            "\n"
          ],
          "name": "stdout"
        },
        {
          "output_type": "stream",
          "text": [
            "                                                                                       "
          ],
          "name": "stderr"
        },
        {
          "output_type": "stream",
          "text": [
            "Epoch: 4,LR: 0.01472.\n",
            "Train set: train Average loss: 0.8155, train_Accuracy: 31427/50000 (62.8540%)\n",
            "\n"
          ],
          "name": "stdout"
        },
        {
          "output_type": "stream",
          "text": [
            "  0%|          | 0/196 [00:00<?, ?it/s]"
          ],
          "name": "stderr"
        },
        {
          "output_type": "stream",
          "text": [
            "\n",
            "Test set: Average loss: 0.9341, Accuracy: 6688/10000 (66.8800%)\n",
            "\n"
          ],
          "name": "stdout"
        },
        {
          "output_type": "stream",
          "text": [
            "                                                                                       "
          ],
          "name": "stderr"
        },
        {
          "output_type": "stream",
          "text": [
            "Epoch: 5,LR: 0.013542400000000001.\n",
            "Train set: train Average loss: 0.8449, train_Accuracy: 32998/50000 (65.9960%)\n",
            "\n"
          ],
          "name": "stdout"
        },
        {
          "output_type": "stream",
          "text": [
            "  0%|          | 0/196 [00:00<?, ?it/s]"
          ],
          "name": "stderr"
        },
        {
          "output_type": "stream",
          "text": [
            "\n",
            "Test set: Average loss: 0.9982, Accuracy: 6613/10000 (66.1300%)\n",
            "\n"
          ],
          "name": "stdout"
        },
        {
          "output_type": "stream",
          "text": [
            "                                                                                      "
          ],
          "name": "stderr"
        },
        {
          "output_type": "stream",
          "text": [
            "Epoch: 6,LR: 0.013542400000000001.\n",
            "Train set: train Average loss: 0.9354, train_Accuracy: 33931/50000 (67.8620%)\n",
            "\n"
          ],
          "name": "stdout"
        },
        {
          "output_type": "stream",
          "text": [
            "  0%|          | 0/196 [00:00<?, ?it/s]"
          ],
          "name": "stderr"
        },
        {
          "output_type": "stream",
          "text": [
            "\n",
            "Test set: Average loss: 0.8246, Accuracy: 7153/10000 (71.5300%)\n",
            "\n"
          ],
          "name": "stdout"
        },
        {
          "output_type": "stream",
          "text": [
            "                                                                                       "
          ],
          "name": "stderr"
        },
        {
          "output_type": "stream",
          "text": [
            "Epoch: 7,LR: 0.012459008000000002.\n",
            "Train set: train Average loss: 0.8545, train_Accuracy: 35132/50000 (70.2640%)\n",
            "\n"
          ],
          "name": "stdout"
        },
        {
          "output_type": "stream",
          "text": [
            "  0%|          | 0/196 [00:00<?, ?it/s]"
          ],
          "name": "stderr"
        },
        {
          "output_type": "stream",
          "text": [
            "\n",
            "Test set: Average loss: 0.8049, Accuracy: 7206/10000 (72.0600%)\n",
            "\n"
          ],
          "name": "stdout"
        },
        {
          "output_type": "stream",
          "text": [
            "                                                                                       "
          ],
          "name": "stderr"
        },
        {
          "output_type": "stream",
          "text": [
            "Epoch: 8,LR: 0.012459008000000002.\n",
            "Train set: train Average loss: 0.7456, train_Accuracy: 36050/50000 (72.1000%)\n",
            "\n"
          ],
          "name": "stdout"
        },
        {
          "output_type": "stream",
          "text": [
            "  0%|          | 0/196 [00:00<?, ?it/s]"
          ],
          "name": "stderr"
        },
        {
          "output_type": "stream",
          "text": [
            "\n",
            "Test set: Average loss: 0.7607, Accuracy: 7388/10000 (73.8800%)\n",
            "\n"
          ],
          "name": "stdout"
        },
        {
          "output_type": "stream",
          "text": [
            "                                                                                       "
          ],
          "name": "stderr"
        },
        {
          "output_type": "stream",
          "text": [
            "Epoch: 9,LR: 0.011462287360000002.\n",
            "Train set: train Average loss: 0.8403, train_Accuracy: 36801/50000 (73.6020%)\n",
            "\n"
          ],
          "name": "stdout"
        },
        {
          "output_type": "stream",
          "text": [
            "  0%|          | 0/196 [00:00<?, ?it/s]"
          ],
          "name": "stderr"
        },
        {
          "output_type": "stream",
          "text": [
            "\n",
            "Test set: Average loss: 0.7991, Accuracy: 7373/10000 (73.7300%)\n",
            "\n"
          ],
          "name": "stdout"
        },
        {
          "output_type": "stream",
          "text": [
            "                                                                                       "
          ],
          "name": "stderr"
        },
        {
          "output_type": "stream",
          "text": [
            "Epoch: 10,LR: 0.011462287360000002.\n",
            "Train set: train Average loss: 0.6683, train_Accuracy: 37152/50000 (74.3040%)\n",
            "\n"
          ],
          "name": "stdout"
        },
        {
          "output_type": "stream",
          "text": [
            "  0%|          | 0/196 [00:00<?, ?it/s]"
          ],
          "name": "stderr"
        },
        {
          "output_type": "stream",
          "text": [
            "\n",
            "Test set: Average loss: 0.6961, Accuracy: 7623/10000 (76.2300%)\n",
            "\n"
          ],
          "name": "stdout"
        },
        {
          "output_type": "stream",
          "text": [
            "                                                                                       "
          ],
          "name": "stderr"
        },
        {
          "output_type": "stream",
          "text": [
            "Epoch: 11,LR: 0.010545304371200001.\n",
            "Train set: train Average loss: 0.5170, train_Accuracy: 38021/50000 (76.0420%)\n",
            "\n"
          ],
          "name": "stdout"
        },
        {
          "output_type": "stream",
          "text": [
            "  0%|          | 0/196 [00:00<?, ?it/s]"
          ],
          "name": "stderr"
        },
        {
          "output_type": "stream",
          "text": [
            "\n",
            "Test set: Average loss: 0.6282, Accuracy: 7835/10000 (78.3500%)\n",
            "\n"
          ],
          "name": "stdout"
        },
        {
          "output_type": "stream",
          "text": [
            "                                                                                       "
          ],
          "name": "stderr"
        },
        {
          "output_type": "stream",
          "text": [
            "Epoch: 12,LR: 0.010545304371200001.\n",
            "Train set: train Average loss: 0.9084, train_Accuracy: 38327/50000 (76.6540%)\n",
            "\n"
          ],
          "name": "stdout"
        },
        {
          "output_type": "stream",
          "text": [
            "  0%|          | 0/196 [00:00<?, ?it/s]"
          ],
          "name": "stderr"
        },
        {
          "output_type": "stream",
          "text": [
            "\n",
            "Test set: Average loss: 0.6316, Accuracy: 7922/10000 (79.2200%)\n",
            "\n"
          ],
          "name": "stdout"
        },
        {
          "output_type": "stream",
          "text": [
            "                                                                                       "
          ],
          "name": "stderr"
        },
        {
          "output_type": "stream",
          "text": [
            "Epoch: 13,LR: 0.009701680021504002.\n",
            "Train set: train Average loss: 0.7153, train_Accuracy: 38786/50000 (77.5720%)\n",
            "\n"
          ],
          "name": "stdout"
        },
        {
          "output_type": "stream",
          "text": [
            "  0%|          | 0/196 [00:00<?, ?it/s]"
          ],
          "name": "stderr"
        },
        {
          "output_type": "stream",
          "text": [
            "\n",
            "Test set: Average loss: 0.6077, Accuracy: 7980/10000 (79.8000%)\n",
            "\n"
          ],
          "name": "stdout"
        },
        {
          "output_type": "stream",
          "text": [
            "                                                                                       "
          ],
          "name": "stderr"
        },
        {
          "output_type": "stream",
          "text": [
            "Epoch: 14,LR: 0.009701680021504002.\n",
            "Train set: train Average loss: 0.5088, train_Accuracy: 39011/50000 (78.0220%)\n",
            "\n"
          ],
          "name": "stdout"
        },
        {
          "output_type": "stream",
          "text": [
            "  0%|          | 0/196 [00:00<?, ?it/s]"
          ],
          "name": "stderr"
        },
        {
          "output_type": "stream",
          "text": [
            "\n",
            "Test set: Average loss: 0.6358, Accuracy: 7925/10000 (79.2500%)\n",
            "\n"
          ],
          "name": "stdout"
        },
        {
          "output_type": "stream",
          "text": [
            "                                                                                       "
          ],
          "name": "stderr"
        },
        {
          "output_type": "stream",
          "text": [
            "Epoch: 15,LR: 0.008925545619783683.\n",
            "Train set: train Average loss: 0.5348, train_Accuracy: 39433/50000 (78.8660%)\n",
            "\n"
          ],
          "name": "stdout"
        },
        {
          "output_type": "stream",
          "text": [
            "  0%|          | 0/196 [00:00<?, ?it/s]"
          ],
          "name": "stderr"
        },
        {
          "output_type": "stream",
          "text": [
            "\n",
            "Test set: Average loss: 0.6289, Accuracy: 7917/10000 (79.1700%)\n",
            "\n"
          ],
          "name": "stdout"
        },
        {
          "output_type": "stream",
          "text": [
            "                                                                                       "
          ],
          "name": "stderr"
        },
        {
          "output_type": "stream",
          "text": [
            "Epoch: 16,LR: 0.008925545619783683.\n",
            "Train set: train Average loss: 0.5986, train_Accuracy: 39577/50000 (79.1540%)\n",
            "\n"
          ],
          "name": "stdout"
        },
        {
          "output_type": "stream",
          "text": [
            "  0%|          | 0/196 [00:00<?, ?it/s]"
          ],
          "name": "stderr"
        },
        {
          "output_type": "stream",
          "text": [
            "\n",
            "Test set: Average loss: 0.5970, Accuracy: 7988/10000 (79.8800%)\n",
            "\n"
          ],
          "name": "stdout"
        },
        {
          "output_type": "stream",
          "text": [
            "                                                                                       "
          ],
          "name": "stderr"
        },
        {
          "output_type": "stream",
          "text": [
            "Epoch: 17,LR: 0.008211501970200989.\n",
            "Train set: train Average loss: 0.6573, train_Accuracy: 39915/50000 (79.8300%)\n",
            "\n"
          ],
          "name": "stdout"
        },
        {
          "output_type": "stream",
          "text": [
            "  0%|          | 0/196 [00:00<?, ?it/s]"
          ],
          "name": "stderr"
        },
        {
          "output_type": "stream",
          "text": [
            "\n",
            "Test set: Average loss: 0.5707, Accuracy: 8120/10000 (81.2000%)\n",
            "\n"
          ],
          "name": "stdout"
        },
        {
          "output_type": "stream",
          "text": [
            "                                                                                       "
          ],
          "name": "stderr"
        },
        {
          "output_type": "stream",
          "text": [
            "Epoch: 18,LR: 0.008211501970200989.\n",
            "Train set: train Average loss: 0.4234, train_Accuracy: 40127/50000 (80.2540%)\n",
            "\n"
          ],
          "name": "stdout"
        },
        {
          "output_type": "stream",
          "text": [
            "  0%|          | 0/196 [00:00<?, ?it/s]"
          ],
          "name": "stderr"
        },
        {
          "output_type": "stream",
          "text": [
            "\n",
            "Test set: Average loss: 0.6029, Accuracy: 8048/10000 (80.4800%)\n",
            "\n"
          ],
          "name": "stdout"
        },
        {
          "output_type": "stream",
          "text": [
            "                                                                                       "
          ],
          "name": "stderr"
        },
        {
          "output_type": "stream",
          "text": [
            "Epoch: 19,LR: 0.007554581812584909.\n",
            "Train set: train Average loss: 0.6119, train_Accuracy: 40329/50000 (80.6580%)\n",
            "\n"
          ],
          "name": "stdout"
        },
        {
          "output_type": "stream",
          "text": [
            "  0%|          | 0/196 [00:00<?, ?it/s]"
          ],
          "name": "stderr"
        },
        {
          "output_type": "stream",
          "text": [
            "\n",
            "Test set: Average loss: 0.5695, Accuracy: 8152/10000 (81.5200%)\n",
            "\n"
          ],
          "name": "stdout"
        },
        {
          "output_type": "stream",
          "text": [
            "                                                                                       "
          ],
          "name": "stderr"
        },
        {
          "output_type": "stream",
          "text": [
            "Epoch: 20,LR: 0.007554581812584909.\n",
            "Train set: train Average loss: 0.4661, train_Accuracy: 40506/50000 (81.0120%)\n",
            "\n"
          ],
          "name": "stdout"
        },
        {
          "output_type": "stream",
          "text": [
            "  0%|          | 0/196 [00:00<?, ?it/s]"
          ],
          "name": "stderr"
        },
        {
          "output_type": "stream",
          "text": [
            "\n",
            "Test set: Average loss: 0.5545, Accuracy: 8223/10000 (82.2300%)\n",
            "\n"
          ],
          "name": "stdout"
        },
        {
          "output_type": "stream",
          "text": [
            "                                                                                        "
          ],
          "name": "stderr"
        },
        {
          "output_type": "stream",
          "text": [
            "Epoch: 21,LR: 0.006950215267578117.\n",
            "Train set: train Average loss: 0.4653, train_Accuracy: 40648/50000 (81.2960%)\n",
            "\n"
          ],
          "name": "stdout"
        },
        {
          "output_type": "stream",
          "text": [
            "  0%|          | 0/196 [00:00<?, ?it/s]"
          ],
          "name": "stderr"
        },
        {
          "output_type": "stream",
          "text": [
            "\n",
            "Test set: Average loss: 0.5404, Accuracy: 8201/10000 (82.0100%)\n",
            "\n"
          ],
          "name": "stdout"
        },
        {
          "output_type": "stream",
          "text": [
            "                                                                                       "
          ],
          "name": "stderr"
        },
        {
          "output_type": "stream",
          "text": [
            "Epoch: 22,LR: 0.006950215267578117.\n",
            "Train set: train Average loss: 0.6823, train_Accuracy: 40842/50000 (81.6840%)\n",
            "\n"
          ],
          "name": "stdout"
        },
        {
          "output_type": "stream",
          "text": [
            "  0%|          | 0/196 [00:00<?, ?it/s]"
          ],
          "name": "stderr"
        },
        {
          "output_type": "stream",
          "text": [
            "\n",
            "Test set: Average loss: 0.5471, Accuracy: 8243/10000 (82.4300%)\n",
            "\n"
          ],
          "name": "stdout"
        },
        {
          "output_type": "stream",
          "text": [
            "                                                                                       "
          ],
          "name": "stderr"
        },
        {
          "output_type": "stream",
          "text": [
            "Epoch: 23,LR: 0.006394198046171868.\n",
            "Train set: train Average loss: 0.7008, train_Accuracy: 41097/50000 (82.1940%)\n",
            "\n"
          ],
          "name": "stdout"
        },
        {
          "output_type": "stream",
          "text": [
            "  0%|          | 0/196 [00:00<?, ?it/s]"
          ],
          "name": "stderr"
        },
        {
          "output_type": "stream",
          "text": [
            "\n",
            "Test set: Average loss: 0.5576, Accuracy: 8229/10000 (82.2900%)\n",
            "\n"
          ],
          "name": "stdout"
        },
        {
          "output_type": "stream",
          "text": [
            "                                                                                       "
          ],
          "name": "stderr"
        },
        {
          "output_type": "stream",
          "text": [
            "Epoch: 24,LR: 0.006394198046171868.\n",
            "Train set: train Average loss: 0.7009, train_Accuracy: 41113/50000 (82.2260%)\n",
            "\n"
          ],
          "name": "stdout"
        },
        {
          "output_type": "stream",
          "text": [
            "  0%|          | 0/196 [00:00<?, ?it/s]"
          ],
          "name": "stderr"
        },
        {
          "output_type": "stream",
          "text": [
            "\n",
            "Test set: Average loss: 0.5459, Accuracy: 8221/10000 (82.2100%)\n",
            "\n"
          ],
          "name": "stdout"
        },
        {
          "output_type": "stream",
          "text": [
            "                                                                                        "
          ],
          "name": "stderr"
        },
        {
          "output_type": "stream",
          "text": [
            "Epoch: 25,LR: 0.005882662202478119.\n",
            "Train set: train Average loss: 0.4471, train_Accuracy: 41292/50000 (82.5840%)\n",
            "\n"
          ],
          "name": "stdout"
        },
        {
          "output_type": "stream",
          "text": [
            "\r"
          ],
          "name": "stderr"
        },
        {
          "output_type": "stream",
          "text": [
            "\n",
            "Test set: Average loss: 0.5437, Accuracy: 8257/10000 (82.5700%)\n",
            "\n"
          ],
          "name": "stdout"
        }
      ]
    },
    {
      "cell_type": "code",
      "metadata": {
        "id": "-m8cVYkb1-uU",
        "colab_type": "code",
        "colab": {
          "base_uri": "https://localhost:8080/",
          "height": 295
        },
        "outputId": "b33f3832-81b7-43e0-d9df-0d252a7151e0"
      },
      "source": [
        "import matplotlib.pyplot as plt\n",
        "\n",
        "x = [i for i in range(1,26)]\n",
        "y = loss_test\n",
        "Modelgraph = ['GBN']\n",
        "\n",
        "plt.title(\"Validation loss graph\")\n",
        "plt.xlabel(\"Epochs\")\n",
        "plt.ylabel(\"Validation loss\")\n",
        "#plt.figure(figsize=(10,10))\n",
        "\n",
        "for i in range(len(y)):\n",
        "    plt.plot(x,y[i],label = 'id %s'%Modelgraph[i])\n",
        "\n",
        "plt.legend()\n",
        "#plt.show()\n",
        "plt.savefig('Validation loss graph')"
      ],
      "execution_count": 24,
      "outputs": [
        {
          "output_type": "display_data",
          "data": {
            "image/png": "[encoded data removed]",
            "text/plain": [
              "<Figure size 432x288 with 1 Axes>"
            ]
          },
          "metadata": {
            "tags": [],
            "needs_background": "light"
          }
        }
      ]
    },
    {
      "cell_type": "code",
      "metadata": {
        "id": "Ze1caWQ55P4K",
        "colab_type": "code",
        "colab": {
          "base_uri": "https://localhost:8080/",
          "height": 312
        },
        "outputId": "99e6c4ec-c9dd-4e3f-c649-f0dd9412d8cd"
      },
      "source": [
        "import matplotlib.pyplot as plt\n",
        "\n",
        "x = [i for i in range(1,26)]\n",
        "y = accu\n",
        "Modelgraph = ['GBN']\n",
        "\n",
        "\n",
        "plt.title(\"Validation Accuracy graph\")\n",
        "plt.xlabel(\"Epochs\")\n",
        "plt.ylabel(\"Validation Accuracy\")\n",
        "\n",
        "\n",
        "for i in range(len(y)):\n",
        "    plt.plot(x,y[i],label = 'id %s'%Modelgraph[i])\n",
        "\n",
        "plt.legend()\n",
        "plt.show()\n",
        "plt.savefig('Validation Accuracy graph_')"
      ],
      "execution_count": 25,
      "outputs": [
        {
          "output_type": "display_data",
          "data": {
            "image/png": "[encoded data removed]",
            "text/plain": [
              "<Figure size 432x288 with 1 Axes>"
            ]
          },
          "metadata": {
            "tags": [],
            "needs_background": "light"
          }
        },
        {
          "output_type": "display_data",
          "data": {
            "text/plain": [
              "<Figure size 432x288 with 0 Axes>"
            ]
          },
          "metadata": {
            "tags": []
          }
        }
      ]
    }
  ]
}