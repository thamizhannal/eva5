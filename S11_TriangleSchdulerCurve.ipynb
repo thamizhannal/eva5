{
  "nbformat": 4,
  "nbformat_minor": 0,
  "metadata": {
    "colab": {
      "name": "Welcome to Colaboratory",
      "provenance": [],
      "collapsed_sections": [],
      "include_colab_link": true
    },
    "kernelspec": {
      "display_name": "Python 3",
      "name": "python3"
    }
  },
  "cells": [
    {
      "cell_type": "markdown",
      "metadata": {
        "id": "view-in-github",
        "colab_type": "text"
      },
      "source": [
        "<a href=\"https://colab.research.google.com/github/thamizhannal/eva5/blob/master/S11_TriangleSchdulerCurve.ipynb\" target=\"_parent\"><img src=\"https://colab.research.google.com/assets/colab-badge.svg\" alt=\"Open In Colab\"/></a>"
      ]
    },
    {
      "cell_type": "code",
      "metadata": {
        "id": "u3joIIBoooBK"
      },
      "source": [
        "import numpy as np\n",
        "import matplotlib.pyplot as plt\n",
        "#from curlyBrace import curlyBrace\n",
        "import os\n",
        "\n",
        "def clr(lr_min,lr_max,x):\n",
        "  \"\"\" return lr rate at a x \"\"\"\n",
        "  lr = lr_min + (lr_max-lr_min) * (1-x)\n",
        "  return lr\n",
        "\n",
        "def fn_x(iteration, stepsize):\n",
        "  \"\"\" get x for iteration at stepsize\"\"\"\n",
        "  cycle = np.floor(1+(iteration/stepsize)/2)\n",
        "  temp = (iteration/stepsize) - 2* cycle + 1\n",
        "  x = np.abs(temp)\n",
        "  return x"
      ],
      "execution_count": 19,
      "outputs": []
    },
    {
      "cell_type": "code",
      "metadata": {
        "id": "8jRd0ysZCdiq",
        "outputId": "6860f151-b423-40a4-a340-0e7b692f2160",
        "colab": {
          "base_uri": "https://localhost:8080/",
          "height": 104
        }
      },
      "source": [
        "! git clone https://github.com/iruletheworld/matplotlib-curly-brace"
      ],
      "execution_count": 40,
      "outputs": [
        {
          "output_type": "stream",
          "text": [
            "Cloning into 'matplotlib-curly-brace'...\n",
            "remote: Enumerating objects: 357, done.\u001b[K\n",
            "remote: Total 357 (delta 0), reused 0 (delta 0), pack-reused 357\u001b[K\n",
            "Receiving objects: 100% (357/357), 8.33 MiB | 29.92 MiB/s, done.\n",
            "Resolving deltas: 100% (149/149), done.\n"
          ],
          "name": "stdout"
        }
      ]
    },
    {
      "cell_type": "code",
      "metadata": {
        "id": "DEBkrpCq9W36"
      },
      "source": [
        "def bracket(ax, pos=[0,0], scalex=1, scaley=1, text=\"\",textkw = {}, linekw = {}):\n",
        "    x = np.array([0, 5, 990,1000])\n",
        "    y = np.array([0,-0.05,-0.05,-0.1])\n",
        "    x = np.concatenate((x,x+0.5)) \n",
        "    y = np.concatenate((y,y[::-1]))\n",
        "    ax.plot(x*scalex+pos[0], y*scaley+pos[1], clip_on=False, \n",
        "            transform=ax.get_xaxis_transform(), **linekw)\n",
        "    ax.text(pos[0]+0.5*scalex, (y.min()-0.01)*scaley+pos[1], text, \n",
        "                transform=ax.get_xaxis_transform(),\n",
        "                ha=\"center\", va=\"top\", **textkw)"
      ],
      "execution_count": 33,
      "outputs": []
    },
    {
      "cell_type": "code",
      "metadata": {
        "id": "dxqYApyFoof0",
        "outputId": "a545b928-736a-45fc-a2e3-c91ef24d76e4",
        "colab": {
          "base_uri": "https://localhost:8080/",
          "height": 298
        }
      },
      "source": [
        "\n",
        "x = []\n",
        "y = [] \n",
        "\n",
        "for i in range(1,2000):\n",
        "  t = fn_x(iteration=i, stepsize=500)\n",
        "  x.append(t)\n",
        "  y.append(clr(lr_min=.01,lr_max=.1,x=t))\n",
        "\n",
        "plt.title(\"Triangular Schedule\")\n",
        "plt.text(0, 0.01, r'min_lr')\n",
        "plt.text(0, 0.10, r'max_lr')\n",
        "plt.text(0, 0.01, r'min_lr')\n",
        "plt.plot(range(1,2000),y)\n"
      ],
      "execution_count": 41,
      "outputs": [
        {
          "output_type": "execute_result",
          "data": {
            "text/plain": [
              "Text(0.5, 1.0, 'Triangular Schedule')"
            ]
          },
          "metadata": {
            "tags": []
          },
          "execution_count": 41
        },
        {
          "output_type": "display_data",
          "data": {
            "image/png": "[encoded data removed]",
            "text/plain": [
              "<Figure size 432x288 with 1 Axes>"
            ]
          },
          "metadata": {
            "tags": [],
            "needs_background": "light"
          }
        }
      ]
    },
    {
      "cell_type": "code",
      "metadata": {
        "id": "yigdzTzQosNn"
      },
      "source": [
        ""
      ],
      "execution_count": null,
      "outputs": []
    }
  ]
}