{
  "nbformat": 4,
  "nbformat_minor": 0,
  "metadata": {
    "colab": {
      "name": "EVA4Session2_v3_4_2.ipynb",
      "provenance": [],
      "collapsed_sections": [],
      "include_colab_link": true
    },
    "kernelspec": {
      "name": "python3",
      "display_name": "Python 3"
    },
    "accelerator": "GPU"
  },
  "cells": [
    {
      "cell_type": "markdown",
      "metadata": {
        "id": "view-in-github",
        "colab_type": "text"
      },
      "source": [
        "<a href=\"https://colab.research.google.com/github/thamizhannal/eva5/blob/master/EVA4Session2_v3_4_2.ipynb\" target=\"_parent\"><img src=\"https://colab.research.google.com/assets/colab-badge.svg\" alt=\"Open In Colab\"/></a>"
      ]
    },
    {
      "cell_type": "markdown",
      "metadata": {
        "id": "Sy8xCpCoYWk3",
        "colab_type": "text"
      },
      "source": [
        "### EVA4: Session4 Assignment\n",
        "\n",
        "Refer to this code: COLABLINK https://colab.research.google.com/drive/1uJZvJdi5VprOQHROtJIHy0mnY2afjNlx <br>\n",
        "WRITE IT AGAIN SUCH THAT IT ACHIEVES <br> \n",
        "*  99.4% validation accuracy <br>\n",
        "*  Less than 20k Parameters <br>\n",
        "*  You can use anything from above you want.  <br>\n",
        "*  Less than 20 Epochs <br>\n",
        "*  No fully connected layer <br>\n",
        "*  To learn how to add different things we covered in this session, you can refer to this code: https://www.kaggle.com/enwei26/mnist-digits-pytorch-cnn-99 DONT COPY ARCHITECTURE, JUST LEARN HOW TO INTEGRATE THINGS LIKE DROPOUT, BATCHNORM, ETC. <br>\n",
        "\n",
        "\n"
      ]
    },
    {
      "cell_type": "markdown",
      "metadata": {
        "id": "zVfPyc_sY9yA",
        "colab_type": "text"
      },
      "source": [
        "#### **DNN Approch & Architecture:**\n",
        "**Input DataSet:** MNIST dataset is consist of human hand written monochrome images of size 28x28. Our objective is to detect human hand written digits using simple DNN. \n",
        "\n",
        "**Network Architecture:**\n",
        "We chosen to experiment squeeze & expansion arcitecture to detect numbers in MINIST dataset. This architecute consist of convolution blocks followed by transition blocks. \n",
        "\n",
        "**Convolution Block:**\n",
        "In convolution block, we use convolution layers that consist of kernels of size in incremental order e.g 8, 16, 20.  \n",
        "\n",
        "**Transition Block:**\n",
        "In transition block, we reduced num of kernel size to 8 from 20. \n",
        "After convolution block, we applied 1x1 convolution in trasition block that helped us to reduce num of kernels. This is squeeze operation. \n",
        "\n",
        "\n",
        "**Edges and Gradients:** Since input images are small in size, our network can expected extract edges and gradients at the Receptive Fields of 5-7. It is required to have 2-3 convolution layers to detect edges & graidents\n",
        "\n",
        "**Max Pooling:** It filters out least importenet features and sends out most importent features to consecutive layers for prediction.\n",
        "\n",
        "**1x1 convolution** \n",
        "\n",
        "**BatchNormalization**\n",
        "We applied batch normalization after every convolution(cond2d()). BN helped us to standardize the input to a convloution layer for every mini-batch. This stablizes the learning process and also accelerates the DNN training.\n",
        "\n",
        "**AvgPooling**\n",
        "We applied AvgPooling in before prediction that calculates the average value for each pixel on the feature map.\n",
        "\n",
        "**Early Stopping**\n",
        "If validation accuracy is not improving for more than 10 epoch we stopped trainings\n",
        "\n",
        "**Train Vs Validation Plot**\n",
        "We captured train loss, train accuracy, validation loss & validation accuracies for all epochs and plotted a) train vs validation loss plot and b) train vs validation loss plots. These helps us to figure out gap between train vs validation loss & accuracies.\n",
        "\n",
        "\n",
        "\n",
        "\n"
      ]
    },
    {
      "cell_type": "code",
      "metadata": {
        "id": "cVyVVW47YcCt",
        "colab_type": "code",
        "colab": {}
      },
      "source": [
        "from __future__ import print_function\n",
        "import torch\n",
        "import torch.nn as nn \n",
        "import torch.nn.functional as F\n",
        "import torch.optim as optim\n",
        "from torchvision import datasets, transforms"
      ],
      "execution_count": 36,
      "outputs": []
    },
    {
      "cell_type": "code",
      "metadata": {
        "id": "FqrLhiEi5iPT",
        "colab_type": "code",
        "colab": {
          "base_uri": "https://localhost:8080/",
          "height": 33
        },
        "outputId": "1ee48a29-5df8-42b1-9e62-e1c5517f1b48"
      },
      "source": [
        "!pip install torchsummary\n",
        "from torchsummary import summary\n"
      ],
      "execution_count": 37,
      "outputs": [
        {
          "output_type": "stream",
          "text": [
            "Requirement already satisfied: torchsummary in /usr/local/lib/python3.6/dist-packages (1.5.1)\n"
          ],
          "name": "stdout"
        }
      ]
    },
    {
      "cell_type": "code",
      "metadata": {
        "id": "h_Cx9q2QFgM7",
        "colab_type": "code",
        "colab": {}
      },
      "source": [
        "class Net(nn.Module):\n",
        "    def __init__(self):\n",
        "        super(Net, self).__init__()\n",
        "\n",
        "        # Convolution Block-1 ###################################\n",
        "        # Input:28x28  Outout:26x26 RF:3x3\n",
        "        self.conv1 = nn.Conv2d(in_channels = 1, out_channels=8, kernel_size=3, padding=0) \n",
        "        self.bn1 = nn.BatchNorm2d(8)\n",
        "        \n",
        "        # Input:26x26  Outout:24x24 RF:5x5\n",
        "        self.conv2 = nn.Conv2d(in_channels = 8, out_channels=16, kernel_size=3, padding=0) \n",
        "        self.bn2 = nn.BatchNorm2d(16)\n",
        "\n",
        "        # Input:24x24  Outout:22x22 RF:7x7\n",
        "        self.conv3 = nn.Conv2d(in_channels = 16, out_channels=20, kernel_size=3, padding=0) \n",
        "        self.bn3 = nn.BatchNorm2d(20)\n",
        "        \n",
        "        # Transition Block-1 #######################################\n",
        "        # Input:22x22  Outout:11x11 RF:14x14\n",
        "        self.pool1 = nn.MaxPool2d(kernel_size=2)\n",
        "        # Input:11x11  Outout:11x11 RF:14x14\n",
        "        self.conv4 = nn.Conv2d(in_channels = 20, out_channels=8, kernel_size=1, padding=0)\n",
        "        self.bn4 = nn.BatchNorm2d(8)\n",
        "        \n",
        "        # Convolution Block-2 #########################################\n",
        "        # Input:11x11  Outout:9x9 RF:16x16\n",
        "        self.conv5 = nn.Conv2d(in_channels = 8, out_channels=16, kernel_size=3, padding=0)\n",
        "        self.bn5 = nn.BatchNorm2d(16)\n",
        "        \n",
        "        # Input:9x9  Outout:7x7 RF:18x18\n",
        "        self.conv6 = nn.Conv2d(in_channels = 16, out_channels=20, kernel_size=3, padding=0) # nn.Conv2d(in_channels=24, out_channels=16, kernel_size=1, padding=1)\n",
        "        self.bn6 = nn.BatchNorm2d(20)\n",
        "        \n",
        "        # Transition Block-2 #############################################\n",
        "        # Input: 7x7  Outout:3x3 RF:18x18\n",
        "        self.pool2 = nn.AvgPool2d(kernel_size=2)\n",
        "\n",
        "        # Final Prediction\n",
        "        # Input:9x9  Outout:1x1 RF:21x21\n",
        "        self.conv7 = nn.Conv2d(in_channels=20, out_channels=10, kernel_size=3)\n",
        "        \n",
        "\n",
        "    def forward(self, x):\n",
        "        x = self.pool1(F.relu(self.bn3(self.conv3(F.relu(self.bn2(self.conv2(F.relu(self.bn1(self.conv1(x))))))))))\n",
        "        x = self.pool2(F.relu(self.bn6(self.conv6(F.relu(F.relu(self.bn5(self.conv5(F.relu(self.bn4(self.conv4(x)))))))))))\n",
        "        x = self.conv7(x)\n",
        "        x = x.view(-1, 10)\n",
        "        return F.log_softmax(x)"
      ],
      "execution_count": 38,
      "outputs": []
    },
    {
      "cell_type": "code",
      "metadata": {
        "colab_type": "code",
        "id": "xdydjYTZFyi3",
        "colab": {
          "base_uri": "https://localhost:8080/",
          "height": 522
        },
        "outputId": "32ac7053-701f-4f94-e834-5c7bac168cfa"
      },
      "source": [
        "use_cuda = torch.cuda.is_available()\n",
        "device = torch.device(\"cuda\" if use_cuda else \"cpu\")\n",
        "model = Net().to(device)\n",
        "summary(model, input_size=(1, 28, 28))"
      ],
      "execution_count": 39,
      "outputs": [
        {
          "output_type": "stream",
          "text": [
            "----------------------------------------------------------------\n",
            "        Layer (type)               Output Shape         Param #\n",
            "================================================================\n",
            "            Conv2d-1            [-1, 8, 26, 26]              80\n",
            "       BatchNorm2d-2            [-1, 8, 26, 26]              16\n",
            "            Conv2d-3           [-1, 16, 24, 24]           1,168\n",
            "       BatchNorm2d-4           [-1, 16, 24, 24]              32\n",
            "            Conv2d-5           [-1, 20, 22, 22]           2,900\n",
            "       BatchNorm2d-6           [-1, 20, 22, 22]              40\n",
            "         MaxPool2d-7           [-1, 20, 11, 11]               0\n",
            "            Conv2d-8            [-1, 8, 11, 11]             168\n",
            "       BatchNorm2d-9            [-1, 8, 11, 11]              16\n",
            "           Conv2d-10             [-1, 16, 9, 9]           1,168\n",
            "      BatchNorm2d-11             [-1, 16, 9, 9]              32\n",
            "           Conv2d-12             [-1, 20, 7, 7]           2,900\n",
            "      BatchNorm2d-13             [-1, 20, 7, 7]              40\n",
            "        AvgPool2d-14             [-1, 20, 3, 3]               0\n",
            "           Conv2d-15             [-1, 10, 1, 1]           1,810\n",
            "================================================================\n",
            "Total params: 10,370\n",
            "Trainable params: 10,370\n",
            "Non-trainable params: 0\n",
            "----------------------------------------------------------------\n",
            "Input size (MB): 0.00\n",
            "Forward/backward pass size (MB): 0.44\n",
            "Params size (MB): 0.04\n",
            "Estimated Total Size (MB): 0.48\n",
            "----------------------------------------------------------------\n"
          ],
          "name": "stdout"
        },
        {
          "output_type": "stream",
          "text": [
            "/usr/local/lib/python3.6/dist-packages/ipykernel_launcher.py:57: UserWarning: Implicit dimension choice for log_softmax has been deprecated. Change the call to include dim=X as an argument.\n"
          ],
          "name": "stderr"
        }
      ]
    },
    {
      "cell_type": "code",
      "metadata": {
        "id": "DqTWLaM5GHgH",
        "colab_type": "code",
        "colab": {}
      },
      "source": [
        "\n",
        "torch.manual_seed(1)\n",
        "batch_size = 32\n",
        "\n",
        "kwargs = {'num_workers': 1, 'pin_memory': True} if use_cuda else {}\n",
        "train_loader = torch.utils.data.DataLoader(\n",
        "    datasets.MNIST('../data', train=True, download=True,\n",
        "                    transform=transforms.Compose([\n",
        "                        transforms.ToTensor(),\n",
        "                        transforms.Normalize((0.1307,), (0.3081,))\n",
        "                    ])),\n",
        "    batch_size=batch_size, shuffle=True, **kwargs)\n",
        "test_loader = torch.utils.data.DataLoader(\n",
        "    datasets.MNIST('../data', train=False, transform=transforms.Compose([\n",
        "                        transforms.ToTensor(),\n",
        "                        transforms.Normalize((0.1307,), (0.3081,))\n",
        "                    ])),\n",
        "    batch_size=batch_size, shuffle=True, **kwargs)\n"
      ],
      "execution_count": 40,
      "outputs": []
    },
    {
      "cell_type": "code",
      "metadata": {
        "id": "8fDefDhaFlwH",
        "colab_type": "code",
        "colab": {}
      },
      "source": [
        "from tqdm import tqdm\n",
        "train_losses, val_losses = [], []\n",
        "train_accuracy, val_accuracy = [], []\n",
        "def train(model, device, train_loader, optimizer, epoch):\n",
        "    train_loss = 0\n",
        "    train_correct = 0\n",
        "    train_acc = 0\n",
        "    model.train()\n",
        "    pbar = tqdm(train_loader)\n",
        "    for batch_idx, (data, target) in enumerate(pbar):\n",
        "        data, target = data.to(device), target.to(device)\n",
        "        optimizer.zero_grad()\n",
        "        output = model(data)\n",
        "        loss = F.nll_loss(output, target)\n",
        "        loss.backward()\n",
        "        optimizer.step()\n",
        "        #pbar.set_description(desc= f'loss={loss.item()} batch_id={batch_idx}')\n",
        "        \n",
        "        train_loss += F.nll_loss(output, target, reduction='sum').item()  # sum up batch loss\n",
        "        train_pred = output.argmax(dim=1, keepdim=True)  # get the index of the max log-probability\n",
        "        train_correct += train_pred.eq(target.view_as(train_pred)).sum().item()\n",
        "\n",
        "    train_loss /= len(train_loader.dataset)\n",
        "    train_acc = 100. * train_correct / len(train_loader.dataset)\n",
        "    train_losses.append(train_loss)\n",
        "    train_accuracy.append(train_acc)\n",
        "\n",
        "    print('\\nTrain Set: Average loss: {:.4f}, Accuracy: {}/{} ({:.2f}%)'.format(\n",
        "        train_loss, train_correct, len(train_loader.dataset),\n",
        "        100. * train_correct / len(train_loader.dataset)))\n",
        "       \n",
        "def test(model, device, test_loader):\n",
        "    model.eval()\n",
        "    test_loss = 0\n",
        "    correct = 0\n",
        "    with torch.no_grad():\n",
        "        for data, target in test_loader:\n",
        "            data, target = data.to(device), target.to(device)\n",
        "            output = model(data)\n",
        "            test_loss += F.nll_loss(output, target, reduction='sum').item()  # sum up batch loss\n",
        "            pred = output.argmax(dim=1, keepdim=True)  # get the index of the max log-probability\n",
        "            correct += pred.eq(target.view_as(pred)).sum().item()\n",
        "\n",
        "    test_loss /= len(test_loader.dataset)\n",
        "    val_acc = 100. * correct / len(test_loader.dataset)\n",
        "    val_losses.append(test_loss)\n",
        "    val_accuracy.append(val_acc)\n",
        "\n",
        "    print('\\nTest set: Average loss: {:.4f}, Accuracy: {}/{} ({:.2f}%)'.format(\n",
        "        test_loss, correct, len(test_loader.dataset),\n",
        "        100. * correct / len(test_loader.dataset)))"
      ],
      "execution_count": 41,
      "outputs": []
    },
    {
      "cell_type": "code",
      "metadata": {
        "id": "MMWbLWO6FuHb",
        "colab_type": "code",
        "colab": {
          "base_uri": "https://localhost:8080/",
          "height": 1000
        },
        "outputId": "ba4c4945-9680-4394-e4a8-8872512e3555"
      },
      "source": [
        "import time\n",
        "import copy \n",
        "start_time = time.time()\n",
        "early_stop_counter = 10   # stop when the validation loss does not improve for 10 iterations to prevent overfitting\n",
        "counter = 0\n",
        "best_val_loss = float('Inf')\n",
        "\n",
        "model = Net().to(device)\n",
        "optimizer = optim.SGD(model.parameters(), lr=0.01, momentum=0.9)\n",
        "# We train DNN for 20 epochs, here value 21 is exclusive. \n",
        "for epoch in range(1, 21):\n",
        "    print(\"\\nepoch:{}\".format(epoch))\n",
        "    train(model, device, train_loader, optimizer, epoch)\n",
        "    test(model, device, test_loader)\n",
        "\n",
        "    # Early Stop, if validation accuracy does not improves.\n",
        "    if val_losses[-1] < best_val_loss:\n",
        "        best_val_loss = val_losses[-1]\n",
        "        counter=0\n",
        "        best_model_weights = copy.deepcopy(model.state_dict())\n",
        "    else:\n",
        "        counter+=1\n",
        "        print('Validation loss has not improved since: {:.3f}..'.format(best_val_loss), 'Count: ', str(counter))\n",
        "        if counter >= early_stop_counter:\n",
        "            print('Early Stopping Now!!!!')\n",
        "            model.load_state_dict(best_model_weights)\n",
        "            break    \n",
        "    \n",
        "\n",
        "    \n",
        "        "
      ],
      "execution_count": 42,
      "outputs": [
        {
          "output_type": "stream",
          "text": [
            "\r  0%|          | 0/1875 [00:00<?, ?it/s]"
          ],
          "name": "stderr"
        },
        {
          "output_type": "stream",
          "text": [
            "\n",
            "epoch:1\n"
          ],
          "name": "stdout"
        },
        {
          "output_type": "stream",
          "text": [
            "/usr/local/lib/python3.6/dist-packages/ipykernel_launcher.py:57: UserWarning: Implicit dimension choice for log_softmax has been deprecated. Change the call to include dim=X as an argument.\n",
            "100%|██████████| 1875/1875 [00:18<00:00, 99.83it/s] "
          ],
          "name": "stderr"
        },
        {
          "output_type": "stream",
          "text": [
            "\n",
            "Train Set: Average loss: 0.1162, Accuracy: 58018/60000 (96.70%)\n"
          ],
          "name": "stdout"
        },
        {
          "output_type": "stream",
          "text": [
            "\n",
            "  0%|          | 0/1875 [00:00<?, ?it/s]"
          ],
          "name": "stderr"
        },
        {
          "output_type": "stream",
          "text": [
            "\n",
            "Test set: Average loss: 0.0403, Accuracy: 9871/10000 (98.71%)\n",
            "\n",
            "epoch:2\n"
          ],
          "name": "stdout"
        },
        {
          "output_type": "stream",
          "text": [
            "100%|██████████| 1875/1875 [00:18<00:00, 99.25it/s]"
          ],
          "name": "stderr"
        },
        {
          "output_type": "stream",
          "text": [
            "\n",
            "Train Set: Average loss: 0.0439, Accuracy: 59206/60000 (98.68%)\n"
          ],
          "name": "stdout"
        },
        {
          "output_type": "stream",
          "text": [
            "\n",
            "  0%|          | 0/1875 [00:00<?, ?it/s]"
          ],
          "name": "stderr"
        },
        {
          "output_type": "stream",
          "text": [
            "\n",
            "Test set: Average loss: 0.0365, Accuracy: 9874/10000 (98.74%)\n",
            "\n",
            "epoch:3\n"
          ],
          "name": "stdout"
        },
        {
          "output_type": "stream",
          "text": [
            "100%|██████████| 1875/1875 [00:18<00:00, 100.22it/s]"
          ],
          "name": "stderr"
        },
        {
          "output_type": "stream",
          "text": [
            "\n",
            "Train Set: Average loss: 0.0346, Accuracy: 59357/60000 (98.93%)\n"
          ],
          "name": "stdout"
        },
        {
          "output_type": "stream",
          "text": [
            "\n",
            "  0%|          | 0/1875 [00:00<?, ?it/s]"
          ],
          "name": "stderr"
        },
        {
          "output_type": "stream",
          "text": [
            "\n",
            "Test set: Average loss: 0.0287, Accuracy: 9913/10000 (99.13%)\n",
            "\n",
            "epoch:4\n"
          ],
          "name": "stdout"
        },
        {
          "output_type": "stream",
          "text": [
            "100%|██████████| 1875/1875 [00:18<00:00, 99.58it/s] "
          ],
          "name": "stderr"
        },
        {
          "output_type": "stream",
          "text": [
            "\n",
            "Train Set: Average loss: 0.0288, Accuracy: 59453/60000 (99.09%)\n"
          ],
          "name": "stdout"
        },
        {
          "output_type": "stream",
          "text": [
            "\n",
            "  0%|          | 0/1875 [00:00<?, ?it/s]"
          ],
          "name": "stderr"
        },
        {
          "output_type": "stream",
          "text": [
            "\n",
            "Test set: Average loss: 0.0221, Accuracy: 9925/10000 (99.25%)\n",
            "\n",
            "epoch:5\n"
          ],
          "name": "stdout"
        },
        {
          "output_type": "stream",
          "text": [
            "100%|██████████| 1875/1875 [00:19<00:00, 98.12it/s]"
          ],
          "name": "stderr"
        },
        {
          "output_type": "stream",
          "text": [
            "\n",
            "Train Set: Average loss: 0.0256, Accuracy: 59525/60000 (99.21%)\n"
          ],
          "name": "stdout"
        },
        {
          "output_type": "stream",
          "text": [
            "\n",
            "  0%|          | 0/1875 [00:00<?, ?it/s]"
          ],
          "name": "stderr"
        },
        {
          "output_type": "stream",
          "text": [
            "\n",
            "Test set: Average loss: 0.0231, Accuracy: 9925/10000 (99.25%)\n",
            "Validation loss has not improved since: 0.022.. Count:  1\n",
            "\n",
            "epoch:6\n"
          ],
          "name": "stdout"
        },
        {
          "output_type": "stream",
          "text": [
            "100%|██████████| 1875/1875 [00:19<00:00, 98.64it/s] "
          ],
          "name": "stderr"
        },
        {
          "output_type": "stream",
          "text": [
            "\n",
            "Train Set: Average loss: 0.0233, Accuracy: 59563/60000 (99.27%)\n"
          ],
          "name": "stdout"
        },
        {
          "output_type": "stream",
          "text": [
            "\n",
            "  0%|          | 0/1875 [00:00<?, ?it/s]"
          ],
          "name": "stderr"
        },
        {
          "output_type": "stream",
          "text": [
            "\n",
            "Test set: Average loss: 0.0299, Accuracy: 9913/10000 (99.13%)\n",
            "Validation loss has not improved since: 0.022.. Count:  2\n",
            "\n",
            "epoch:7\n"
          ],
          "name": "stdout"
        },
        {
          "output_type": "stream",
          "text": [
            "100%|██████████| 1875/1875 [00:18<00:00, 99.20it/s]"
          ],
          "name": "stderr"
        },
        {
          "output_type": "stream",
          "text": [
            "\n",
            "Train Set: Average loss: 0.0209, Accuracy: 59612/60000 (99.35%)\n"
          ],
          "name": "stdout"
        },
        {
          "output_type": "stream",
          "text": [
            "\n",
            "  0%|          | 0/1875 [00:00<?, ?it/s]"
          ],
          "name": "stderr"
        },
        {
          "output_type": "stream",
          "text": [
            "\n",
            "Test set: Average loss: 0.0226, Accuracy: 9930/10000 (99.30%)\n",
            "Validation loss has not improved since: 0.022.. Count:  3\n",
            "\n",
            "epoch:8\n"
          ],
          "name": "stdout"
        },
        {
          "output_type": "stream",
          "text": [
            "100%|██████████| 1875/1875 [00:18<00:00, 99.82it/s] "
          ],
          "name": "stderr"
        },
        {
          "output_type": "stream",
          "text": [
            "\n",
            "Train Set: Average loss: 0.0187, Accuracy: 59657/60000 (99.43%)\n"
          ],
          "name": "stdout"
        },
        {
          "output_type": "stream",
          "text": [
            "\n",
            "  0%|          | 0/1875 [00:00<?, ?it/s]"
          ],
          "name": "stderr"
        },
        {
          "output_type": "stream",
          "text": [
            "\n",
            "Test set: Average loss: 0.0241, Accuracy: 9922/10000 (99.22%)\n",
            "Validation loss has not improved since: 0.022.. Count:  4\n",
            "\n",
            "epoch:9\n"
          ],
          "name": "stdout"
        },
        {
          "output_type": "stream",
          "text": [
            "100%|██████████| 1875/1875 [00:18<00:00, 100.33it/s]"
          ],
          "name": "stderr"
        },
        {
          "output_type": "stream",
          "text": [
            "\n",
            "Train Set: Average loss: 0.0169, Accuracy: 59658/60000 (99.43%)\n"
          ],
          "name": "stdout"
        },
        {
          "output_type": "stream",
          "text": [
            "\n",
            "  0%|          | 0/1875 [00:00<?, ?it/s]"
          ],
          "name": "stderr"
        },
        {
          "output_type": "stream",
          "text": [
            "\n",
            "Test set: Average loss: 0.0202, Accuracy: 9932/10000 (99.32%)\n",
            "\n",
            "epoch:10\n"
          ],
          "name": "stdout"
        },
        {
          "output_type": "stream",
          "text": [
            "100%|██████████| 1875/1875 [00:18<00:00, 100.63it/s]"
          ],
          "name": "stderr"
        },
        {
          "output_type": "stream",
          "text": [
            "\n",
            "Train Set: Average loss: 0.0160, Accuracy: 59691/60000 (99.48%)\n"
          ],
          "name": "stdout"
        },
        {
          "output_type": "stream",
          "text": [
            "\n",
            "  0%|          | 0/1875 [00:00<?, ?it/s]"
          ],
          "name": "stderr"
        },
        {
          "output_type": "stream",
          "text": [
            "\n",
            "Test set: Average loss: 0.0198, Accuracy: 9935/10000 (99.35%)\n",
            "\n",
            "epoch:11\n"
          ],
          "name": "stdout"
        },
        {
          "output_type": "stream",
          "text": [
            "100%|██████████| 1875/1875 [00:18<00:00, 101.04it/s]"
          ],
          "name": "stderr"
        },
        {
          "output_type": "stream",
          "text": [
            "\n",
            "Train Set: Average loss: 0.0138, Accuracy: 59753/60000 (99.59%)\n"
          ],
          "name": "stdout"
        },
        {
          "output_type": "stream",
          "text": [
            "\n",
            "  0%|          | 0/1875 [00:00<?, ?it/s]"
          ],
          "name": "stderr"
        },
        {
          "output_type": "stream",
          "text": [
            "\n",
            "Test set: Average loss: 0.0192, Accuracy: 9949/10000 (99.49%)\n",
            "\n",
            "epoch:12\n"
          ],
          "name": "stdout"
        },
        {
          "output_type": "stream",
          "text": [
            "100%|██████████| 1875/1875 [00:18<00:00, 101.43it/s]"
          ],
          "name": "stderr"
        },
        {
          "output_type": "stream",
          "text": [
            "\n",
            "Train Set: Average loss: 0.0140, Accuracy: 59737/60000 (99.56%)\n"
          ],
          "name": "stdout"
        },
        {
          "output_type": "stream",
          "text": [
            "\n",
            "  0%|          | 0/1875 [00:00<?, ?it/s]"
          ],
          "name": "stderr"
        },
        {
          "output_type": "stream",
          "text": [
            "\n",
            "Test set: Average loss: 0.0254, Accuracy: 9919/10000 (99.19%)\n",
            "Validation loss has not improved since: 0.019.. Count:  1\n",
            "\n",
            "epoch:13\n"
          ],
          "name": "stdout"
        },
        {
          "output_type": "stream",
          "text": [
            "100%|██████████| 1875/1875 [00:18<00:00, 101.94it/s]"
          ],
          "name": "stderr"
        },
        {
          "output_type": "stream",
          "text": [
            "\n",
            "Train Set: Average loss: 0.0120, Accuracy: 59789/60000 (99.65%)\n"
          ],
          "name": "stdout"
        },
        {
          "output_type": "stream",
          "text": [
            "\n",
            "  0%|          | 0/1875 [00:00<?, ?it/s]"
          ],
          "name": "stderr"
        },
        {
          "output_type": "stream",
          "text": [
            "\n",
            "Test set: Average loss: 0.0292, Accuracy: 9913/10000 (99.13%)\n",
            "Validation loss has not improved since: 0.019.. Count:  2\n",
            "\n",
            "epoch:14\n"
          ],
          "name": "stdout"
        },
        {
          "output_type": "stream",
          "text": [
            "100%|██████████| 1875/1875 [00:18<00:00, 102.30it/s]"
          ],
          "name": "stderr"
        },
        {
          "output_type": "stream",
          "text": [
            "\n",
            "Train Set: Average loss: 0.0111, Accuracy: 59790/60000 (99.65%)\n"
          ],
          "name": "stdout"
        },
        {
          "output_type": "stream",
          "text": [
            "\n",
            "  0%|          | 0/1875 [00:00<?, ?it/s]"
          ],
          "name": "stderr"
        },
        {
          "output_type": "stream",
          "text": [
            "\n",
            "Test set: Average loss: 0.0193, Accuracy: 9933/10000 (99.33%)\n",
            "Validation loss has not improved since: 0.019.. Count:  3\n",
            "\n",
            "epoch:15\n"
          ],
          "name": "stdout"
        },
        {
          "output_type": "stream",
          "text": [
            "100%|██████████| 1875/1875 [00:18<00:00, 102.04it/s]"
          ],
          "name": "stderr"
        },
        {
          "output_type": "stream",
          "text": [
            "\n",
            "Train Set: Average loss: 0.0109, Accuracy: 59800/60000 (99.67%)\n"
          ],
          "name": "stdout"
        },
        {
          "output_type": "stream",
          "text": [
            "\n",
            "  0%|          | 0/1875 [00:00<?, ?it/s]"
          ],
          "name": "stderr"
        },
        {
          "output_type": "stream",
          "text": [
            "\n",
            "Test set: Average loss: 0.0220, Accuracy: 9941/10000 (99.41%)\n",
            "Validation loss has not improved since: 0.019.. Count:  4\n",
            "\n",
            "epoch:16\n"
          ],
          "name": "stdout"
        },
        {
          "output_type": "stream",
          "text": [
            "100%|██████████| 1875/1875 [00:18<00:00, 102.51it/s]"
          ],
          "name": "stderr"
        },
        {
          "output_type": "stream",
          "text": [
            "\n",
            "Train Set: Average loss: 0.0093, Accuracy: 59814/60000 (99.69%)\n"
          ],
          "name": "stdout"
        },
        {
          "output_type": "stream",
          "text": [
            "\n",
            "  0%|          | 0/1875 [00:00<?, ?it/s]"
          ],
          "name": "stderr"
        },
        {
          "output_type": "stream",
          "text": [
            "\n",
            "Test set: Average loss: 0.0219, Accuracy: 9929/10000 (99.29%)\n",
            "Validation loss has not improved since: 0.019.. Count:  5\n",
            "\n",
            "epoch:17\n"
          ],
          "name": "stdout"
        },
        {
          "output_type": "stream",
          "text": [
            "100%|██████████| 1875/1875 [00:18<00:00, 101.48it/s]"
          ],
          "name": "stderr"
        },
        {
          "output_type": "stream",
          "text": [
            "\n",
            "Train Set: Average loss: 0.0098, Accuracy: 59813/60000 (99.69%)\n"
          ],
          "name": "stdout"
        },
        {
          "output_type": "stream",
          "text": [
            "\n",
            "  0%|          | 0/1875 [00:00<?, ?it/s]"
          ],
          "name": "stderr"
        },
        {
          "output_type": "stream",
          "text": [
            "\n",
            "Test set: Average loss: 0.0216, Accuracy: 9934/10000 (99.34%)\n",
            "Validation loss has not improved since: 0.019.. Count:  6\n",
            "\n",
            "epoch:18\n"
          ],
          "name": "stdout"
        },
        {
          "output_type": "stream",
          "text": [
            "100%|██████████| 1875/1875 [00:18<00:00, 102.14it/s]"
          ],
          "name": "stderr"
        },
        {
          "output_type": "stream",
          "text": [
            "\n",
            "Train Set: Average loss: 0.0091, Accuracy: 59810/60000 (99.68%)\n"
          ],
          "name": "stdout"
        },
        {
          "output_type": "stream",
          "text": [
            "\n",
            "  0%|          | 0/1875 [00:00<?, ?it/s]"
          ],
          "name": "stderr"
        },
        {
          "output_type": "stream",
          "text": [
            "\n",
            "Test set: Average loss: 0.0228, Accuracy: 9930/10000 (99.30%)\n",
            "Validation loss has not improved since: 0.019.. Count:  7\n",
            "\n",
            "epoch:19\n"
          ],
          "name": "stdout"
        },
        {
          "output_type": "stream",
          "text": [
            "100%|██████████| 1875/1875 [00:18<00:00, 100.86it/s]"
          ],
          "name": "stderr"
        },
        {
          "output_type": "stream",
          "text": [
            "\n",
            "Train Set: Average loss: 0.0081, Accuracy: 59846/60000 (99.74%)\n"
          ],
          "name": "stdout"
        },
        {
          "output_type": "stream",
          "text": [
            "\n",
            "  0%|          | 0/1875 [00:00<?, ?it/s]"
          ],
          "name": "stderr"
        },
        {
          "output_type": "stream",
          "text": [
            "\n",
            "Test set: Average loss: 0.0233, Accuracy: 9929/10000 (99.29%)\n",
            "Validation loss has not improved since: 0.019.. Count:  8\n",
            "\n",
            "epoch:20\n"
          ],
          "name": "stdout"
        },
        {
          "output_type": "stream",
          "text": [
            "100%|██████████| 1875/1875 [00:18<00:00, 101.24it/s]"
          ],
          "name": "stderr"
        },
        {
          "output_type": "stream",
          "text": [
            "\n",
            "Train Set: Average loss: 0.0075, Accuracy: 59868/60000 (99.78%)\n"
          ],
          "name": "stdout"
        },
        {
          "output_type": "stream",
          "text": [
            "\n"
          ],
          "name": "stderr"
        },
        {
          "output_type": "stream",
          "text": [
            "\n",
            "Test set: Average loss: 0.0204, Accuracy: 9930/10000 (99.30%)\n",
            "Validation loss has not improved since: 0.019.. Count:  9\n"
          ],
          "name": "stdout"
        }
      ]
    },
    {
      "cell_type": "markdown",
      "metadata": {
        "id": "athwrNON6mlj",
        "colab_type": "text"
      },
      "source": [
        "### Early Stopping ###"
      ]
    },
    {
      "cell_type": "code",
      "metadata": {
        "id": "So5uk4EkHW6R",
        "colab_type": "code",
        "colab": {
          "base_uri": "https://localhost:8080/",
          "height": 716
        },
        "outputId": "c4898b28-d8c4-4f1f-9d87-5c7e889e2e41"
      },
      "source": [
        "import matplotlib.pyplot as plt\n",
        "epoch = 20\n",
        "plt.figure(figsize=(12,12))\n",
        "plt.subplot(2,1,1)\n",
        "ax = plt.gca()\n",
        "ax.set_xlim([0, epoch+2])\n",
        "plt.ylabel('Loss')\n",
        "plt.title('Train Loss Vs Validation Loss')\n",
        "plt.plot(range(1, epoch+1), train_losses[:epoch+1], 'r', label='Training Loss')\n",
        "plt.plot(range(1, epoch+1), val_losses[:epoch+1], 'b', label='Validation Loss')\n",
        "ax.grid(linestyle='-.')\n",
        "plt.legend()\n",
        "plt.subplot(2,1,2)\n",
        "\n",
        "ax = plt.gca()\n",
        "ax.set_xlim([0, epoch+2])\n",
        "plt.ylabel('Accuracy')\n",
        "plt.title('Train Accuracy Vs Validation Accuracy')\n",
        "plt.plot(range(1, epoch+1), train_accuracy[:epoch+1], 'r', label='Training Accuracy')\n",
        "plt.plot(range(1, epoch+1), val_accuracy[:epoch+1], 'b', label='Validation Accuracy')\n",
        "ax.grid(linestyle='-.')\n",
        "plt.legend()\n",
        "plt.show()"
      ],
      "execution_count": 46,
      "outputs": [
        {
          "output_type": "display_data",
          "data": {
            "image/png": "[encoded data removed]",
            "text/plain": [
              "<Figure size 864x864 with 2 Axes>"
            ]
          },
          "metadata": {
            "tags": [],
            "needs_background": "light"
          }
        }
      ]
    },
    {
      "cell_type": "code",
      "metadata": {
        "id": "IFboVRe3mn0J",
        "colab_type": "code",
        "colab": {}
      },
      "source": [
        ""
      ],
      "execution_count": null,
      "outputs": []
    },
    {
      "cell_type": "markdown",
      "metadata": {
        "id": "LFCTCWb32_Na",
        "colab_type": "text"
      },
      "source": [
        "### **Conclusion:** ###\n",
        "I have implemented a simple convolution neural network architecture, that consist of two convolution and transition blocks (CT) with default batch size=32, epoch=20 and optimizer=SGD. \n",
        "\n",
        "**First convolution Block:** Consist of 3 convolution layers of channel size 8, 16 & 20\n",
        "**First Transition Block:** Consist of Max Pooling layer of 2x2 followed by 1x1 convolution of 8 channels. Here we reduced channels size from 20 to 8.\n",
        "\n",
        "**Second Convolution Block:** Consist of 2 convolution layers of channel size 16 & 20\n",
        "\n",
        "**Second Transition Block:** Consist of AveragePooling.\n",
        "\n",
        "**Final Prediction:** Final convolution layer reduced channel size from 20 to 10 with 3x3 kernel and predicted digits. \n",
        "\n",
        "### **Output:** ###\n",
        "We trained DNN for 20 epoch and reched highest validation accuracy as 99.49% at 11th epoch.\n",
        "\n",
        "**Train Vs validation accuracy plot:** It is evident that small gap between train & validation accuracies from 1st to 11th epochs, that means model learns better, after that gap between train vs validation increases that seems model is not learning much and we have to add additional methods to make it better.\n",
        "\n",
        "**Train Vs validation loss plot:**\n",
        "From 1st to 11th epoch train loss is start reducing drastially and gradually. There was less gap between train vs validation loss means that **model is not overfitting, ** after 11th epoch loss between train vs validation start increasing. So, it is better to stop at 11th epoch after which model does not improve much or we have to try additional apporaches to improve this model.\n"
      ]
    },
    {
      "cell_type": "code",
      "metadata": {
        "id": "pDLNwYL86KBf",
        "colab_type": "code",
        "colab": {}
      },
      "source": [
        ""
      ],
      "execution_count": null,
      "outputs": []
    }
  ]
}