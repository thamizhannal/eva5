{
  "nbformat": 4,
  "nbformat_minor": 0,
  "metadata": {
    "colab": {
      "name": "Welcome to Colaboratory",
      "provenance": [],
      "collapsed_sections": [],
      "include_colab_link": true
    },
    "kernelspec": {
      "display_name": "Python 3",
      "name": "python3"
    },
    "accelerator": "GPU",
    "widgets": {
      "application/vnd.jupyter.widget-state+json": {
        "979c51c081b44cec91f4195f95c4cd8a": {
          "model_module": "@jupyter-widgets/controls",
          "model_name": "HBoxModel",
          "state": {
            "_view_name": "HBoxView",
            "_dom_classes": [],
            "_model_name": "HBoxModel",
            "_view_module": "@jupyter-widgets/controls",
            "_model_module_version": "1.5.0",
            "_view_count": null,
            "_view_module_version": "1.5.0",
            "box_style": "",
            "layout": "IPY_MODEL_9c2f927d99b347509c8a0144dc1c26c5",
            "_model_module": "@jupyter-widgets/controls",
            "children": [
              "IPY_MODEL_11f3cc19030246b18c5eccc9203b0319",
              "IPY_MODEL_516ab33379c9427c85f15842ba250f6b"
            ]
          }
        },
        "9c2f927d99b347509c8a0144dc1c26c5": {
          "model_module": "@jupyter-widgets/base",
          "model_name": "LayoutModel",
          "state": {
            "_view_name": "LayoutView",
            "grid_template_rows": null,
            "right": null,
            "justify_content": null,
            "_view_module": "@jupyter-widgets/base",
            "overflow": null,
            "_model_module_version": "1.2.0",
            "_view_count": null,
            "flex_flow": null,
            "width": null,
            "min_width": null,
            "border": null,
            "align_items": null,
            "bottom": null,
            "_model_module": "@jupyter-widgets/base",
            "top": null,
            "grid_column": null,
            "overflow_y": null,
            "overflow_x": null,
            "grid_auto_flow": null,
            "grid_area": null,
            "grid_template_columns": null,
            "flex": null,
            "_model_name": "LayoutModel",
            "justify_items": null,
            "grid_row": null,
            "max_height": null,
            "align_content": null,
            "visibility": null,
            "align_self": null,
            "height": null,
            "min_height": null,
            "padding": null,
            "grid_auto_rows": null,
            "grid_gap": null,
            "max_width": null,
            "order": null,
            "_view_module_version": "1.2.0",
            "grid_template_areas": null,
            "object_position": null,
            "object_fit": null,
            "grid_auto_columns": null,
            "margin": null,
            "display": null,
            "left": null
          }
        },
        "11f3cc19030246b18c5eccc9203b0319": {
          "model_module": "@jupyter-widgets/controls",
          "model_name": "FloatProgressModel",
          "state": {
            "_view_name": "ProgressView",
            "style": "IPY_MODEL_63709fa6faba4c94a8568d0ebd807b6a",
            "_dom_classes": [],
            "description": " 90%",
            "_model_name": "FloatProgressModel",
            "bar_style": "danger",
            "max": 100,
            "_view_module": "@jupyter-widgets/controls",
            "_model_module_version": "1.5.0",
            "value": 90,
            "_view_count": null,
            "_view_module_version": "1.5.0",
            "orientation": "horizontal",
            "min": 0,
            "description_tooltip": null,
            "_model_module": "@jupyter-widgets/controls",
            "layout": "IPY_MODEL_a16756bd4d044d1d9767f884170bb702"
          }
        },
        "516ab33379c9427c85f15842ba250f6b": {
          "model_module": "@jupyter-widgets/controls",
          "model_name": "HTMLModel",
          "state": {
            "_view_name": "HTMLView",
            "style": "IPY_MODEL_cc659c31f4e74f9d9daa804917d68430",
            "_dom_classes": [],
            "description": "",
            "_model_name": "HTMLModel",
            "placeholder": "​",
            "_view_module": "@jupyter-widgets/controls",
            "_model_module_version": "1.5.0",
            "value": " 90/100 [00:16&lt;00:01,  5.45it/s]",
            "_view_count": null,
            "_view_module_version": "1.5.0",
            "description_tooltip": null,
            "_model_module": "@jupyter-widgets/controls",
            "layout": "IPY_MODEL_2e642ae8df5d4221b1fd2ea24a97aa7d"
          }
        },
        "63709fa6faba4c94a8568d0ebd807b6a": {
          "model_module": "@jupyter-widgets/controls",
          "model_name": "ProgressStyleModel",
          "state": {
            "_view_name": "StyleView",
            "_model_name": "ProgressStyleModel",
            "description_width": "initial",
            "_view_module": "@jupyter-widgets/base",
            "_model_module_version": "1.5.0",
            "_view_count": null,
            "_view_module_version": "1.2.0",
            "bar_color": null,
            "_model_module": "@jupyter-widgets/controls"
          }
        },
        "a16756bd4d044d1d9767f884170bb702": {
          "model_module": "@jupyter-widgets/base",
          "model_name": "LayoutModel",
          "state": {
            "_view_name": "LayoutView",
            "grid_template_rows": null,
            "right": null,
            "justify_content": null,
            "_view_module": "@jupyter-widgets/base",
            "overflow": null,
            "_model_module_version": "1.2.0",
            "_view_count": null,
            "flex_flow": null,
            "width": null,
            "min_width": null,
            "border": null,
            "align_items": null,
            "bottom": null,
            "_model_module": "@jupyter-widgets/base",
            "top": null,
            "grid_column": null,
            "overflow_y": null,
            "overflow_x": null,
            "grid_auto_flow": null,
            "grid_area": null,
            "grid_template_columns": null,
            "flex": null,
            "_model_name": "LayoutModel",
            "justify_items": null,
            "grid_row": null,
            "max_height": null,
            "align_content": null,
            "visibility": null,
            "align_self": null,
            "height": null,
            "min_height": null,
            "padding": null,
            "grid_auto_rows": null,
            "grid_gap": null,
            "max_width": null,
            "order": null,
            "_view_module_version": "1.2.0",
            "grid_template_areas": null,
            "object_position": null,
            "object_fit": null,
            "grid_auto_columns": null,
            "margin": null,
            "display": null,
            "left": null
          }
        },
        "cc659c31f4e74f9d9daa804917d68430": {
          "model_module": "@jupyter-widgets/controls",
          "model_name": "DescriptionStyleModel",
          "state": {
            "_view_name": "StyleView",
            "_model_name": "DescriptionStyleModel",
            "description_width": "",
            "_view_module": "@jupyter-widgets/base",
            "_model_module_version": "1.5.0",
            "_view_count": null,
            "_view_module_version": "1.2.0",
            "_model_module": "@jupyter-widgets/controls"
          }
        },
        "2e642ae8df5d4221b1fd2ea24a97aa7d": {
          "model_module": "@jupyter-widgets/base",
          "model_name": "LayoutModel",
          "state": {
            "_view_name": "LayoutView",
            "grid_template_rows": null,
            "right": null,
            "justify_content": null,
            "_view_module": "@jupyter-widgets/base",
            "overflow": null,
            "_model_module_version": "1.2.0",
            "_view_count": null,
            "flex_flow": null,
            "width": null,
            "min_width": null,
            "border": null,
            "align_items": null,
            "bottom": null,
            "_model_module": "@jupyter-widgets/base",
            "top": null,
            "grid_column": null,
            "overflow_y": null,
            "overflow_x": null,
            "grid_auto_flow": null,
            "grid_area": null,
            "grid_template_columns": null,
            "flex": null,
            "_model_name": "LayoutModel",
            "justify_items": null,
            "grid_row": null,
            "max_height": null,
            "align_content": null,
            "visibility": null,
            "align_self": null,
            "height": null,
            "min_height": null,
            "padding": null,
            "grid_auto_rows": null,
            "grid_gap": null,
            "max_width": null,
            "order": null,
            "_view_module_version": "1.2.0",
            "grid_template_areas": null,
            "object_position": null,
            "object_fit": null,
            "grid_auto_columns": null,
            "margin": null,
            "display": null,
            "left": null
          }
        }
      }
    }
  },
  "cells": [
    {
      "cell_type": "markdown",
      "metadata": {
        "id": "view-in-github",
        "colab_type": "text"
      },
      "source": [
        "<a href=\"https://colab.research.google.com/github/thamizhannal/eva5/blob/master/S10_assignement_v4.ipynb\" target=\"_parent\"><img src=\"https://colab.research.google.com/assets/colab-badge.svg\" alt=\"Open In Colab\"/></a>"
      ]
    },
    {
      "cell_type": "code",
      "metadata": {
        "id": "mG3TZhHt9rC_",
        "outputId": "95f886d8-3213-44cc-bb3f-8b86bebf7e77",
        "colab": {
          "base_uri": "https://localhost:8080/",
          "height": 34
        }
      },
      "source": [
        "pwd\n"
      ],
      "execution_count": 21,
      "outputs": [
        {
          "output_type": "execute_result",
          "data": {
            "application/vnd.google.colaboratory.intrinsic+json": {
              "type": "string"
            },
            "text/plain": [
              "'/content/JEDI/tsai.jedi'"
            ]
          },
          "metadata": {
            "tags": []
          },
          "execution_count": 21
        }
      ]
    },
    {
      "cell_type": "code",
      "metadata": {
        "id": "rpazjeSHlOIj",
        "outputId": "8eab1c97-1cab-4ea4-e868-5f516fc13907",
        "colab": {
          "base_uri": "https://localhost:8080/",
          "height": 138
        }
      },
      "source": [
        "!git clone https://github.com/theschoolof-ai/JEDI.git"
      ],
      "execution_count": 22,
      "outputs": [
        {
          "output_type": "stream",
          "text": [
            "Cloning into 'JEDI'...\n",
            "remote: Enumerating objects: 33, done.\u001b[K\n",
            "remote: Counting objects: 100% (33/33), done.\u001b[K\n",
            "remote: Compressing objects: 100% (28/28), done.\u001b[K\n",
            "remote: Total 289 (delta 14), reused 11 (delta 3), pack-reused 256\u001b[K\n",
            "Receiving objects: 100% (289/289), 158.71 MiB | 17.07 MiB/s, done.\n",
            "Resolving deltas: 100% (117/117), done.\n"
          ],
          "name": "stdout"
        }
      ]
    },
    {
      "cell_type": "code",
      "metadata": {
        "id": "4PBsTWgA9ueL",
        "outputId": "4874a5fd-9591-4afb-ce43-f51845422283",
        "colab": {
          "base_uri": "https://localhost:8080/",
          "height": 34
        }
      },
      "source": [
        "cd /content/JEDI/tsai.jedi"
      ],
      "execution_count": 23,
      "outputs": [
        {
          "output_type": "stream",
          "text": [
            "/content/JEDI/tsai.jedi\n"
          ],
          "name": "stdout"
        }
      ]
    },
    {
      "cell_type": "code",
      "metadata": {
        "id": "IgJpNa66lj1U",
        "outputId": "1b1487f6-8c34-4e86-bc01-d006c0ec54fe",
        "colab": {
          "base_uri": "https://localhost:8080/",
          "height": 69
        }
      },
      "source": [
        "ls"
      ],
      "execution_count": 24,
      "outputs": [
        {
          "output_type": "stream",
          "text": [
            "aftereffects.py  dataloader.py         gradcam.py  \u001b[0m\u001b[01;34mmodel_objects\u001b[0m/  README.md\n",
            "batchnorm.py     datatransforms.py     \u001b[01;34mJEDI\u001b[0m/       \u001b[01;34mModels\u001b[0m/\n",
            "config.py        Engine_train_test.py  main.py     \u001b[01;34m__pycache__\u001b[0m/\n"
          ],
          "name": "stdout"
        }
      ]
    },
    {
      "cell_type": "code",
      "metadata": {
        "id": "zE5Uz_Jglo56"
      },
      "source": [
        "import sys\n",
        "sys.path.append('Models/')\n",
        "from S8_resnet import ResNet18\n",
        "from S7 import model_summary"
      ],
      "execution_count": 25,
      "outputs": []
    },
    {
      "cell_type": "code",
      "metadata": {
        "id": "2lmEpMC59wKE"
      },
      "source": [
        "import sys\n",
        "sys.path.append('Models/')\n",
        "from S7 import model_summary\n",
        "from S9_resnet import resnet18"
      ],
      "execution_count": 26,
      "outputs": []
    },
    {
      "cell_type": "code",
      "metadata": {
        "id": "QtvINx2R9xz5",
        "outputId": "f0fe9e3d-695b-47ec-bbc2-2dcc39d94678",
        "colab": {
          "base_uri": "https://localhost:8080/",
          "height": 365
        }
      },
      "source": [
        "! pip install albumentations==0.4.6"
      ],
      "execution_count": 27,
      "outputs": [
        {
          "output_type": "stream",
          "text": [
            "Requirement already satisfied: albumentations==0.4.6 in /usr/local/lib/python3.6/dist-packages (0.4.6)\n",
            "Requirement already satisfied: opencv-python>=4.1.1 in /usr/local/lib/python3.6/dist-packages (from albumentations==0.4.6) (4.1.2.30)\n",
            "Requirement already satisfied: imgaug>=0.4.0 in /usr/local/lib/python3.6/dist-packages (from albumentations==0.4.6) (0.4.0)\n",
            "Requirement already satisfied: PyYAML in /usr/local/lib/python3.6/dist-packages (from albumentations==0.4.6) (3.13)\n",
            "Requirement already satisfied: numpy>=1.11.1 in /usr/local/lib/python3.6/dist-packages (from albumentations==0.4.6) (1.18.5)\n",
            "Requirement already satisfied: scipy in /usr/local/lib/python3.6/dist-packages (from albumentations==0.4.6) (1.4.1)\n",
            "Requirement already satisfied: matplotlib in /usr/local/lib/python3.6/dist-packages (from imgaug>=0.4.0->albumentations==0.4.6) (3.2.2)\n",
            "Requirement already satisfied: imageio in /usr/local/lib/python3.6/dist-packages (from imgaug>=0.4.0->albumentations==0.4.6) (2.4.1)\n",
            "Requirement already satisfied: Pillow in /usr/local/lib/python3.6/dist-packages (from imgaug>=0.4.0->albumentations==0.4.6) (7.0.0)\n",
            "Requirement already satisfied: six in /usr/local/lib/python3.6/dist-packages (from imgaug>=0.4.0->albumentations==0.4.6) (1.15.0)\n",
            "Requirement already satisfied: scikit-image>=0.14.2 in /usr/local/lib/python3.6/dist-packages (from imgaug>=0.4.0->albumentations==0.4.6) (0.16.2)\n",
            "Requirement already satisfied: Shapely in /usr/local/lib/python3.6/dist-packages (from imgaug>=0.4.0->albumentations==0.4.6) (1.7.1)\n",
            "Requirement already satisfied: kiwisolver>=1.0.1 in /usr/local/lib/python3.6/dist-packages (from matplotlib->imgaug>=0.4.0->albumentations==0.4.6) (1.2.0)\n",
            "Requirement already satisfied: cycler>=0.10 in /usr/local/lib/python3.6/dist-packages (from matplotlib->imgaug>=0.4.0->albumentations==0.4.6) (0.10.0)\n",
            "Requirement already satisfied: python-dateutil>=2.1 in /usr/local/lib/python3.6/dist-packages (from matplotlib->imgaug>=0.4.0->albumentations==0.4.6) (2.8.1)\n",
            "Requirement already satisfied: pyparsing!=2.0.4,!=2.1.2,!=2.1.6,>=2.0.1 in /usr/local/lib/python3.6/dist-packages (from matplotlib->imgaug>=0.4.0->albumentations==0.4.6) (2.4.7)\n",
            "Requirement already satisfied: PyWavelets>=0.4.0 in /usr/local/lib/python3.6/dist-packages (from scikit-image>=0.14.2->imgaug>=0.4.0->albumentations==0.4.6) (1.1.1)\n",
            "Requirement already satisfied: networkx>=2.0 in /usr/local/lib/python3.6/dist-packages (from scikit-image>=0.14.2->imgaug>=0.4.0->albumentations==0.4.6) (2.5)\n",
            "Requirement already satisfied: decorator>=4.3.0 in /usr/local/lib/python3.6/dist-packages (from networkx>=2.0->scikit-image>=0.14.2->imgaug>=0.4.0->albumentations==0.4.6) (4.4.2)\n"
          ],
          "name": "stdout"
        }
      ]
    },
    {
      "cell_type": "code",
      "metadata": {
        "id": "Dz7p1dYodHJk"
      },
      "source": [
        "import albumentations as A\n",
        "from albumentations.pytorch import ToTensorV2\n",
        "import numpy as np\n",
        "import matplotlib.pyplot as plt\n",
        "import torch\n",
        "from PIL import Image\n",
        "from torch.utils.data import Dataset\n",
        "\n",
        "\n",
        "class train_transform_alb(Dataset):\n",
        "    def __init__(self, image_list, label):\n",
        "        self.image_list = image_list\n",
        "        self.label = label\n",
        "        self.aug = A.Compose([\n",
        "            A.Cutout(num_holes=8,  max_h_size=8, max_w_size=8, p=0.5),\n",
        "            A.RandomCrop(32, 32, p=0.5),\n",
        "            A.HorizontalFlip(p=0.5),\n",
        "            A.Rotate((-8.0, 8.0), p=0.5),\n",
        "            A.Normalize(mean=(0.4914, 0.4822, 0.4465), std=(0.2023, 0.1994, 0.2010))\n",
        "        ])\n",
        "\n",
        "    def __len__(self):\n",
        "        return len(self.image_list)\n",
        "\n",
        "    def __getitem__(self, i):\n",
        "        image = Image.fromarray(self.image_list[i]).convert('RGB')\n",
        "        image = self.aug(image=np.array(image))['image']\n",
        "        image = np.transpose(image, (2, 0, 1)).astype(np.float32)\n",
        "        image = torch.tensor(image, dtype=torch.float)\n",
        "        label = self.label[i]\n",
        "        label = torch.tensor(label, dtype=torch.long)\n",
        "        return image, label\n",
        "\n",
        "\n",
        "class test_transform_alb(Dataset):\n",
        "    def __init__(self, image_list, label):\n",
        "        self.image_list = image_list\n",
        "        self.label = label\n",
        "        self.aug = A.Compose([\n",
        "            A.Normalize(mean=(0.4914, 0.4822, 0.4465), std=(0.2023, 0.1994, 0.2010))\n",
        "        ])\n",
        "\n",
        "    def __len__(self):\n",
        "        return len(self.image_list)\n",
        "\n",
        "    def __getitem__(self, i):\n",
        "        image = Image.fromarray(self.image_list[i]).convert('RGB')\n",
        "        image = self.aug(image=np.array(image))['image']\n",
        "        image = np.transpose(image, (2, 0, 1)).astype(np.float32)\n",
        "        image = torch.tensor(image, dtype=torch.float)\n",
        "        label = self.label[i]\n",
        "        label = torch.tensor(label, dtype=torch.long)\n",
        "        return image, label"
      ],
      "execution_count": 28,
      "outputs": []
    },
    {
      "cell_type": "code",
      "metadata": {
        "id": "izjb77fec4ai",
        "outputId": "89723955-f164-471a-82ab-9ec01684da1c",
        "colab": {
          "base_uri": "https://localhost:8080/",
          "height": 52
        }
      },
      "source": [
        "import sys\n",
        "sys.path.append(\"tsai.jedi\")\n",
        "#from __future__ import print_function\n",
        "import torch\n",
        "from torchvision import datasets, transforms\n",
        "import numpy as np\n",
        "import pandas as pd\n",
        "import matplotlib.pyplot as plt\n",
        "import pickle\n",
        "from PIL import Image\n",
        "from torch.utils.data import Dataset, DataLoader\n",
        "from datatransforms import train_transform_alb, test_transform_alb\n",
        "import config\n",
        "\n",
        "torch.manual_seed(1)\n",
        "kwargs = {'num_workers': config.num_workers, 'pin_memory': config.pin_memory} if config.use_cuda else {}\n",
        "\n",
        "#MNIST\n",
        "train_loader_MNIST = torch.utils.data.DataLoader(\n",
        "    datasets.MNIST('../data', train=True, download=True,\n",
        "                   transform=transforms.Compose([\n",
        "                       transforms.RandomRotation((-8.0, 8.0), fill=(1,)),\n",
        "                       transforms.ToTensor(),\n",
        "                       transforms.Normalize((0.1307,), (0.3081,))\n",
        "                   ])),\n",
        "    batch_size=config.batch_size, shuffle=True, **kwargs)\n",
        "test_loader_MNIST = torch.utils.data.DataLoader(\n",
        "    datasets.MNIST('../data', train=False, transform=transforms.Compose([\n",
        "        transforms.ToTensor(),\n",
        "        transforms.Normalize((0.1307,), (0.3081,))\n",
        "    ])),\n",
        "    batch_size=config.batch_size, shuffle=True, **kwargs)\n",
        "#CIFAR10\n",
        "train_loader_CIFAR10 = torch.utils.data.DataLoader(\n",
        "    datasets.CIFAR10('../data', train=True, download=True,\n",
        "                     transform=transforms.Compose([\n",
        "                         transforms.RandomCrop(32, padding=4),\n",
        "                         transforms.RandomHorizontalFlip(),\n",
        "                         transforms.RandomRotation((-8.0, 8.0)),\n",
        "                         transforms.ToTensor(),\n",
        "                         transforms.Normalize((0.4914, 0.4822, 0.4465), (0.2023, 0.1994, 0.2010))\n",
        "                     ])),\n",
        "    batch_size=config.batch_size, shuffle=True, **kwargs)\n",
        "test_loader_CIFAR10 = torch.utils.data.DataLoader(\n",
        "    datasets.CIFAR10('../data', train=False, transform=transforms.Compose([\n",
        "        transforms.ToTensor(),\n",
        "        transforms.Normalize((0.4914, 0.4822, 0.4465), (0.2023, 0.1994, 0.2010))\n",
        "    ])),\n",
        "    batch_size=config.batch_size, shuffle=True, **kwargs)\n",
        "\n",
        "#CIFAR-10 Albumentation\n",
        "datasets.CIFAR10('../data', train=True, download=True)\n",
        "\n",
        "\n",
        "def load_cifar10_data(filename):\n",
        "    with open('../data/cifar-10-batches-py/' + filename, 'rb') as file:\n",
        "        batch = pickle.load(file, encoding='latin1')\n",
        "\n",
        "    features = batch['data']\n",
        "    labels = batch['labels']\n",
        "    return features, labels\n",
        "\n",
        "\n",
        "batch_1, labels_1 = load_cifar10_data('data_batch_1')\n",
        "batch_2, labels_2 = load_cifar10_data('data_batch_2')\n",
        "batch_3, labels_3 = load_cifar10_data('data_batch_3')\n",
        "batch_4, labels_4 = load_cifar10_data('data_batch_4')\n",
        "batch_5, labels_5 = load_cifar10_data('data_batch_5')\n",
        "\n",
        "test, label_test = load_cifar10_data('test_batch')\n",
        "\n",
        "X_train = np.concatenate([batch_1, batch_2, batch_3, batch_4, batch_5], 0)\n",
        "Y_train = np.concatenate([labels_1, labels_2, labels_3, labels_4, labels_5], 0)\n",
        "\n",
        "\n",
        "def return_photo(batch_file):\n",
        "    assert batch_file.shape[1] == 3072\n",
        "    dim = np.sqrt(1024).astype(int)\n",
        "    r = batch_file[:, 0:1024].reshape(batch_file.shape[0], dim, dim, 1)\n",
        "    g = batch_file[:, 1024:2048].reshape(batch_file.shape[0], dim, dim, 1)\n",
        "    b = batch_file[:, 2048:3072].reshape(batch_file.shape[0], dim, dim, 1)\n",
        "    photo = np.concatenate([r, g, b], -1)\n",
        "    return photo\n",
        "\n",
        "\n",
        "X_train = return_photo(X_train)\n",
        "X_test = return_photo(test)\n",
        "Y_test = np.array(label_test)\n",
        "\n",
        "classes_CIFAR10 = ('plane', 'car', 'bird', 'cat',\n",
        "                   'deer', 'dog', 'frog', 'horse', 'ship', 'truck')\n",
        "\n",
        "trainset = train_transform_alb(image_list=X_train, label=Y_train)\n",
        "testset = test_transform_alb(image_list=X_test, label=Y_test)\n",
        "\n",
        "train_loader_CIFAR10_alb = torch.utils.data.DataLoader(trainset,\n",
        "                                                   batch_size=config.batch_size, shuffle=True, **kwargs)\n",
        "\n",
        "test_loader_CIFAR10_alb = torch.utils.data.DataLoader(testset,\n",
        "                                                  batch_size=config.batch_size, shuffle=True, **kwargs)"
      ],
      "execution_count": 32,
      "outputs": [
        {
          "output_type": "stream",
          "text": [
            "Files already downloaded and verified\n",
            "Files already downloaded and verified\n"
          ],
          "name": "stdout"
        }
      ]
    },
    {
      "cell_type": "code",
      "metadata": {
        "id": "d244YvVB94Ov"
      },
      "source": [
        "sys.path.append(\".\")\n",
        "%matplotlib inline\n",
        "import torch\n",
        "import config\n",
        "import torch.optim as optim\n",
        "from torch.optim.lr_scheduler import StepLR\n",
        "from Engine_train_test import train, test\n",
        "#from dataloader import train_loader_CIFAR10_alb, test_loader_CIFAR10_alb"
      ],
      "execution_count": 33,
      "outputs": []
    },
    {
      "cell_type": "code",
      "metadata": {
        "id": "Lrpg-Fri_pRy",
        "outputId": "0a800101-3618-4065-d768-75d901b5c2b4",
        "colab": {
          "base_uri": "https://localhost:8080/",
          "height": 1000
        }
      },
      "source": [
        "model_ = resnet18(num_classes = 10,pretrained = False).to(config.device)\n",
        "print(model_summary(model_, config.input_size_CIFAR10))"
      ],
      "execution_count": 34,
      "outputs": [
        {
          "output_type": "stream",
          "text": [
            "----------------------------------------------------------------\n",
            "        Layer (type)               Output Shape         Param #\n",
            "================================================================\n",
            "            Conv2d-1           [-1, 64, 32, 32]           1,728\n",
            "       BatchNorm2d-2           [-1, 64, 32, 32]             128\n",
            "              ReLU-3           [-1, 64, 32, 32]               0\n",
            "            Conv2d-4           [-1, 64, 32, 32]          36,864\n",
            "       BatchNorm2d-5           [-1, 64, 32, 32]             128\n",
            "              ReLU-6           [-1, 64, 32, 32]               0\n",
            "            Conv2d-7           [-1, 64, 32, 32]          36,864\n",
            "       BatchNorm2d-8           [-1, 64, 32, 32]             128\n",
            "              ReLU-9           [-1, 64, 32, 32]               0\n",
            "       BasicBlock-10           [-1, 64, 32, 32]               0\n",
            "           Conv2d-11           [-1, 64, 32, 32]          36,864\n",
            "      BatchNorm2d-12           [-1, 64, 32, 32]             128\n",
            "             ReLU-13           [-1, 64, 32, 32]               0\n",
            "           Conv2d-14           [-1, 64, 32, 32]          36,864\n",
            "      BatchNorm2d-15           [-1, 64, 32, 32]             128\n",
            "             ReLU-16           [-1, 64, 32, 32]               0\n",
            "       BasicBlock-17           [-1, 64, 32, 32]               0\n",
            "           Conv2d-18          [-1, 128, 16, 16]          73,728\n",
            "      BatchNorm2d-19          [-1, 128, 16, 16]             256\n",
            "             ReLU-20          [-1, 128, 16, 16]               0\n",
            "           Conv2d-21          [-1, 128, 16, 16]         147,456\n",
            "      BatchNorm2d-22          [-1, 128, 16, 16]             256\n",
            "           Conv2d-23          [-1, 128, 16, 16]           8,192\n",
            "      BatchNorm2d-24          [-1, 128, 16, 16]             256\n",
            "             ReLU-25          [-1, 128, 16, 16]               0\n",
            "       BasicBlock-26          [-1, 128, 16, 16]               0\n",
            "           Conv2d-27          [-1, 128, 16, 16]         147,456\n",
            "      BatchNorm2d-28          [-1, 128, 16, 16]             256\n",
            "             ReLU-29          [-1, 128, 16, 16]               0\n",
            "           Conv2d-30          [-1, 128, 16, 16]         147,456\n",
            "      BatchNorm2d-31          [-1, 128, 16, 16]             256\n",
            "             ReLU-32          [-1, 128, 16, 16]               0\n",
            "       BasicBlock-33          [-1, 128, 16, 16]               0\n",
            "           Conv2d-34            [-1, 256, 8, 8]         294,912\n",
            "      BatchNorm2d-35            [-1, 256, 8, 8]             512\n",
            "             ReLU-36            [-1, 256, 8, 8]               0\n",
            "           Conv2d-37            [-1, 256, 8, 8]         589,824\n",
            "      BatchNorm2d-38            [-1, 256, 8, 8]             512\n",
            "           Conv2d-39            [-1, 256, 8, 8]          32,768\n",
            "      BatchNorm2d-40            [-1, 256, 8, 8]             512\n",
            "             ReLU-41            [-1, 256, 8, 8]               0\n",
            "       BasicBlock-42            [-1, 256, 8, 8]               0\n",
            "           Conv2d-43            [-1, 256, 8, 8]         589,824\n",
            "      BatchNorm2d-44            [-1, 256, 8, 8]             512\n",
            "             ReLU-45            [-1, 256, 8, 8]               0\n",
            "           Conv2d-46            [-1, 256, 8, 8]         589,824\n",
            "      BatchNorm2d-47            [-1, 256, 8, 8]             512\n",
            "             ReLU-48            [-1, 256, 8, 8]               0\n",
            "       BasicBlock-49            [-1, 256, 8, 8]               0\n",
            "           Conv2d-50            [-1, 512, 4, 4]       1,179,648\n",
            "      BatchNorm2d-51            [-1, 512, 4, 4]           1,024\n",
            "             ReLU-52            [-1, 512, 4, 4]               0\n",
            "           Conv2d-53            [-1, 512, 4, 4]       2,359,296\n",
            "      BatchNorm2d-54            [-1, 512, 4, 4]           1,024\n",
            "           Conv2d-55            [-1, 512, 4, 4]         131,072\n",
            "      BatchNorm2d-56            [-1, 512, 4, 4]           1,024\n",
            "             ReLU-57            [-1, 512, 4, 4]               0\n",
            "       BasicBlock-58            [-1, 512, 4, 4]               0\n",
            "           Conv2d-59            [-1, 512, 4, 4]       2,359,296\n",
            "      BatchNorm2d-60            [-1, 512, 4, 4]           1,024\n",
            "             ReLU-61            [-1, 512, 4, 4]               0\n",
            "           Conv2d-62            [-1, 512, 4, 4]       2,359,296\n",
            "      BatchNorm2d-63            [-1, 512, 4, 4]           1,024\n",
            "             ReLU-64            [-1, 512, 4, 4]               0\n",
            "       BasicBlock-65            [-1, 512, 4, 4]               0\n",
            "AdaptiveAvgPool2d-66            [-1, 512, 1, 1]               0\n",
            "           Linear-67                   [-1, 10]           5,130\n",
            "================================================================\n",
            "Total params: 11,173,962\n",
            "Trainable params: 11,173,962\n",
            "Non-trainable params: 0\n",
            "----------------------------------------------------------------\n",
            "Input size (MB): 0.01\n",
            "Forward/backward pass size (MB): 15.50\n",
            "Params size (MB): 42.63\n",
            "Estimated Total Size (MB): 58.14\n",
            "----------------------------------------------------------------\n",
            "None\n"
          ],
          "name": "stdout"
        }
      ]
    },
    {
      "cell_type": "code",
      "metadata": {
        "id": "ge6j4ZW2Ebjy"
      },
      "source": [
        "import albumentations as A\n",
        "from albumentations.pytorch import ToTensorV2\n",
        "import numpy as np\n",
        "import matplotlib.pyplot as plt\n",
        "import torch\n",
        "from PIL import Image\n",
        "from torch.utils.data import Dataset\n",
        "\n",
        "\n",
        "class train_transform_alb(Dataset):\n",
        "    def __init__(self, image_list, label):\n",
        "        self.image_list = image_list\n",
        "        self.label = label\n",
        "        self.aug = A.Compose([\n",
        "            A.RandomCrop(32, 32, p=0.5),\n",
        "            A.Cutout(num_holes=8,  max_h_size=8, max_w_size=8, p=0.5),\n",
        "            A.HorizontalFlip(p=0.5),\n",
        "            A.Rotate((-8.0, 8.0), p=0.5),\n",
        "            A.Normalize(mean=(0.4914, 0.4822, 0.4465), std=(0.2023, 0.1994, 0.2010))\n",
        "        ])\n",
        "\n",
        "    def __len__(self):\n",
        "        return len(self.image_list)\n",
        "\n",
        "    def __getitem__(self, i):\n",
        "        image = Image.fromarray(self.image_list[i]).convert('RGB')\n",
        "        image = self.aug(image=np.array(image))['image']\n",
        "        image = np.transpose(image, (2, 0, 1)).astype(np.float32)\n",
        "        image = torch.tensor(image, dtype=torch.float)\n",
        "        label = self.label[i]\n",
        "        label = torch.tensor(label, dtype=torch.long)\n",
        "        return image, label\n",
        "\n",
        "\n",
        "class test_transform_alb(Dataset):\n",
        "    def __init__(self, image_list, label):\n",
        "        self.image_list = image_list\n",
        "        self.label = label\n",
        "        self.aug = A.Compose([\n",
        "            A.Normalize(mean=(0.4914, 0.4822, 0.4465), std=(0.2023, 0.1994, 0.2010))\n",
        "        ])\n",
        "\n",
        "    def __len__(self):\n",
        "        return len(self.image_list)\n",
        "\n",
        "    def __getitem__(self, i):\n",
        "        image = Image.fromarray(self.image_list[i]).convert('RGB')\n",
        "        image = self.aug(image=np.array(image))['image']\n",
        "        image = np.transpose(image, (2, 0, 1)).astype(np.float32)\n",
        "        image = torch.tensor(image, dtype=torch.float)\n",
        "        label = self.label[i]\n",
        "        label = torch.tensor(label, dtype=torch.long)\n",
        "        return image, label"
      ],
      "execution_count": 35,
      "outputs": []
    },
    {
      "cell_type": "code",
      "metadata": {
        "id": "66MbN2FmEA27",
        "outputId": "c62c2c26-e480-49df-c722-97898625186f",
        "colab": {
          "base_uri": "https://localhost:8080/",
          "height": 436,
          "referenced_widgets": [
            "979c51c081b44cec91f4195f95c4cd8a",
            "9c2f927d99b347509c8a0144dc1c26c5",
            "11f3cc19030246b18c5eccc9203b0319",
            "516ab33379c9427c85f15842ba250f6b",
            "63709fa6faba4c94a8568d0ebd807b6a",
            "a16756bd4d044d1d9767f884170bb702",
            "cc659c31f4e74f9d9daa804917d68430",
            "2e642ae8df5d4221b1fd2ea24a97aa7d"
          ]
        }
      },
      "source": [
        "'''\n",
        "criterion = nn.CrossEntropyLoss()\n",
        "optimizer = optim.Adam(model.parameters(), lr=1e-7, weight_decay=1e-2)\n",
        "lr_finder = LRFinder(model, optimizer, criterion, device=\"cuda\")\n",
        "lr_finder.range_test(trainloader, end_lr=100, num_iter=100, step_mode=\"exp\")\n",
        "'''\n",
        "%matplotlib inline\n",
        "\n",
        "import torch.nn as nn\n",
        "import torch.optim as optim\n",
        "from __future__ import print_function\n",
        "import torch.optim as optim\n",
        "from torch.optim.lr_scheduler import StepLR\n",
        "import sys\n",
        "\n",
        "\n",
        "\n",
        "import torch.optim as optim\n",
        "from torch.optim.lr_scheduler import StepLR\n",
        "\n",
        "accu = []\n",
        "loss_test = []\n",
        "\n",
        "# SGD\n",
        "criterion = nn.CrossEntropyLoss()\n",
        "optimizer = optim.SGD(model_.parameters(), lr=1e-7,  momentum=0.9, weight_decay=1e-2)\n",
        "lr_finder = LRFinder(model_, optimizer, criterion, device=\"cuda\")\n",
        "lr_finder.range_test(train_loader_CIFAR10_alb, end_lr=100, num_iter=100, step_mode=\"exp\")\n",
        "\n",
        "lr_finder.plot()\n"
      ],
      "execution_count": 34,
      "outputs": [
        {
          "output_type": "display_data",
          "data": {
            "application/vnd.jupyter.widget-view+json": {
              "model_id": "979c51c081b44cec91f4195f95c4cd8a",
              "version_minor": 0,
              "version_major": 2
            },
            "text/plain": [
              "HBox(children=(FloatProgress(value=0.0), HTML(value='')))"
            ]
          },
          "metadata": {
            "tags": []
          }
        },
        {
          "output_type": "stream",
          "text": [
            "Stopping early, the loss has diverged\n",
            "Learning rate search finished. See the graph with {finder_name}.plot()\n",
            "LR suggestion: steepest gradient\n",
            "Suggested LR: 5.34E-02\n",
            "\n"
          ],
          "name": "stdout"
        },
        {
          "output_type": "display_data",
          "data": {
            "image/png": "[encoded data removed]",
            "text/plain": [
              "<Figure size 432x288 with 1 Axes>"
            ]
          },
          "metadata": {
            "tags": [],
            "needs_background": "light"
          }
        },
        {
          "output_type": "execute_result",
          "data": {
            "text/plain": [
              "(<matplotlib.axes._subplots.AxesSubplot at 0x7f18033b6d68>,\n",
              " 0.053366992312063086)"
            ]
          },
          "metadata": {
            "tags": []
          },
          "execution_count": 34
        }
      ]
    },
    {
      "cell_type": "code",
      "metadata": {
        "id": "zW_9LepFrRTy",
        "outputId": "0a25cf9e-c603-491d-a4bf-f384a2d29462",
        "colab": {
          "base_uri": "https://localhost:8080/",
          "height": 847
        }
      },
      "source": [
        "from torch.optim.lr_scheduler import ReduceLROnPlateau\n",
        "valid_acc = []\n",
        "loss_test_ = []\n",
        "l1_regularization = [0, 0]\n",
        "\n",
        "# https://pytorch.org/docs/stable/optim.html#torch.optim.lr_scheduler.ReduceLROnPlateau\n",
        "\n",
        "# Assign optimizer with suggested learning rate and run it with reduceonpleatue\n",
        "optimizer = optim.SGD(model_.parameters(), lr=5.34E-02,  momentum=0.9, weight_decay=1e-2) #  5.34E-02\n",
        "\n",
        "scheduler = ReduceLROnPlateau(optimizer, mode='min', factor=0.1, patience=10, threshold=0.0001, threshold_mode='rel', cooldown=0, min_lr=0, eps=1e-08, verbose=False)\n",
        "for epoch in range(8):\n",
        "    train(model_, config.device, train_loader_CIFAR10_alb, optimizer, epoch, l1_regularization=[0, 1])\n",
        "    #scheduler.step()\n",
        "    valid_a, valid_l = test(model_, config.device, test_loader_CIFAR10_alb)\n",
        "    # Appending to loss and accuracy lists\n",
        "    valid_acc.append(valid_a)\n",
        "    loss_test_.append(valid_l)\n",
        "    # Note that step should be called after validate()\n",
        "    scheduler.step(valid_l)"
      ],
      "execution_count": 36,
      "outputs": [
        {
          "output_type": "stream",
          "text": [
            ""
          ],
          "name": "stderr"
        },
        {
          "output_type": "stream",
          "text": [
            "Epoch: 0,LR: 0.0534.\n",
            "Train set: train Average loss: 1.2864, train_Accuracy: 22118/50000 (44.2360%)\n",
            "\n"
          ],
          "name": "stdout"
        },
        {
          "output_type": "stream",
          "text": [
            "loss=1.0684140920639038 batch_id=0:   0%|          | 1/391 [00:00<01:08,  5.67it/s]"
          ],
          "name": "stderr"
        },
        {
          "output_type": "stream",
          "text": [
            "\n",
            "Test set: Average loss: 0.0165, Accuracy: 2699/10000 (26.9900%)\n",
            "\n"
          ],
          "name": "stdout"
        },
        {
          "output_type": "stream",
          "text": [
            ""
          ],
          "name": "stderr"
        },
        {
          "output_type": "stream",
          "text": [
            "Epoch: 1,LR: 0.0534.\n",
            "Train set: train Average loss: 1.0439, train_Accuracy: 30640/50000 (61.2800%)\n",
            "\n"
          ],
          "name": "stdout"
        },
        {
          "output_type": "stream",
          "text": [
            "loss=1.2201404571533203 batch_id=0:   0%|          | 1/391 [00:00<01:09,  5.64it/s]"
          ],
          "name": "stderr"
        },
        {
          "output_type": "stream",
          "text": [
            "\n",
            "Test set: Average loss: 0.0112, Accuracy: 5318/10000 (53.1800%)\n",
            "\n"
          ],
          "name": "stdout"
        },
        {
          "output_type": "stream",
          "text": [
            ""
          ],
          "name": "stderr"
        },
        {
          "output_type": "stream",
          "text": [
            "Epoch: 2,LR: 0.0534.\n",
            "Train set: train Average loss: 0.9518, train_Accuracy: 32373/50000 (64.7460%)\n",
            "\n"
          ],
          "name": "stdout"
        },
        {
          "output_type": "stream",
          "text": [
            "loss=0.9886622428894043 batch_id=0:   0%|          | 1/391 [00:00<01:08,  5.69it/s]"
          ],
          "name": "stderr"
        },
        {
          "output_type": "stream",
          "text": [
            "\n",
            "Test set: Average loss: 0.0111, Accuracy: 5229/10000 (52.2900%)\n",
            "\n"
          ],
          "name": "stdout"
        },
        {
          "output_type": "stream",
          "text": [
            ""
          ],
          "name": "stderr"
        },
        {
          "output_type": "stream",
          "text": [
            "Epoch: 3,LR: 0.0534.\n",
            "Train set: train Average loss: 0.9069, train_Accuracy: 33167/50000 (66.3340%)\n",
            "\n"
          ],
          "name": "stdout"
        },
        {
          "output_type": "stream",
          "text": [
            "loss=0.8671097159385681 batch_id=0:   0%|          | 1/391 [00:00<01:07,  5.76it/s]"
          ],
          "name": "stderr"
        },
        {
          "output_type": "stream",
          "text": [
            "\n",
            "Test set: Average loss: 0.0107, Accuracy: 5194/10000 (51.9400%)\n",
            "\n"
          ],
          "name": "stdout"
        },
        {
          "output_type": "stream",
          "text": [
            ""
          ],
          "name": "stderr"
        },
        {
          "output_type": "stream",
          "text": [
            "Epoch: 4,LR: 0.0534.\n",
            "Train set: train Average loss: 0.8828, train_Accuracy: 33275/50000 (66.5500%)\n",
            "\n"
          ],
          "name": "stdout"
        },
        {
          "output_type": "stream",
          "text": [
            "loss=0.9234803915023804 batch_id=0:   0%|          | 1/391 [00:00<01:08,  5.68it/s]"
          ],
          "name": "stderr"
        },
        {
          "output_type": "stream",
          "text": [
            "\n",
            "Test set: Average loss: 0.0200, Accuracy: 3326/10000 (33.2600%)\n",
            "\n"
          ],
          "name": "stdout"
        },
        {
          "output_type": "stream",
          "text": [
            ""
          ],
          "name": "stderr"
        },
        {
          "output_type": "stream",
          "text": [
            "Epoch: 5,LR: 0.0534.\n",
            "Train set: train Average loss: 1.0415, train_Accuracy: 33270/50000 (66.5400%)\n",
            "\n"
          ],
          "name": "stdout"
        },
        {
          "output_type": "stream",
          "text": [
            "loss=0.8573269844055176 batch_id=0:   0%|          | 1/391 [00:00<01:08,  5.73it/s]"
          ],
          "name": "stderr"
        },
        {
          "output_type": "stream",
          "text": [
            "\n",
            "Test set: Average loss: 0.0106, Accuracy: 5449/10000 (54.4900%)\n",
            "\n"
          ],
          "name": "stdout"
        },
        {
          "output_type": "stream",
          "text": [
            ""
          ],
          "name": "stderr"
        },
        {
          "output_type": "stream",
          "text": [
            "Epoch: 6,LR: 0.0534.\n",
            "Train set: train Average loss: 1.1841, train_Accuracy: 33456/50000 (66.9120%)\n",
            "\n"
          ],
          "name": "stdout"
        },
        {
          "output_type": "stream",
          "text": [
            "loss=1.006293773651123 batch_id=0:   0%|          | 1/391 [00:00<01:07,  5.80it/s]"
          ],
          "name": "stderr"
        },
        {
          "output_type": "stream",
          "text": [
            "\n",
            "Test set: Average loss: 0.0136, Accuracy: 4331/10000 (43.3100%)\n",
            "\n"
          ],
          "name": "stdout"
        },
        {
          "output_type": "stream",
          "text": [
            ""
          ],
          "name": "stderr"
        },
        {
          "output_type": "stream",
          "text": [
            "Epoch: 7,LR: 0.0534.\n",
            "Train set: train Average loss: 1.1830, train_Accuracy: 33262/50000 (66.5240%)\n",
            "\n",
            "\n",
            "Test set: Average loss: 0.0096, Accuracy: 5762/10000 (57.6200%)\n",
            "\n"
          ],
          "name": "stdout"
        }
      ]
    },
    {
      "cell_type": "code",
      "metadata": {
        "id": "7ISDAqABe5lh"
      },
      "source": [
        "# Save the model\n",
        "torch.save(model_, '/content/JEDI/tsai.jedi/model_objects/s10_resnet_albu_cutout_lrfinder_v1.pt')"
      ],
      "execution_count": 37,
      "outputs": []
    },
    {
      "cell_type": "code",
      "metadata": {
        "id": "W7mBGpadqnIx"
      },
      "source": [
        "PATH='/content/JEDI/tsai.jedi/model_objects/s10_resnet_albu_cutout_lrfinder_v1.pt'\n",
        "#PATH='/content/JEDI/tsai.jedi/model_objects/s9_resnet_albu_v2.pt'\n",
        "model = torch.load(PATH)\n",
        "model.eval()\n",
        "\n",
        "tot = 0\n",
        "data_ = []\n",
        "target_ = []\n",
        "pred_ = []\n",
        "correct = 0\n",
        "tot_correct = 0\n",
        "indx = []\n",
        "\n",
        "for data, target in test_loader_CIFAR10_alb:\n",
        "  data, target = data.to(config.device), target.to(config.device)\n",
        "  output = model(data)\n",
        "  #pred = output.cpu().data.numpy().argmax(dim=1, keepdim=True)  # get the index of the max log-probability\n",
        "  pred = output.argmax(dim=1, keepdim=True) \n",
        "  correct += pred.eq(target.view_as(pred)).sum().item()\n",
        "  equals = pred.eq(target.view_as(pred)).tolist()\n",
        "    \n",
        "  for idx in range(0,len(equals)):\n",
        "    if equals[idx] == [False]:\n",
        "      indx.append(idx)\n",
        "      data_.append(data[idx])\n",
        "      target_.append(target[idx])\n",
        "      pred_.append(pred[idx])\n",
        "\n",
        "\n",
        "  if len(indx) > 25:\n",
        "    break\n",
        "\t"
      ],
      "execution_count": 49,
      "outputs": []
    },
    {
      "cell_type": "code",
      "metadata": {
        "id": "yQg4E8kAsUG7",
        "outputId": "df3cc8b1-44b1-4586-be19-3e027061b85a",
        "colab": {
          "base_uri": "https://localhost:8080/",
          "height": 1000
        }
      },
      "source": [
        "import numpy\n",
        "import dataloader\n",
        "#from classes_CIFAR10 import classes_CIFAR10\n",
        "\n",
        "\n",
        "# plots images with labels within jupyter notebook\n",
        "def plots(ims, figsize=(32,32), rows=7, interp=False,titles = None,actual_label=None):\n",
        "    f = plt.figure(figsize=figsize)\n",
        "    cols = len(ims)//rows if len(ims) % 2 == 0 else len(ims)//rows + 1\n",
        "    for i in range(len(ims)):\n",
        "        sp = f.add_subplot(rows, cols, i+1)\n",
        "        if titles is not None and actual_label is not None:\n",
        "            sp.set_title(\"Pred:{}\\n Actual:{}\".format(classes_CIFAR10[titles[i]],\n",
        "                                                    classes_CIFAR10[actual_label[i]]), fontsize=14)\n",
        "            \n",
        "        sp.axis('Off')\n",
        "        \n",
        "        plt.imshow(torch.squeeze(ims[i]).permute(1,2,0).tolist() )\n",
        "\n",
        "plots(data_,titles = pred_,actual_label=target_)"
      ],
      "execution_count": 92,
      "outputs": [
        {
          "output_type": "stream",
          "text": [
            "Clipping input data to the valid range for imshow with RGB data ([0..1] for floats or [0..255] for integers).\n",
            "Clipping input data to the valid range for imshow with RGB data ([0..1] for floats or [0..255] for integers).\n",
            "Clipping input data to the valid range for imshow with RGB data ([0..1] for floats or [0..255] for integers).\n",
            "Clipping input data to the valid range for imshow with RGB data ([0..1] for floats or [0..255] for integers).\n",
            "Clipping input data to the valid range for imshow with RGB data ([0..1] for floats or [0..255] for integers).\n",
            "Clipping input data to the valid range for imshow with RGB data ([0..1] for floats or [0..255] for integers).\n",
            "Clipping input data to the valid range for imshow with RGB data ([0..1] for floats or [0..255] for integers).\n",
            "Clipping input data to the valid range for imshow with RGB data ([0..1] for floats or [0..255] for integers).\n",
            "Clipping input data to the valid range for imshow with RGB data ([0..1] for floats or [0..255] for integers).\n",
            "Clipping input data to the valid range for imshow with RGB data ([0..1] for floats or [0..255] for integers).\n",
            "Clipping input data to the valid range for imshow with RGB data ([0..1] for floats or [0..255] for integers).\n",
            "Clipping input data to the valid range for imshow with RGB data ([0..1] for floats or [0..255] for integers).\n",
            "Clipping input data to the valid range for imshow with RGB data ([0..1] for floats or [0..255] for integers).\n",
            "Clipping input data to the valid range for imshow with RGB data ([0..1] for floats or [0..255] for integers).\n",
            "Clipping input data to the valid range for imshow with RGB data ([0..1] for floats or [0..255] for integers).\n",
            "Clipping input data to the valid range for imshow with RGB data ([0..1] for floats or [0..255] for integers).\n",
            "Clipping input data to the valid range for imshow with RGB data ([0..1] for floats or [0..255] for integers).\n",
            "Clipping input data to the valid range for imshow with RGB data ([0..1] for floats or [0..255] for integers).\n",
            "Clipping input data to the valid range for imshow with RGB data ([0..1] for floats or [0..255] for integers).\n",
            "Clipping input data to the valid range for imshow with RGB data ([0..1] for floats or [0..255] for integers).\n",
            "Clipping input data to the valid range for imshow with RGB data ([0..1] for floats or [0..255] for integers).\n",
            "Clipping input data to the valid range for imshow with RGB data ([0..1] for floats or [0..255] for integers).\n",
            "Clipping input data to the valid range for imshow with RGB data ([0..1] for floats or [0..255] for integers).\n",
            "Clipping input data to the valid range for imshow with RGB data ([0..1] for floats or [0..255] for integers).\n",
            "Clipping input data to the valid range for imshow with RGB data ([0..1] for floats or [0..255] for integers).\n",
            "Clipping input data to the valid range for imshow with RGB data ([0..1] for floats or [0..255] for integers).\n",
            "Clipping input data to the valid range for imshow with RGB data ([0..1] for floats or [0..255] for integers).\n",
            "Clipping input data to the valid range for imshow with RGB data ([0..1] for floats or [0..255] for integers).\n",
            "Clipping input data to the valid range for imshow with RGB data ([0..1] for floats or [0..255] for integers).\n",
            "Clipping input data to the valid range for imshow with RGB data ([0..1] for floats or [0..255] for integers).\n",
            "Clipping input data to the valid range for imshow with RGB data ([0..1] for floats or [0..255] for integers).\n",
            "Clipping input data to the valid range for imshow with RGB data ([0..1] for floats or [0..255] for integers).\n",
            "Clipping input data to the valid range for imshow with RGB data ([0..1] for floats or [0..255] for integers).\n",
            "Clipping input data to the valid range for imshow with RGB data ([0..1] for floats or [0..255] for integers).\n",
            "Clipping input data to the valid range for imshow with RGB data ([0..1] for floats or [0..255] for integers).\n",
            "Clipping input data to the valid range for imshow with RGB data ([0..1] for floats or [0..255] for integers).\n",
            "Clipping input data to the valid range for imshow with RGB data ([0..1] for floats or [0..255] for integers).\n",
            "Clipping input data to the valid range for imshow with RGB data ([0..1] for floats or [0..255] for integers).\n",
            "Clipping input data to the valid range for imshow with RGB data ([0..1] for floats or [0..255] for integers).\n",
            "Clipping input data to the valid range for imshow with RGB data ([0..1] for floats or [0..255] for integers).\n",
            "Clipping input data to the valid range for imshow with RGB data ([0..1] for floats or [0..255] for integers).\n",
            "Clipping input data to the valid range for imshow with RGB data ([0..1] for floats or [0..255] for integers).\n",
            "Clipping input data to the valid range for imshow with RGB data ([0..1] for floats or [0..255] for integers).\n",
            "Clipping input data to the valid range for imshow with RGB data ([0..1] for floats or [0..255] for integers).\n",
            "Clipping input data to the valid range for imshow with RGB data ([0..1] for floats or [0..255] for integers).\n",
            "Clipping input data to the valid range for imshow with RGB data ([0..1] for floats or [0..255] for integers).\n",
            "Clipping input data to the valid range for imshow with RGB data ([0..1] for floats or [0..255] for integers).\n",
            "Clipping input data to the valid range for imshow with RGB data ([0..1] for floats or [0..255] for integers).\n",
            "Clipping input data to the valid range for imshow with RGB data ([0..1] for floats or [0..255] for integers).\n",
            "Clipping input data to the valid range for imshow with RGB data ([0..1] for floats or [0..255] for integers).\n",
            "Clipping input data to the valid range for imshow with RGB data ([0..1] for floats or [0..255] for integers).\n",
            "Clipping input data to the valid range for imshow with RGB data ([0..1] for floats or [0..255] for integers).\n",
            "Clipping input data to the valid range for imshow with RGB data ([0..1] for floats or [0..255] for integers).\n",
            "Clipping input data to the valid range for imshow with RGB data ([0..1] for floats or [0..255] for integers).\n",
            "Clipping input data to the valid range for imshow with RGB data ([0..1] for floats or [0..255] for integers).\n",
            "Clipping input data to the valid range for imshow with RGB data ([0..1] for floats or [0..255] for integers).\n",
            "Clipping input data to the valid range for imshow with RGB data ([0..1] for floats or [0..255] for integers).\n",
            "Clipping input data to the valid range for imshow with RGB data ([0..1] for floats or [0..255] for integers).\n",
            "Clipping input data to the valid range for imshow with RGB data ([0..1] for floats or [0..255] for integers).\n",
            "Clipping input data to the valid range for imshow with RGB data ([0..1] for floats or [0..255] for integers).\n",
            "Clipping input data to the valid range for imshow with RGB data ([0..1] for floats or [0..255] for integers).\n"
          ],
          "name": "stderr"
        },
        {
          "output_type": "display_data",
          "data": {
            "image/png": "[encoded data removed]",
            "text/plain": [
              "<Figure size 2304x2304 with 61 Axes>"
            ]
          },
          "metadata": {
            "tags": [],
            "needs_background": "light"
          }
        }
      ]
    },
    {
      "cell_type": "code",
      "metadata": {
        "id": "7gI6jtdqqsTu",
        "outputId": "301f3710-064e-43dc-e8c9-64645332ac11",
        "colab": {
          "base_uri": "https://localhost:8080/",
          "height": 397
        }
      },
      "source": [
        "#################gradcam for misclassified images ################\n",
        "import config\n",
        "from gradcam import GradCam\n",
        "from gradcam import show_cam_on_image\n",
        "gradcam_img = []\n",
        "for idx in range(len(data_)): \n",
        "    #ip = data_.index_select(0,torch.tensor(idx))\n",
        "    ip = data_[idx].permute(1,2,0)\n",
        "    print(((data_[idx].shape)))\n",
        "    grad_cam = GradCam(model=model, feature_module=model.layer3,target_layer_names=[\"1\"], use_cuda=config.use_cuda)\n",
        "    mask = grad_cam(ip)\n",
        "    op_img = show_cam_on_image(ip.squeeze().permute(1,2,0), mask)\n",
        "    gradcam_img.append(op_img)\n",
        "#plots(gradcam_img,titles=target_t )\n",
        "plots(data_,titles = pred_,actual_label=target_)\n"
      ],
      "execution_count": 105,
      "outputs": [
        {
          "output_type": "stream",
          "text": [
            "torch.Size([3, 32, 32])\n"
          ],
          "name": "stdout"
        },
        {
          "output_type": "error",
          "ename": "RuntimeError",
          "evalue": "ignored",
          "traceback": [
            "\u001b[0;31m---------------------------------------------------------------------------\u001b[0m",
            "\u001b[0;31mRuntimeError\u001b[0m                              Traceback (most recent call last)",
            "\u001b[0;32m<ipython-input-105-9c8663b45e72>\u001b[0m in \u001b[0;36m<module>\u001b[0;34m()\u001b[0m\n\u001b[1;32m      9\u001b[0m     \u001b[0mprint\u001b[0m\u001b[0;34m(\u001b[0m\u001b[0;34m(\u001b[0m\u001b[0;34m(\u001b[0m\u001b[0mdata_\u001b[0m\u001b[0;34m[\u001b[0m\u001b[0midx\u001b[0m\u001b[0;34m]\u001b[0m\u001b[0;34m.\u001b[0m\u001b[0mshape\u001b[0m\u001b[0;34m)\u001b[0m\u001b[0;34m)\u001b[0m\u001b[0;34m)\u001b[0m\u001b[0;34m\u001b[0m\u001b[0;34m\u001b[0m\u001b[0m\n\u001b[1;32m     10\u001b[0m     \u001b[0mgrad_cam\u001b[0m \u001b[0;34m=\u001b[0m \u001b[0mGradCam\u001b[0m\u001b[0;34m(\u001b[0m\u001b[0mmodel\u001b[0m\u001b[0;34m=\u001b[0m\u001b[0mmodel\u001b[0m\u001b[0;34m,\u001b[0m \u001b[0mfeature_module\u001b[0m\u001b[0;34m=\u001b[0m\u001b[0mmodel\u001b[0m\u001b[0;34m.\u001b[0m\u001b[0mlayer3\u001b[0m\u001b[0;34m,\u001b[0m\u001b[0mtarget_layer_names\u001b[0m\u001b[0;34m=\u001b[0m\u001b[0;34m[\u001b[0m\u001b[0;34m\"1\"\u001b[0m\u001b[0;34m]\u001b[0m\u001b[0;34m,\u001b[0m \u001b[0muse_cuda\u001b[0m\u001b[0;34m=\u001b[0m\u001b[0mconfig\u001b[0m\u001b[0;34m.\u001b[0m\u001b[0muse_cuda\u001b[0m\u001b[0;34m)\u001b[0m\u001b[0;34m\u001b[0m\u001b[0;34m\u001b[0m\u001b[0m\n\u001b[0;32m---> 11\u001b[0;31m     \u001b[0mmask\u001b[0m \u001b[0;34m=\u001b[0m \u001b[0mgrad_cam\u001b[0m\u001b[0;34m(\u001b[0m\u001b[0mip\u001b[0m\u001b[0;34m)\u001b[0m\u001b[0;34m\u001b[0m\u001b[0;34m\u001b[0m\u001b[0m\n\u001b[0m\u001b[1;32m     12\u001b[0m     \u001b[0mop_img\u001b[0m \u001b[0;34m=\u001b[0m \u001b[0mshow_cam_on_image\u001b[0m\u001b[0;34m(\u001b[0m\u001b[0mip\u001b[0m\u001b[0;34m.\u001b[0m\u001b[0msqueeze\u001b[0m\u001b[0;34m(\u001b[0m\u001b[0;34m)\u001b[0m\u001b[0;34m.\u001b[0m\u001b[0mpermute\u001b[0m\u001b[0;34m(\u001b[0m\u001b[0;36m1\u001b[0m\u001b[0;34m,\u001b[0m\u001b[0;36m2\u001b[0m\u001b[0;34m,\u001b[0m\u001b[0;36m0\u001b[0m\u001b[0;34m)\u001b[0m\u001b[0;34m,\u001b[0m \u001b[0mmask\u001b[0m\u001b[0;34m)\u001b[0m\u001b[0;34m\u001b[0m\u001b[0;34m\u001b[0m\u001b[0m\n\u001b[1;32m     13\u001b[0m     \u001b[0mgradcam_img\u001b[0m\u001b[0;34m.\u001b[0m\u001b[0mappend\u001b[0m\u001b[0;34m(\u001b[0m\u001b[0mop_img\u001b[0m\u001b[0;34m)\u001b[0m\u001b[0;34m\u001b[0m\u001b[0;34m\u001b[0m\u001b[0m\n",
            "\u001b[0;32m/content/JEDI/tsai.jedi/gradcam.py\u001b[0m in \u001b[0;36m__call__\u001b[0;34m(self, input, index)\u001b[0m\n\u001b[1;32m    101\u001b[0m     \u001b[0;32mdef\u001b[0m \u001b[0m__call__\u001b[0m\u001b[0;34m(\u001b[0m\u001b[0mself\u001b[0m\u001b[0;34m,\u001b[0m \u001b[0minput\u001b[0m\u001b[0;34m,\u001b[0m \u001b[0mindex\u001b[0m\u001b[0;34m=\u001b[0m\u001b[0;32mNone\u001b[0m\u001b[0;34m)\u001b[0m\u001b[0;34m:\u001b[0m\u001b[0;34m\u001b[0m\u001b[0;34m\u001b[0m\u001b[0m\n\u001b[1;32m    102\u001b[0m         \u001b[0;32mif\u001b[0m \u001b[0mself\u001b[0m\u001b[0;34m.\u001b[0m\u001b[0mcuda\u001b[0m\u001b[0;34m:\u001b[0m\u001b[0;34m\u001b[0m\u001b[0;34m\u001b[0m\u001b[0m\n\u001b[0;32m--> 103\u001b[0;31m             \u001b[0mfeatures\u001b[0m\u001b[0;34m,\u001b[0m \u001b[0moutput\u001b[0m \u001b[0;34m=\u001b[0m \u001b[0mself\u001b[0m\u001b[0;34m.\u001b[0m\u001b[0mextractor\u001b[0m\u001b[0;34m(\u001b[0m\u001b[0minput\u001b[0m\u001b[0;34m.\u001b[0m\u001b[0mcuda\u001b[0m\u001b[0;34m(\u001b[0m\u001b[0;34m)\u001b[0m\u001b[0;34m)\u001b[0m\u001b[0;34m\u001b[0m\u001b[0;34m\u001b[0m\u001b[0m\n\u001b[0m\u001b[1;32m    104\u001b[0m         \u001b[0;32melse\u001b[0m\u001b[0;34m:\u001b[0m\u001b[0;34m\u001b[0m\u001b[0;34m\u001b[0m\u001b[0m\n\u001b[1;32m    105\u001b[0m             \u001b[0mfeatures\u001b[0m\u001b[0;34m,\u001b[0m \u001b[0moutput\u001b[0m \u001b[0;34m=\u001b[0m \u001b[0mself\u001b[0m\u001b[0;34m.\u001b[0m\u001b[0mextractor\u001b[0m\u001b[0;34m(\u001b[0m\u001b[0minput\u001b[0m\u001b[0;34m)\u001b[0m\u001b[0;34m\u001b[0m\u001b[0;34m\u001b[0m\u001b[0m\n",
            "\u001b[0;32m/content/JEDI/tsai.jedi/gradcam.py\u001b[0m in \u001b[0;36m__call__\u001b[0;34m(self, x)\u001b[0m\n\u001b[1;32m     52\u001b[0m                 \u001b[0mx\u001b[0m \u001b[0;34m=\u001b[0m \u001b[0mx\u001b[0m\u001b[0;34m.\u001b[0m\u001b[0mview\u001b[0m\u001b[0;34m(\u001b[0m\u001b[0mx\u001b[0m\u001b[0;34m.\u001b[0m\u001b[0msize\u001b[0m\u001b[0;34m(\u001b[0m\u001b[0;36m0\u001b[0m\u001b[0;34m)\u001b[0m\u001b[0;34m,\u001b[0m \u001b[0;34m-\u001b[0m\u001b[0;36m1\u001b[0m\u001b[0;34m)\u001b[0m\u001b[0;34m\u001b[0m\u001b[0;34m\u001b[0m\u001b[0m\n\u001b[1;32m     53\u001b[0m             \u001b[0;32melse\u001b[0m\u001b[0;34m:\u001b[0m\u001b[0;34m\u001b[0m\u001b[0;34m\u001b[0m\u001b[0m\n\u001b[0;32m---> 54\u001b[0;31m                 \u001b[0mx\u001b[0m \u001b[0;34m=\u001b[0m \u001b[0mmodule\u001b[0m\u001b[0;34m(\u001b[0m\u001b[0mx\u001b[0m\u001b[0;34m)\u001b[0m\u001b[0;34m\u001b[0m\u001b[0;34m\u001b[0m\u001b[0m\n\u001b[0m\u001b[1;32m     55\u001b[0m \u001b[0;34m\u001b[0m\u001b[0m\n\u001b[1;32m     56\u001b[0m         \u001b[0;32mreturn\u001b[0m \u001b[0mtarget_activations\u001b[0m\u001b[0;34m,\u001b[0m \u001b[0mx\u001b[0m\u001b[0;34m\u001b[0m\u001b[0;34m\u001b[0m\u001b[0m\n",
            "\u001b[0;32m/usr/local/lib/python3.6/dist-packages/torch/nn/modules/module.py\u001b[0m in \u001b[0;36m_call_impl\u001b[0;34m(self, *input, **kwargs)\u001b[0m\n\u001b[1;32m    720\u001b[0m             \u001b[0mresult\u001b[0m \u001b[0;34m=\u001b[0m \u001b[0mself\u001b[0m\u001b[0;34m.\u001b[0m\u001b[0m_slow_forward\u001b[0m\u001b[0;34m(\u001b[0m\u001b[0;34m*\u001b[0m\u001b[0minput\u001b[0m\u001b[0;34m,\u001b[0m \u001b[0;34m**\u001b[0m\u001b[0mkwargs\u001b[0m\u001b[0;34m)\u001b[0m\u001b[0;34m\u001b[0m\u001b[0;34m\u001b[0m\u001b[0m\n\u001b[1;32m    721\u001b[0m         \u001b[0;32melse\u001b[0m\u001b[0;34m:\u001b[0m\u001b[0;34m\u001b[0m\u001b[0;34m\u001b[0m\u001b[0m\n\u001b[0;32m--> 722\u001b[0;31m             \u001b[0mresult\u001b[0m \u001b[0;34m=\u001b[0m \u001b[0mself\u001b[0m\u001b[0;34m.\u001b[0m\u001b[0mforward\u001b[0m\u001b[0;34m(\u001b[0m\u001b[0;34m*\u001b[0m\u001b[0minput\u001b[0m\u001b[0;34m,\u001b[0m \u001b[0;34m**\u001b[0m\u001b[0mkwargs\u001b[0m\u001b[0;34m)\u001b[0m\u001b[0;34m\u001b[0m\u001b[0;34m\u001b[0m\u001b[0m\n\u001b[0m\u001b[1;32m    723\u001b[0m         for hook in itertools.chain(\n\u001b[1;32m    724\u001b[0m                 \u001b[0m_global_forward_hooks\u001b[0m\u001b[0;34m.\u001b[0m\u001b[0mvalues\u001b[0m\u001b[0;34m(\u001b[0m\u001b[0;34m)\u001b[0m\u001b[0;34m,\u001b[0m\u001b[0;34m\u001b[0m\u001b[0;34m\u001b[0m\u001b[0m\n",
            "\u001b[0;32m/usr/local/lib/python3.6/dist-packages/torch/nn/modules/conv.py\u001b[0m in \u001b[0;36mforward\u001b[0;34m(self, input)\u001b[0m\n\u001b[1;32m    417\u001b[0m \u001b[0;34m\u001b[0m\u001b[0m\n\u001b[1;32m    418\u001b[0m     \u001b[0;32mdef\u001b[0m \u001b[0mforward\u001b[0m\u001b[0;34m(\u001b[0m\u001b[0mself\u001b[0m\u001b[0;34m,\u001b[0m \u001b[0minput\u001b[0m\u001b[0;34m:\u001b[0m \u001b[0mTensor\u001b[0m\u001b[0;34m)\u001b[0m \u001b[0;34m->\u001b[0m \u001b[0mTensor\u001b[0m\u001b[0;34m:\u001b[0m\u001b[0;34m\u001b[0m\u001b[0;34m\u001b[0m\u001b[0m\n\u001b[0;32m--> 419\u001b[0;31m         \u001b[0;32mreturn\u001b[0m \u001b[0mself\u001b[0m\u001b[0;34m.\u001b[0m\u001b[0m_conv_forward\u001b[0m\u001b[0;34m(\u001b[0m\u001b[0minput\u001b[0m\u001b[0;34m,\u001b[0m \u001b[0mself\u001b[0m\u001b[0;34m.\u001b[0m\u001b[0mweight\u001b[0m\u001b[0;34m)\u001b[0m\u001b[0;34m\u001b[0m\u001b[0;34m\u001b[0m\u001b[0m\n\u001b[0m\u001b[1;32m    420\u001b[0m \u001b[0;34m\u001b[0m\u001b[0m\n\u001b[1;32m    421\u001b[0m \u001b[0;32mclass\u001b[0m \u001b[0mConv3d\u001b[0m\u001b[0;34m(\u001b[0m\u001b[0m_ConvNd\u001b[0m\u001b[0;34m)\u001b[0m\u001b[0;34m:\u001b[0m\u001b[0;34m\u001b[0m\u001b[0;34m\u001b[0m\u001b[0m\n",
            "\u001b[0;32m/usr/local/lib/python3.6/dist-packages/torch/nn/modules/conv.py\u001b[0m in \u001b[0;36m_conv_forward\u001b[0;34m(self, input, weight)\u001b[0m\n\u001b[1;32m    414\u001b[0m                             _pair(0), self.dilation, self.groups)\n\u001b[1;32m    415\u001b[0m         return F.conv2d(input, weight, self.bias, self.stride,\n\u001b[0;32m--> 416\u001b[0;31m                         self.padding, self.dilation, self.groups)\n\u001b[0m\u001b[1;32m    417\u001b[0m \u001b[0;34m\u001b[0m\u001b[0m\n\u001b[1;32m    418\u001b[0m     \u001b[0;32mdef\u001b[0m \u001b[0mforward\u001b[0m\u001b[0;34m(\u001b[0m\u001b[0mself\u001b[0m\u001b[0;34m,\u001b[0m \u001b[0minput\u001b[0m\u001b[0;34m:\u001b[0m \u001b[0mTensor\u001b[0m\u001b[0;34m)\u001b[0m \u001b[0;34m->\u001b[0m \u001b[0mTensor\u001b[0m\u001b[0;34m:\u001b[0m\u001b[0;34m\u001b[0m\u001b[0;34m\u001b[0m\u001b[0m\n",
            "\u001b[0;31mRuntimeError\u001b[0m: Expected 4-dimensional input for 4-dimensional weight [64, 3, 3, 3], but got 3-dimensional input of size [32, 32, 3] instead"
          ]
        }
      ]
    },
    {
      "cell_type": "code",
      "metadata": {
        "id": "cwuzdZ7sgAMR"
      },
      "source": [
        "import copy\n",
        "import os\n",
        "import torch\n",
        "import numpy as np\n",
        "from tqdm.autonotebook import tqdm\n",
        "from torch.optim.lr_scheduler import _LRScheduler\n",
        "import matplotlib.pyplot as plt\n",
        "from torch.utils.data import DataLoader\n",
        "\n",
        "from packaging import version\n",
        "\n",
        "PYTORCH_VERSION = version.parse(torch.__version__)\n",
        "\n",
        "try:\n",
        "    from apex import amp\n",
        "\n",
        "    IS_AMP_AVAILABLE = True\n",
        "except ImportError:\n",
        "    IS_AMP_AVAILABLE = False\n",
        "\n",
        "\n",
        "class DataLoaderIter(object):\n",
        "    def __init__(self, data_loader):\n",
        "        self.data_loader = data_loader\n",
        "        self._iterator = iter(data_loader)\n",
        "\n",
        "    @property\n",
        "    def dataset(self):\n",
        "        return self.data_loader.dataset\n",
        "\n",
        "    def inputs_labels_from_batch(self, batch_data):\n",
        "        if not isinstance(batch_data, list) and not isinstance(batch_data, tuple):\n",
        "            raise ValueError(\n",
        "                \"Your batch type is not supported: {}. Please inherit from \"\n",
        "                \"`TrainDataLoaderIter` or `ValDataLoaderIter` and override the \"\n",
        "                \"`inputs_labels_from_batch` method.\".format(type(batch_data))\n",
        "            )\n",
        "\n",
        "        inputs, labels, *_ = batch_data\n",
        "\n",
        "        return inputs, labels\n",
        "\n",
        "    def __iter__(self):\n",
        "        return self\n",
        "\n",
        "    def __next__(self):\n",
        "        batch = next(self._iterator)\n",
        "        return self.inputs_labels_from_batch(batch)\n",
        "\n",
        "\n",
        "class TrainDataLoaderIter(DataLoaderIter):\n",
        "    def __init__(self, data_loader, auto_reset=True):\n",
        "        super().__init__(data_loader)\n",
        "        self.auto_reset = auto_reset\n",
        "\n",
        "    def __next__(self):\n",
        "        try:\n",
        "            batch = next(self._iterator)\n",
        "            inputs, labels = self.inputs_labels_from_batch(batch)\n",
        "        except StopIteration:\n",
        "            if not self.auto_reset:\n",
        "                raise\n",
        "            self._iterator = iter(self.data_loader)\n",
        "            batch = next(self._iterator)\n",
        "            inputs, labels = self.inputs_labels_from_batch(batch)\n",
        "\n",
        "        return inputs, labels\n",
        "\n",
        "\n",
        "class ValDataLoaderIter(DataLoaderIter):\n",
        "    \"\"\"This iterator will reset itself **only** when it is acquired by\n",
        "    the syntax of normal `iterator`. That is, this iterator just works\n",
        "    like a `torch.data.DataLoader`. If you want to restart it, you\n",
        "    should use it like:\n",
        "\n",
        "        ```\n",
        "        loader_iter = ValDataLoaderIter(data_loader)\n",
        "        for batch in loader_iter:\n",
        "            ...\n",
        "\n",
        "        # `loader_iter` should run out of values now, you can restart it by:\n",
        "        # 1. the way we use a `torch.data.DataLoader`\n",
        "        for batch in loader_iter:        # __iter__ is called implicitly\n",
        "            ...\n",
        "\n",
        "        # 2. passing it into `iter()` manually\n",
        "        loader_iter = iter(loader_iter)  # __iter__ is called by `iter()`\n",
        "        ```\n",
        "    \"\"\"\n",
        "\n",
        "    def __init__(self, data_loader):\n",
        "        super().__init__(data_loader)\n",
        "        self.run_limit = len(self.data_loader)\n",
        "        self.run_counter = 0\n",
        "\n",
        "    def __iter__(self):\n",
        "        if self.run_counter >= self.run_limit:\n",
        "            self._iterator = iter(self.data_loader)\n",
        "            self.run_counter = 0\n",
        "        return self\n",
        "\n",
        "    def __next__(self):\n",
        "        self.run_counter += 1\n",
        "        return super(ValDataLoaderIter, self).__next__()\n",
        "\n",
        "\n",
        "class LRFinder(object):\n",
        "    \"\"\"Learning rate range test.\n",
        "\n",
        "    The learning rate range test increases the learning rate in a pre-training run\n",
        "    between two boundaries in a linear or exponential manner. It provides valuable\n",
        "    information on how well the network can be trained over a range of learning rates\n",
        "    and what is the optimal learning rate.\n",
        "\n",
        "    Arguments:\n",
        "        model (torch.nn.Module): wrapped model.\n",
        "        optimizer (torch.optim.Optimizer): wrapped optimizer where the defined learning\n",
        "            is assumed to be the lower boundary of the range test.\n",
        "        criterion (torch.nn.Module): wrapped loss function.\n",
        "        device (str or torch.device, optional): a string (\"cpu\" or \"cuda\") with an\n",
        "            optional ordinal for the device type (e.g. \"cuda:X\", where is the ordinal).\n",
        "            Alternatively, can be an object representing the device on which the\n",
        "            computation will take place. Default: None, uses the same device as `model`.\n",
        "        memory_cache (boolean, optional): if this flag is set to True, `state_dict` of\n",
        "            model and optimizer will be cached in memory. Otherwise, they will be saved\n",
        "            to files under the `cache_dir`.\n",
        "        cache_dir (string, optional): path for storing temporary files. If no path is\n",
        "            specified, system-wide temporary directory is used. Notice that this\n",
        "            parameter will be ignored if `memory_cache` is True.\n",
        "\n",
        "    Example:\n",
        "        >>> lr_finder = LRFinder(net, optimizer, criterion, device=\"cuda\")\n",
        "        >>> lr_finder.range_test(dataloader, end_lr=100, num_iter=100)\n",
        "        >>> lr_finder.plot() # to inspect the loss-learning rate graph\n",
        "        >>> lr_finder.reset() # to reset the model and optimizer to their initial state\n",
        "\n",
        "    Reference:\n",
        "    Cyclical Learning Rates for Training Neural Networks: https://arxiv.org/abs/1506.01186\n",
        "    fastai/lr_find: https://github.com/fastai/fastai\n",
        "    \"\"\"\n",
        "\n",
        "    def __init__(\n",
        "        self,\n",
        "        model,\n",
        "        optimizer,\n",
        "        criterion,\n",
        "        device=None,\n",
        "        memory_cache=True,\n",
        "        cache_dir=None,\n",
        "    ):\n",
        "        # Check if the optimizer is already attached to a scheduler\n",
        "        self.optimizer = optimizer\n",
        "        self._check_for_scheduler()\n",
        "\n",
        "        self.model = model\n",
        "        self.criterion = criterion\n",
        "        self.history = {\"lr\": [], \"loss\": []}\n",
        "        self.best_loss = None\n",
        "        self.memory_cache = memory_cache\n",
        "        self.cache_dir = cache_dir\n",
        "\n",
        "        # Save the original state of the model and optimizer so they can be restored if\n",
        "        # needed\n",
        "        self.model_device = next(self.model.parameters()).device\n",
        "        self.state_cacher = StateCacher(memory_cache, cache_dir=cache_dir)\n",
        "        self.state_cacher.store(\"model\", self.model.state_dict())\n",
        "        self.state_cacher.store(\"optimizer\", self.optimizer.state_dict())\n",
        "\n",
        "        # If device is None, use the same as the model\n",
        "        if device:\n",
        "            self.device = device\n",
        "        else:\n",
        "            self.device = self.model_device\n",
        "\n",
        "    def reset(self):\n",
        "        \"\"\"Restores the model and optimizer to their initial states.\"\"\"\n",
        "\n",
        "        self.model.load_state_dict(self.state_cacher.retrieve(\"model\"))\n",
        "        self.optimizer.load_state_dict(self.state_cacher.retrieve(\"optimizer\"))\n",
        "        self.model.to(self.model_device)\n",
        "\n",
        "    def range_test(\n",
        "        self,\n",
        "        train_loader,\n",
        "        val_loader=None,\n",
        "        start_lr=None,\n",
        "        end_lr=10,\n",
        "        num_iter=100,\n",
        "        step_mode=\"exp\",\n",
        "        smooth_f=0.05,\n",
        "        diverge_th=5,\n",
        "        accumulation_steps=1,\n",
        "        non_blocking_transfer=True,\n",
        "    ):\n",
        "        \"\"\"Performs the learning rate range test.\n",
        "\n",
        "        Arguments:\n",
        "            train_loader (`torch.utils.data.DataLoader`\n",
        "                or child of `TrainDataLoaderIter`, optional):\n",
        "                the training set data loader.\n",
        "                If your dataset (data loader) returns a tuple (inputs, labels,*) then\n",
        "                Pytorch data loader object can be provided. However, if a dataset\n",
        "                returns different outputs e.g. dicts, then you should inherit\n",
        "                from `TrainDataLoaderIter` class and redefine `inputs_labels_from_batch`\n",
        "                method so that it outputs (inputs, labels).\n",
        "            val_loader (`torch.utils.data.DataLoader`\n",
        "                or child of `ValDataLoaderIter`, optional): if `None` the range test\n",
        "                will only use the training loss. When given a data loader, the model is\n",
        "                evaluated after each iteration on that dataset and the evaluation loss\n",
        "                is used. Note that in this mode the test takes significantly longer but\n",
        "                generally produces more precise results.\n",
        "                Similarly to `train_loader`, if your dataset outputs are not standard\n",
        "                you should inherit from `ValDataLoaderIter` class and\n",
        "                redefine method `inputs_labels_from_batch` so that\n",
        "                it outputs (inputs, labels). Default: None.\n",
        "            start_lr (float, optional): the starting learning rate for the range test.\n",
        "                Default: None (uses the learning rate from the optimizer).\n",
        "            end_lr (float, optional): the maximum learning rate to test. Default: 10.\n",
        "            num_iter (int, optional): the number of iterations over which the test\n",
        "                occurs. Default: 100.\n",
        "            step_mode (str, optional): one of the available learning rate policies,\n",
        "                linear or exponential (\"linear\", \"exp\"). Default: \"exp\".\n",
        "            smooth_f (float, optional): the loss smoothing factor within the [0, 1[\n",
        "                interval. Disabled if set to 0, otherwise the loss is smoothed using\n",
        "                exponential smoothing. Default: 0.05.\n",
        "            diverge_th (int, optional): the test is stopped when the loss surpasses the\n",
        "                threshold:  diverge_th * best_loss. Default: 5.\n",
        "            accumulation_steps (int, optional): steps for gradient accumulation. If it\n",
        "                is 1, gradients are not accumulated. Default: 1.\n",
        "            non_blocking_transfer (bool, optional): when non_blocking_transfer is set,\n",
        "                tries to convert/move data to the device asynchronously if possible,\n",
        "                e.g., moving CPU Tensors with pinned memory to CUDA devices. Default: True.\n",
        "\n",
        "        Example (fastai approach):\n",
        "            >>> lr_finder = LRFinder(net, optimizer, criterion, device=\"cuda\")\n",
        "            >>> lr_finder.range_test(dataloader, end_lr=100, num_iter=100)\n",
        "\n",
        "        Example (Leslie Smith's approach):\n",
        "            >>> lr_finder = LRFinder(net, optimizer, criterion, device=\"cuda\")\n",
        "            >>> lr_finder.range_test(trainloader, val_loader=val_loader, end_lr=1, num_iter=100, step_mode=\"linear\")\n",
        "\n",
        "        Gradient accumulation is supported; example:\n",
        "            >>> train_data = ...    # prepared dataset\n",
        "            >>> desired_bs, real_bs = 32, 4         # batch size\n",
        "            >>> accumulation_steps = desired_bs // real_bs     # required steps for accumulation\n",
        "            >>> dataloader = torch.utils.data.DataLoader(train_data, batch_size=real_bs, shuffle=True)\n",
        "            >>> acc_lr_finder = LRFinder(net, optimizer, criterion, device=\"cuda\")\n",
        "            >>> acc_lr_finder.range_test(dataloader, end_lr=10, num_iter=100, accumulation_steps=accumulation_steps)\n",
        "\n",
        "        If your DataLoader returns e.g. dict, or other non standard output, intehit from TrainDataLoaderIter,\n",
        "        redefine method `inputs_labels_from_batch` so that it outputs (inputs, lables) data:\n",
        "            >>> import torch_lr_finder\n",
        "            >>> class TrainIter(torch_lr_finder.TrainDataLoaderIter):\n",
        "            >>>     def inputs_labels_from_batch(self, batch_data):\n",
        "            >>>         return (batch_data['user_features'], batch_data['user_history']), batch_data['y_labels']\n",
        "            >>> train_data_iter = TrainIter(train_dl)\n",
        "            >>> finder = torch_lr_finder.LRFinder(model, optimizer, partial(model._train_loss, need_one_hot=False))\n",
        "            >>> finder.range_test(train_data_iter, end_lr=10, num_iter=300, diverge_th=10)\n",
        "\n",
        "        Reference:\n",
        "        [Training Neural Nets on Larger Batches: Practical Tips for 1-GPU, Multi-GPU & Distributed setups](\n",
        "        https://medium.com/huggingface/ec88c3e51255)\n",
        "        [thomwolf/gradient_accumulation](https://gist.github.com/thomwolf/ac7a7da6b1888c2eeac8ac8b9b05d3d3)\n",
        "        \"\"\"\n",
        "\n",
        "        # Reset test results\n",
        "        self.history = {\"lr\": [], \"loss\": []}\n",
        "        self.best_loss = None\n",
        "\n",
        "        # Move the model to the proper device\n",
        "        self.model.to(self.device)\n",
        "\n",
        "        # Check if the optimizer is already attached to a scheduler\n",
        "        self._check_for_scheduler()\n",
        "\n",
        "        # Set the starting learning rate\n",
        "        if start_lr:\n",
        "            self._set_learning_rate(start_lr)\n",
        "\n",
        "        # Initialize the proper learning rate policy\n",
        "        if step_mode.lower() == \"exp\":\n",
        "            lr_schedule = ExponentialLR(self.optimizer, end_lr, num_iter)\n",
        "        elif step_mode.lower() == \"linear\":\n",
        "            lr_schedule = LinearLR(self.optimizer, end_lr, num_iter)\n",
        "        else:\n",
        "            raise ValueError(\"expected one of (exp, linear), got {}\".format(step_mode))\n",
        "\n",
        "        if smooth_f < 0 or smooth_f >= 1:\n",
        "            raise ValueError(\"smooth_f is outside the range [0, 1[\")\n",
        "\n",
        "        # Create an iterator to get data batch by batch\n",
        "        if isinstance(train_loader, DataLoader):\n",
        "            train_iter = TrainDataLoaderIter(train_loader)\n",
        "        elif isinstance(train_loader, TrainDataLoaderIter):\n",
        "            train_iter = train_loader\n",
        "        else:\n",
        "            raise ValueError(\n",
        "                \"`train_loader` has unsupported type: {}.\"\n",
        "                \"Expected types are `torch.utils.data.DataLoader`\"\n",
        "                \"or child of `TrainDataLoaderIter`.\".format(type(train_loader))\n",
        "            )\n",
        "\n",
        "        if val_loader:\n",
        "            if isinstance(val_loader, DataLoader):\n",
        "                val_iter = ValDataLoaderIter(val_loader)\n",
        "            elif isinstance(val_loader, ValDataLoaderIter):\n",
        "                val_iter = val_loader\n",
        "            else:\n",
        "                raise ValueError(\n",
        "                    \"`val_loader` has unsupported type: {}.\"\n",
        "                    \"Expected types are `torch.utils.data.DataLoader`\"\n",
        "                    \"or child of `ValDataLoaderIter`.\".format(type(val_loader))\n",
        "                )\n",
        "\n",
        "        for iteration in tqdm(range(num_iter)):\n",
        "            # Train on batch and retrieve loss\n",
        "            loss = self._train_batch(\n",
        "                train_iter,\n",
        "                accumulation_steps,\n",
        "                non_blocking_transfer=non_blocking_transfer,\n",
        "            )\n",
        "            if val_loader:\n",
        "                loss = self._validate(\n",
        "                    val_iter, non_blocking_transfer=non_blocking_transfer\n",
        "                )\n",
        "\n",
        "            # Update the learning rate\n",
        "            self.history[\"lr\"].append(lr_schedule.get_lr()[0])\n",
        "            lr_schedule.step()\n",
        "\n",
        "            # Track the best loss and smooth it if smooth_f is specified\n",
        "            if iteration == 0:\n",
        "                self.best_loss = loss\n",
        "            else:\n",
        "                if smooth_f > 0:\n",
        "                    loss = smooth_f * loss + (1 - smooth_f) * self.history[\"loss\"][-1]\n",
        "                if loss < self.best_loss:\n",
        "                    self.best_loss = loss\n",
        "\n",
        "            # Check if the loss has diverged; if it has, stop the test\n",
        "            self.history[\"loss\"].append(loss)\n",
        "            if loss > diverge_th * self.best_loss:\n",
        "                print(\"Stopping early, the loss has diverged\")\n",
        "                break\n",
        "\n",
        "        print(\"Learning rate search finished. See the graph with {finder_name}.plot()\")\n",
        "\n",
        "    def _set_learning_rate(self, new_lrs):\n",
        "        if not isinstance(new_lrs, list):\n",
        "            new_lrs = [new_lrs] * len(self.optimizer.param_groups)\n",
        "        if len(new_lrs) != len(self.optimizer.param_groups):\n",
        "            raise ValueError(\n",
        "                \"Length of `new_lrs` is not equal to the number of parameter groups \"\n",
        "                + \"in the given optimizer\"\n",
        "            )\n",
        "\n",
        "        for param_group, new_lr in zip(self.optimizer.param_groups, new_lrs):\n",
        "            param_group[\"lr\"] = new_lr\n",
        "\n",
        "    def _check_for_scheduler(self):\n",
        "        for param_group in self.optimizer.param_groups:\n",
        "            if \"initial_lr\" in param_group:\n",
        "                raise RuntimeError(\"Optimizer already has a scheduler attached to it\")\n",
        "\n",
        "    def _train_batch(self, train_iter, accumulation_steps, non_blocking_transfer=True):\n",
        "        self.model.train()\n",
        "        total_loss = None  # for late initialization\n",
        "\n",
        "        self.optimizer.zero_grad()\n",
        "        for i in range(accumulation_steps):\n",
        "            inputs, labels = next(train_iter)\n",
        "            inputs, labels = self._move_to_device(\n",
        "                inputs, labels, non_blocking=non_blocking_transfer\n",
        "            )\n",
        "\n",
        "            # Forward pass\n",
        "            outputs = self.model(inputs)\n",
        "            loss = self.criterion(outputs, labels)\n",
        "\n",
        "            # Loss should be averaged in each step\n",
        "            loss /= accumulation_steps\n",
        "\n",
        "            # Backward pass\n",
        "            if IS_AMP_AVAILABLE and hasattr(self.optimizer, \"_amp_stash\"):\n",
        "                # For minor performance optimization, see also:\n",
        "                # https://nvidia.github.io/apex/advanced.html#gradient-accumulation-across-iterations\n",
        "                delay_unscale = ((i + 1) % accumulation_steps) != 0\n",
        "\n",
        "                with amp.scale_loss(\n",
        "                    loss, self.optimizer, delay_unscale=delay_unscale\n",
        "                ) as scaled_loss:\n",
        "                    scaled_loss.backward()\n",
        "            else:\n",
        "                loss.backward()\n",
        "\n",
        "            if total_loss is None:\n",
        "                total_loss = loss\n",
        "            else:\n",
        "                total_loss += loss\n",
        "\n",
        "        self.optimizer.step()\n",
        "\n",
        "        return total_loss.item()\n",
        "\n",
        "    def _move_to_device(self, inputs, labels, non_blocking=True):\n",
        "        def move(obj, device, non_blocking=True):\n",
        "            if hasattr(obj, \"to\"):\n",
        "                return obj.to(device, non_blocking=non_blocking)\n",
        "            elif isinstance(obj, tuple):\n",
        "                return tuple(move(o, device, non_blocking) for o in obj)\n",
        "            elif isinstance(obj, list):\n",
        "                return [move(o, device, non_blocking) for o in obj]\n",
        "            elif isinstance(obj, dict):\n",
        "                return {k: move(o, device, non_blocking) for k, o in obj.items()}\n",
        "            else:\n",
        "                return obj\n",
        "\n",
        "        inputs = move(inputs, self.device, non_blocking=non_blocking)\n",
        "        labels = move(labels, self.device, non_blocking=non_blocking)\n",
        "        return inputs, labels\n",
        "\n",
        "    def _validate(self, val_iter, non_blocking_transfer=True):\n",
        "        # Set model to evaluation mode and disable gradient computation\n",
        "        running_loss = 0\n",
        "        self.model.eval()\n",
        "        with torch.no_grad():\n",
        "            for inputs, labels in val_iter:\n",
        "                # Move data to the correct device\n",
        "                inputs, labels = self._move_to_device(\n",
        "                    inputs, labels, non_blocking=non_blocking_transfer\n",
        "                )\n",
        "\n",
        "                # Forward pass and loss computation\n",
        "                outputs = self.model(inputs)\n",
        "                loss = self.criterion(outputs, labels)\n",
        "                running_loss += loss.item() * len(labels)\n",
        "\n",
        "        return running_loss / len(val_iter.dataset)\n",
        "\n",
        "    def plot(\n",
        "        self,\n",
        "        skip_start=10,\n",
        "        skip_end=5,\n",
        "        log_lr=True,\n",
        "        show_lr=None,\n",
        "        ax=None,\n",
        "        suggest_lr=True,\n",
        "    ):\n",
        "        \"\"\"Plots the learning rate range test.\n",
        "\n",
        "        Arguments:\n",
        "            skip_start (int, optional): number of batches to trim from the start.\n",
        "                Default: 10.\n",
        "            skip_end (int, optional): number of batches to trim from the start.\n",
        "                Default: 5.\n",
        "            log_lr (bool, optional): True to plot the learning rate in a logarithmic\n",
        "                scale; otherwise, plotted in a linear scale. Default: True.\n",
        "            show_lr (float, optional): if set, adds a vertical line to visualize the\n",
        "                specified learning rate. Default: None.\n",
        "            ax (matplotlib.axes.Axes, optional): the plot is created in the specified\n",
        "                matplotlib axes object and the figure is not be shown. If `None`, then\n",
        "                the figure and axes object are created in this method and the figure is\n",
        "                shown . Default: None.\n",
        "            suggest_lr (bool, optional): suggest a learning rate by\n",
        "                - 'steepest': the point with steepest gradient (minimal gradient)\n",
        "                you can use that point as a first guess for an LR. Default: True.\n",
        "\n",
        "        Returns:\n",
        "            The matplotlib.axes.Axes object that contains the plot,\n",
        "            and the suggested learning rate (if set suggest_lr=True).\n",
        "        \"\"\"\n",
        "\n",
        "        if skip_start < 0:\n",
        "            raise ValueError(\"skip_start cannot be negative\")\n",
        "        if skip_end < 0:\n",
        "            raise ValueError(\"skip_end cannot be negative\")\n",
        "        if show_lr is not None and not isinstance(show_lr, float):\n",
        "            raise ValueError(\"show_lr must be float\")\n",
        "\n",
        "        # Get the data to plot from the history dictionary. Also, handle skip_end=0\n",
        "        # properly so the behaviour is the expected\n",
        "        lrs = self.history[\"lr\"]\n",
        "        losses = self.history[\"loss\"]\n",
        "        if skip_end == 0:\n",
        "            lrs = lrs[skip_start:]\n",
        "            losses = losses[skip_start:]\n",
        "        else:\n",
        "            lrs = lrs[skip_start:-skip_end]\n",
        "            losses = losses[skip_start:-skip_end]\n",
        "\n",
        "        # Create the figure and axes object if axes was not already given\n",
        "        fig = None\n",
        "        if ax is None:\n",
        "            fig, ax = plt.subplots()\n",
        "\n",
        "        # Plot loss as a function of the learning rate\n",
        "        ax.plot(lrs, losses)\n",
        "\n",
        "        # Plot the suggested LR\n",
        "        if suggest_lr:\n",
        "            # 'steepest': the point with steepest gradient (minimal gradient)\n",
        "            print(\"LR suggestion: steepest gradient\")\n",
        "            min_grad_idx = None\n",
        "            try:\n",
        "                min_grad_idx = (np.gradient(np.array(losses))).argmin()\n",
        "            except ValueError:\n",
        "                print(\n",
        "                    \"Failed to compute the gradients, there might not be enough points.\"\n",
        "                )\n",
        "            if min_grad_idx is not None:\n",
        "                print(\"Suggested LR: {:.2E}\".format(lrs[min_grad_idx]))\n",
        "                ax.scatter(\n",
        "                    lrs[min_grad_idx],\n",
        "                    losses[min_grad_idx],\n",
        "                    s=75,\n",
        "                    marker=\"o\",\n",
        "                    color=\"red\",\n",
        "                    zorder=3,\n",
        "                    label=\"steepest gradient\",\n",
        "                )\n",
        "                ax.legend()\n",
        "\n",
        "        if log_lr:\n",
        "            ax.set_xscale(\"log\")\n",
        "        ax.set_xlabel(\"Learning rate\")\n",
        "        ax.set_ylabel(\"Loss\")\n",
        "\n",
        "        if show_lr is not None:\n",
        "            ax.axvline(x=show_lr, color=\"red\")\n",
        "\n",
        "        # Show only if the figure was created internally\n",
        "        if fig is not None:\n",
        "            plt.show()\n",
        "\n",
        "        if suggest_lr and min_grad_idx:\n",
        "            return ax, lrs[min_grad_idx]\n",
        "        else:\n",
        "            return ax\n",
        "\n",
        "\n",
        "class LinearLR(_LRScheduler):\n",
        "    \"\"\"Linearly increases the learning rate between two boundaries over a number of\n",
        "    iterations.\n",
        "\n",
        "    Arguments:\n",
        "        optimizer (torch.optim.Optimizer): wrapped optimizer.\n",
        "        end_lr (float): the final learning rate.\n",
        "        num_iter (int): the number of iterations over which the test occurs.\n",
        "        last_epoch (int, optional): the index of last epoch. Default: -1.\n",
        "    \"\"\"\n",
        "\n",
        "    def __init__(self, optimizer, end_lr, num_iter, last_epoch=-1):\n",
        "        self.end_lr = end_lr\n",
        "\n",
        "        if num_iter <= 1:\n",
        "            raise ValueError(\"`num_iter` must be larger than 1\")\n",
        "        self.num_iter = num_iter\n",
        "\n",
        "        super(LinearLR, self).__init__(optimizer, last_epoch)\n",
        "\n",
        "    def get_lr(self):\n",
        "        # In earlier Pytorch versions last_epoch starts at -1, while in recent versions\n",
        "        # it starts at 0. We need to adjust the math a bit to handle this. See\n",
        "        # discussion at: https://github.com/davidtvs/pytorch-lr-finder/pull/42\n",
        "        if PYTORCH_VERSION < version.parse(\"1.1.0\"):\n",
        "            curr_iter = self.last_epoch + 1\n",
        "            r = curr_iter / (self.num_iter - 1)\n",
        "        else:\n",
        "            r = self.last_epoch / (self.num_iter - 1)\n",
        "\n",
        "        return [base_lr + r * (self.end_lr - base_lr) for base_lr in self.base_lrs]\n",
        "\n",
        "\n",
        "class ExponentialLR(_LRScheduler):\n",
        "    \"\"\"Exponentially increases the learning rate between two boundaries over a number of\n",
        "    iterations.\n",
        "\n",
        "    Arguments:\n",
        "        optimizer (torch.optim.Optimizer): wrapped optimizer.\n",
        "        end_lr (float): the final learning rate.\n",
        "        num_iter (int): the number of iterations over which the test occurs.\n",
        "        last_epoch (int, optional): the index of last epoch. Default: -1.\n",
        "    \"\"\"\n",
        "\n",
        "    def __init__(self, optimizer, end_lr, num_iter, last_epoch=-1):\n",
        "        self.end_lr = end_lr\n",
        "\n",
        "        if num_iter <= 1:\n",
        "            raise ValueError(\"`num_iter` must be larger than 1\")\n",
        "        self.num_iter = num_iter\n",
        "\n",
        "        super(ExponentialLR, self).__init__(optimizer, last_epoch)\n",
        "\n",
        "    def get_lr(self):\n",
        "        # In earlier Pytorch versions last_epoch starts at -1, while in recent versions\n",
        "        # it starts at 0. We need to adjust the math a bit to handle this. See\n",
        "        # discussion at: https://github.com/davidtvs/pytorch-lr-finder/pull/42\n",
        "        if PYTORCH_VERSION < version.parse(\"1.1.0\"):\n",
        "            curr_iter = self.last_epoch + 1\n",
        "            r = curr_iter / (self.num_iter - 1)\n",
        "        else:\n",
        "            r = self.last_epoch / (self.num_iter - 1)\n",
        "\n",
        "        return [base_lr * (self.end_lr / base_lr) ** r for base_lr in self.base_lrs]\n",
        "\n",
        "\n",
        "class StateCacher(object):\n",
        "    def __init__(self, in_memory, cache_dir=None):\n",
        "        self.in_memory = in_memory\n",
        "        self.cache_dir = cache_dir\n",
        "\n",
        "        if self.cache_dir is None:\n",
        "            import tempfile\n",
        "\n",
        "            self.cache_dir = tempfile.gettempdir()\n",
        "        else:\n",
        "            if not os.path.isdir(self.cache_dir):\n",
        "                raise ValueError(\"Given `cache_dir` is not a valid directory.\")\n",
        "\n",
        "        self.cached = {}\n",
        "\n",
        "    def store(self, key, state_dict):\n",
        "        if self.in_memory:\n",
        "            self.cached.update({key: copy.deepcopy(state_dict)})\n",
        "        else:\n",
        "            fn = os.path.join(self.cache_dir, \"state_{}_{}.pt\".format(key, id(self)))\n",
        "            self.cached.update({key: fn})\n",
        "            torch.save(state_dict, fn)\n",
        "\n",
        "    def retrieve(self, key):\n",
        "        if key not in self.cached:\n",
        "            raise KeyError(\"Target {} was not cached.\".format(key))\n",
        "\n",
        "        if self.in_memory:\n",
        "            return self.cached.get(key)\n",
        "        else:\n",
        "            fn = self.cached.get(key)\n",
        "            if not os.path.exists(fn):\n",
        "                raise RuntimeError(\n",
        "                    \"Failed to load state in {}. File doesn't exist anymore.\".format(fn)\n",
        "                )\n",
        "            state_dict = torch.load(fn, map_location=lambda storage, location: storage)\n",
        "            return state_dict\n",
        "\n",
        "    def __del__(self):\n",
        "        \"\"\"Check whether there are unused cached files existing in `cache_dir` before\n",
        "        this instance being destroyed.\"\"\"\n",
        "\n",
        "        if self.in_memory:\n",
        "            return\n",
        "\n",
        "        for k in self.cached:\n",
        "            if os.path.exists(self.cached[k]):\n",
        "                os.remove(self.cached[k])"
      ],
      "execution_count": 29,
      "outputs": []
    },
    {
      "cell_type": "code",
      "metadata": {
        "id": "PeQObsgigAzF"
      },
      "source": [
        ""
      ],
      "execution_count": null,
      "outputs": []
    }
  ]
}