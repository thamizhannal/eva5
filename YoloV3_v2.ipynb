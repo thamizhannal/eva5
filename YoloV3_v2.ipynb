{
  "nbformat": 4,
  "nbformat_minor": 0,
  "metadata": {
    "colab": {
      "name": "YoloV3_walle.ipynb",
      "provenance": [],
      "authorship_tag": "ABX9TyO4Pt6XEtgdjQNGxkCG8006",
      "include_colab_link": true
    },
    "kernelspec": {
      "name": "python3",
      "display_name": "Python 3"
    },
    "accelerator": "GPU"
  },
  "cells": [
    {
      "cell_type": "markdown",
      "metadata": {
        "id": "view-in-github",
        "colab_type": "text"
      },
      "source": [
        "<a href=\"https://colab.research.google.com/github/thamizhannal/eva5/blob/master/YoloV3_v2.ipynb\" target=\"_parent\"><img src=\"https://colab.research.google.com/assets/colab-badge.svg\" alt=\"Open In Colab\"/></a>"
      ]
    },
    {
      "cell_type": "code",
      "metadata": {
        "id": "giOOe_wrEzbu",
        "outputId": "2fabc1ec-b0e3-4111-f4e8-7290093672d2",
        "colab": {
          "base_uri": "https://localhost:8080/",
          "height": 104
        }
      },
      "source": [
        "!git clone https://github.com/thamizhannal/YoloV3-1.git"
      ],
      "execution_count": 91,
      "outputs": [
        {
          "output_type": "stream",
          "text": [
            "Cloning into 'YoloV3-1'...\n",
            "remote: Enumerating objects: 156, done.\u001b[K\n",
            "remote: Total 156 (delta 0), reused 0 (delta 0), pack-reused 156\u001b[K\n",
            "Receiving objects: 100% (156/156), 12.74 MiB | 4.40 MiB/s, done.\n",
            "Resolving deltas: 100% (7/7), done.\n"
          ],
          "name": "stdout"
        }
      ]
    },
    {
      "cell_type": "code",
      "metadata": {
        "id": "719yMv9uFFi-",
        "outputId": "18d15971-37e0-4596-9a04-32c8bf8679b3",
        "colab": {
          "base_uri": "https://localhost:8080/",
          "height": 34
        }
      },
      "source": [
        "\n",
        "from google.colab import drive\n",
        "drive.mount('/content/gdrive')"
      ],
      "execution_count": 92,
      "outputs": [
        {
          "output_type": "stream",
          "text": [
            "Drive already mounted at /content/gdrive; to attempt to forcibly remount, call drive.mount(\"/content/gdrive\", force_remount=True).\n"
          ],
          "name": "stdout"
        }
      ]
    },
    {
      "cell_type": "code",
      "metadata": {
        "id": "PXf4nJKcXZJt",
        "outputId": "b99e7bc6-01c9-4260-b4dd-69e17496746d",
        "colab": {
          "base_uri": "https://localhost:8080/",
          "height": 34
        }
      },
      "source": [
        "import time\n",
        "import glob\n",
        "import torch\n",
        "import os\n",
        "\n",
        "from IPython.display import Image, clear_output \n",
        "print('PyTorch %s %s' % (torch.__version__, torch.cuda.get_device_properties(0) if torch.cuda.is_available() else 'CPU'))"
      ],
      "execution_count": 93,
      "outputs": [
        {
          "output_type": "stream",
          "text": [
            "PyTorch 1.6.0+cu101 _CudaDeviceProperties(name='Tesla P4', major=6, minor=1, total_memory=7611MB, multi_processor_count=20)\n"
          ],
          "name": "stdout"
        }
      ]
    },
    {
      "cell_type": "code",
      "metadata": {
        "id": "2g4MEzi1XdtY",
        "outputId": "c4a98206-87c9-4fc7-89db-30e4e941d25b",
        "colab": {
          "base_uri": "https://localhost:8080/",
          "height": 104
        }
      },
      "source": [
        "ls"
      ],
      "execution_count": 94,
      "outputs": [
        {
          "output_type": "stream",
          "text": [
            " \u001b[0m\u001b[01;34mannotation_tool\u001b[0m/   \u001b[01;34moutput\u001b[0m/        \u001b[01;34mruns\u001b[0m/            \u001b[01;34mutils\u001b[0m/\n",
            " \u001b[01;34mcfg\u001b[0m/               \u001b[01;34m__pycache__\u001b[0m/   test.py          vim.exe.stackdump\n",
            " \u001b[01;34mdata\u001b[0m/              README.md      ting             \u001b[01;34mweights\u001b[0m/\n",
            " detect.py          results.json   train.py         \u001b[01;34mYoloV3-1\u001b[0m/\n",
            " models.py          results.png   'ubdivisions=1'\n"
          ],
          "name": "stdout"
        }
      ]
    },
    {
      "cell_type": "code",
      "metadata": {
        "id": "kXDBS_TzXh3V",
        "outputId": "964ec585-b961-46c2-cebe-59e157fa1f7a",
        "colab": {
          "base_uri": "https://localhost:8080/",
          "height": 34
        }
      },
      "source": [
        "ls  YoloV3-1/data/"
      ],
      "execution_count": 96,
      "outputs": [
        {
          "output_type": "stream",
          "text": [
            "coco.names  \u001b[0m\u001b[01;34mcustomdata\u001b[0m/  \u001b[01;34msamples\u001b[0m/  \u001b[01;34msmalcoco\u001b[0m/\n"
          ],
          "name": "stdout"
        }
      ]
    },
    {
      "cell_type": "code",
      "metadata": {
        "id": "EvCzUoNqowm9",
        "outputId": "626ac1fc-2585-4710-a4e1-4bc25e700296",
        "colab": {
          "base_uri": "https://localhost:8080/",
          "height": 104
        }
      },
      "source": [
        "!ls"
      ],
      "execution_count": 97,
      "outputs": [
        {
          "output_type": "stream",
          "text": [
            " annotation_tool   output\t  runs\t\t   utils\n",
            " cfg\t\t   __pycache__\t  test.py\t   vim.exe.stackdump\n",
            " data\t\t   README.md\t  ting\t\t   weights\n",
            " detect.py\t   results.json   train.py\t   YoloV3-1\n",
            " models.py\t   results.png\t 'ubdivisions=1'\n"
          ],
          "name": "stdout"
        }
      ]
    },
    {
      "cell_type": "code",
      "metadata": {
        "id": "lmyh6MlJY0H5",
        "outputId": "0e007618-97fa-4df5-cebf-17bacb90848c",
        "colab": {
          "base_uri": "https://localhost:8080/",
          "height": 34
        }
      },
      "source": [
        "!ls /content/gdrive/'My Drive'/SchoolOfAI_EVA/YoloV3/weights"
      ],
      "execution_count": 98,
      "outputs": [
        {
          "output_type": "stream",
          "text": [
            "yolov3.weights\n"
          ],
          "name": "stdout"
        }
      ]
    },
    {
      "cell_type": "code",
      "metadata": {
        "id": "y5Tv4y4qoreY"
      },
      "source": [
        "!cp -r /content/gdrive/'My Drive'/SchoolOfAI_EVA/YoloV3/weights .\n"
      ],
      "execution_count": 99,
      "outputs": []
    },
    {
      "cell_type": "code",
      "metadata": {
        "id": "PAth6dV7o7yG",
        "outputId": "cdfc6c55-a48d-4e72-bbe4-17e1b6ad4af3",
        "colab": {
          "base_uri": "https://localhost:8080/",
          "height": 104
        }
      },
      "source": [
        "!ls"
      ],
      "execution_count": 100,
      "outputs": [
        {
          "output_type": "stream",
          "text": [
            " annotation_tool   output\t  runs\t\t   utils\n",
            " cfg\t\t   __pycache__\t  test.py\t   vim.exe.stackdump\n",
            " data\t\t   README.md\t  ting\t\t   weights\n",
            " detect.py\t   results.json   train.py\t   YoloV3-1\n",
            " models.py\t   results.png\t 'ubdivisions=1'\n"
          ],
          "name": "stdout"
        }
      ]
    },
    {
      "cell_type": "code",
      "metadata": {
        "id": "DChRCterAxib",
        "outputId": "233ca2a4-3c10-43ee-d017-353004e69e0d",
        "colab": {
          "base_uri": "https://localhost:8080/",
          "height": 34
        }
      },
      "source": [
        "!ls /content/gdrive/'My Drive'/SchoolOfAI_EVA/YoloV3/data"
      ],
      "execution_count": 101,
      "outputs": [
        {
          "output_type": "stream",
          "text": [
            "coco.names  customdata\tsamples  smalcoco  YoloV3_Dataset  YoloV3_S13\n"
          ],
          "name": "stdout"
        }
      ]
    },
    {
      "cell_type": "code",
      "metadata": {
        "id": "fFR-tp4CA_cX"
      },
      "source": [
        "!cp -r /content/gdrive/'My Drive'/SchoolOfAI_EVA/YoloV3/data/YoloV3_S13 data/."
      ],
      "execution_count": 102,
      "outputs": []
    },
    {
      "cell_type": "code",
      "metadata": {
        "id": "zN85JoRcBLao",
        "outputId": "4bd35e1f-97ba-4091-892e-4ec62bd336c7",
        "colab": {
          "base_uri": "https://localhost:8080/",
          "height": 52
        }
      },
      "source": [
        "!ls data/YoloV3_S13"
      ],
      "execution_count": 106,
      "outputs": [
        {
          "output_type": "stream",
          "text": [
            "classes.txt    Images  test.txt   YoloV3_S13.data\n",
            "custom.shapes  Labels  train.txt\n"
          ],
          "name": "stdout"
        }
      ]
    },
    {
      "cell_type": "code",
      "metadata": {
        "id": "Vj_cLU7yJV16",
        "outputId": "ad9ca348-4101-4716-d9fe-3ee6eadfcb38",
        "colab": {
          "base_uri": "https://localhost:8080/",
          "height": 34
        }
      },
      "source": [
        "!pwd"
      ],
      "execution_count": 110,
      "outputs": [
        {
          "output_type": "stream",
          "text": [
            "/content/YoloV3-1/YoloV3-1/YoloV3-1\n"
          ],
          "name": "stdout"
        }
      ]
    },
    {
      "cell_type": "code",
      "metadata": {
        "id": "0x7KN86xJY4E",
        "outputId": "a4e5083e-ae75-44ca-88e1-a1bcbab37861",
        "colab": {
          "base_uri": "https://localhost:8080/",
          "height": 52
        }
      },
      "source": [
        "!ls data/YoloV3_S13"
      ],
      "execution_count": 108,
      "outputs": [
        {
          "output_type": "stream",
          "text": [
            "classes.txt    Images  test.txt   YoloV3_S13.data\n",
            "custom.shapes  Labels  train.txt\n"
          ],
          "name": "stdout"
        }
      ]
    },
    {
      "cell_type": "code",
      "metadata": {
        "id": "Wv_IijEaY2hE",
        "outputId": "aaf9de4a-f9d4-4f7a-d9cc-91fc895d09b4",
        "colab": {
          "base_uri": "https://localhost:8080/",
          "height": 296
        }
      },
      "source": [
        "# !python train.py --data data/smalcoco/smalcoco.data --batch 3 --cache --epochs 3 --nosave\n",
        "\n",
        "!python train.py --data data/YoloV3_S13/YoloV3_S13.data --batch 3 --cache --epochs 3 --nosave"
      ],
      "execution_count": 109,
      "outputs": [
        {
          "output_type": "stream",
          "text": [
            "Namespace(accumulate=4, adam=False, batch_size=3, bucket='', cache_images=True, cfg='cfg/yolov3-spp.cfg', data='data/YoloV3_S13/YoloV3_S13.data', device='', epochs=3, evolve=False, img_size=[512], multi_scale=False, name='', nosave=True, notest=False, rect=False, resume=False, single_cls=False, weights='weights/yolov3-spp-ultralytics.pt')\n",
            "Using CUDA device0 _CudaDeviceProperties(name='Tesla P4', total_memory=7611MB)\n",
            "\n",
            "2020-10-24 15:24:15.829231: I tensorflow/stream_executor/platform/default/dso_loader.cc:48] Successfully opened dynamic library libcudart.so.10.1\n",
            "Run 'tensorboard --logdir=runs' to view tensorboard at http://localhost:6006/\n",
            "Model Summary: 225 layers, 6.29987e+07 parameters, 6.29987e+07 gradients\n",
            "Caching labels: 100% 108/108 [00:00<00:00, 142224.44it/s]\n",
            "Traceback (most recent call last):\n",
            "  File \"train.py\", line 430, in <module>\n",
            "    train()  # train normally\n",
            "  File \"train.py\", line 182, in train\n",
            "    single_cls=opt.single_cls)\n",
            "  File \"/content/YoloV3-1/YoloV3-1/YoloV3-1/utils/datasets.py\", line 382, in __init__\n",
            "    assert nf > 0, 'No labels found in %s. See %s' % (os.path.dirname(file) + os.sep, help_url)\n",
            "AssertionError: No labels found in ./data/YoloV3_S13/Images/. See https://github.com/ultralytics/yolov3/wiki/Train-Custom-Data\n"
          ],
          "name": "stdout"
        }
      ]
    },
    {
      "cell_type": "code",
      "metadata": {
        "id": "wGSsGOF-Y5HP",
        "outputId": "309f6577-b78a-43c9-8fd1-a53dd843d55c",
        "colab": {
          "base_uri": "https://localhost:8080/",
          "height": 34
        }
      },
      "source": [
        "!pwd"
      ],
      "execution_count": 71,
      "outputs": [
        {
          "output_type": "stream",
          "text": [
            "/content/YoloV3-1/YoloV3-1\n"
          ],
          "name": "stdout"
        }
      ]
    },
    {
      "cell_type": "code",
      "metadata": {
        "id": "9dIHqOjTaj-E",
        "outputId": "9421520f-9378-45ef-ee38-be2110bc97e0",
        "colab": {
          "base_uri": "https://localhost:8080/",
          "height": 1000
        }
      },
      "source": [
        "!python train.py --data data/customdata/custom.data --batch 10 --cache --cfg cfg/yolov3-custom.cfg --epochs 300 --nosave"
      ],
      "execution_count": 72,
      "outputs": [
        {
          "output_type": "stream",
          "text": [
            "Namespace(accumulate=4, adam=False, batch_size=10, bucket='', cache_images=True, cfg='cfg/yolov3-custom.cfg', data='data/customdata/custom.data', device='', epochs=300, evolve=False, img_size=[512], multi_scale=False, name='', nosave=True, notest=False, rect=False, resume=False, single_cls=False, weights='weights/yolov3-spp-ultralytics.pt')\n",
            "Using CUDA device0 _CudaDeviceProperties(name='Tesla P4', total_memory=7611MB)\n",
            "\n",
            "2020-10-24 15:08:21.077721: I tensorflow/stream_executor/platform/default/dso_loader.cc:48] Successfully opened dynamic library libcudart.so.10.1\n",
            "Run 'tensorboard --logdir=runs' to view tensorboard at http://localhost:6006/\n",
            "Model Summary: 225 layers, 6.25733e+07 parameters, 6.25733e+07 gradients\n",
            "Caching labels (20 found, 0 missing, 0 empty, 0 duplicate, for 20 images): 100% 20/20 [00:00<00:00, 6706.59it/s]\n",
            "Caching images (0.0GB): 100% 20/20 [00:00<00:00, 117.01it/s]\n",
            "Caching labels (20 found, 0 missing, 0 empty, 0 duplicate, for 20 images): 100% 20/20 [00:00<00:00, 8242.71it/s]\n",
            "Caching images (0.0GB): 100% 20/20 [00:00<00:00, 97.28it/s]\n",
            "Image sizes 512 - 512 train, 512 test\n",
            "Using 2 dataloader workers\n",
            "Starting training for 300 epochs...\n",
            "\n",
            "     Epoch   gpu_mem      GIoU       obj       cls     total   targets  img_size\n",
            "  0% 0/2 [00:00<?, ?it/s]/usr/local/lib/python3.6/dist-packages/torch/cuda/memory.py:346: FutureWarning: torch.cuda.memory_cached has been renamed to torch.cuda.memory_reserved\n",
            "  FutureWarning)\n",
            "     0/299     2.18G      4.59      5.62         0      10.2        21       512:  50% 1/2 [00:04<00:04,  4.33s/it]/usr/local/lib/python3.6/dist-packages/torch/cuda/memory.py:346: FutureWarning: torch.cuda.memory_cached has been renamed to torch.cuda.memory_reserved\n",
            "  FutureWarning)\n",
            "     0/299     2.54G      4.69      5.43         0      10.1        19       512: 100% 2/2 [00:06<00:00,  3.03s/it]\n",
            "               Class    Images   Targets         P         R   mAP@0.5        F1:   0% 0/2 [00:00<?, ?it/s]/content/YoloV3-1/YoloV3-1/test.py:150: UserWarning: This overload of nonzero is deprecated:\n",
            "\tnonzero()\n",
            "Consider using one of the following signatures instead:\n",
            "\tnonzero(*, bool as_tuple) (Triggered internally at  /pytorch/torch/csrc/utils/python_arg_parser.cpp:766.)\n",
            "  ti = (cls == tcls_tensor).nonzero().view(-1)  # prediction indices\n",
            "               Class    Images   Targets         P         R   mAP@0.5        F1: 100% 2/2 [00:03<00:00,  1.65s/it]\n",
            "                 all        20        21   0.00351    0.0952   0.00346   0.00677\n",
            "\n",
            "     Epoch   gpu_mem      GIoU       obj       cls     total   targets  img_size\n",
            "  0% 0/2 [00:00<?, ?it/s]/usr/local/lib/python3.6/dist-packages/torch/cuda/memory.py:346: FutureWarning: torch.cuda.memory_cached has been renamed to torch.cuda.memory_reserved\n",
            "  FutureWarning)\n",
            "     1/299     6.97G      4.75       5.2         0      9.95        19       512: 100% 2/2 [00:02<00:00,  1.34s/it]\n",
            "               Class    Images   Targets         P         R   mAP@0.5        F1: 100% 2/2 [00:01<00:00,  1.08it/s]\n",
            "                 all        20        21   0.00351    0.0952   0.00346   0.00677\n",
            "\n",
            "     Epoch   gpu_mem      GIoU       obj       cls     total   targets  img_size\n",
            "     2/299     6.96G      4.43      5.36         0      9.79        19       512: 100% 2/2 [00:02<00:00,  1.37s/it]\n",
            "               Class    Images   Targets         P         R   mAP@0.5        F1: 100% 2/2 [00:01<00:00,  1.15it/s]\n",
            "                 all        20        21   0.00468    0.0952   0.00358   0.00893\n",
            "\n",
            "     Epoch   gpu_mem      GIoU       obj       cls     total   targets  img_size\n",
            "     3/299     6.96G      4.39       4.9         0      9.29        21       512: 100% 2/2 [00:02<00:00,  1.35s/it]\n",
            "               Class    Images   Targets         P         R   mAP@0.5        F1: 100% 2/2 [00:01<00:00,  1.15it/s]\n",
            "                 all        20        21   0.00468    0.0952   0.00358   0.00893\n",
            "\n",
            "     Epoch   gpu_mem      GIoU       obj       cls     total   targets  img_size\n",
            "     4/299     6.96G      4.44      4.81         0      9.25        17       512: 100% 2/2 [00:02<00:00,  1.38s/it]\n",
            "               Class    Images   Targets         P         R   mAP@0.5        F1: 100% 2/2 [00:01<00:00,  1.15it/s]\n",
            "                 all        20        21   0.00819    0.0952   0.00764    0.0151\n",
            "\n",
            "     Epoch   gpu_mem      GIoU       obj       cls     total   targets  img_size\n",
            "     5/299     6.96G      4.22      4.73         0      8.95        21       512: 100% 2/2 [00:02<00:00,  1.36s/it]\n",
            "               Class    Images   Targets         P         R   mAP@0.5        F1: 100% 2/2 [00:01<00:00,  1.15it/s]\n",
            "                 all        20        21   0.00819    0.0952   0.00764    0.0151\n",
            "\n",
            "     Epoch   gpu_mem      GIoU       obj       cls     total   targets  img_size\n",
            "     6/299     6.96G      4.48      4.48         0      8.96        17       512: 100% 2/2 [00:02<00:00,  1.37s/it]\n",
            "               Class    Images   Targets         P         R   mAP@0.5        F1: 100% 2/2 [00:01<00:00,  1.15it/s]\n",
            "                 all        20        21     0.028    0.0952   0.00836    0.0433\n",
            "\n",
            "     Epoch   gpu_mem      GIoU       obj       cls     total   targets  img_size\n",
            "     7/299     6.96G      4.27      4.03         0       8.3        19       512: 100% 2/2 [00:02<00:00,  1.36s/it]\n",
            "               Class    Images   Targets         P         R   mAP@0.5        F1: 100% 2/2 [00:01<00:00,  1.16it/s]\n",
            "                 all        20        21     0.028    0.0952   0.00836    0.0433\n",
            "\n",
            "     Epoch   gpu_mem      GIoU       obj       cls     total   targets  img_size\n",
            "     8/299     6.96G      3.36      3.88         0      7.24        17       512: 100% 2/2 [00:02<00:00,  1.38s/it]\n",
            "               Class    Images   Targets         P         R   mAP@0.5        F1: 100% 2/2 [00:01<00:00,  1.16it/s]\n",
            "                 all        20        21         0         0    0.0132         0\n",
            "\n",
            "     Epoch   gpu_mem      GIoU       obj       cls     total   targets  img_size\n",
            "     9/299     6.96G      3.68      4.12         0       7.8        25       512: 100% 2/2 [00:02<00:00,  1.37s/it]\n",
            "               Class    Images   Targets         P         R   mAP@0.5        F1: 100% 2/2 [00:01<00:00,  1.15it/s]\n",
            "                 all        20        21         0         0    0.0132         0\n",
            "\n",
            "     Epoch   gpu_mem      GIoU       obj       cls     total   targets  img_size\n",
            "    10/299     6.96G      3.67      3.56         0      7.23        14       512: 100% 2/2 [00:02<00:00,  1.38s/it]\n",
            "               Class    Images   Targets         P         R   mAP@0.5        F1: 100% 2/2 [00:01<00:00,  1.15it/s]\n",
            "                 all        20        21         0         0    0.0127         0\n",
            "\n",
            "     Epoch   gpu_mem      GIoU       obj       cls     total   targets  img_size\n",
            "    11/299     6.96G      3.61      3.53         0      7.13        20       512: 100% 2/2 [00:02<00:00,  1.37s/it]\n",
            "               Class    Images   Targets         P         R   mAP@0.5        F1: 100% 2/2 [00:01<00:00,  1.15it/s]\n",
            "                 all        20        21         0         0    0.0127         0\n",
            "\n",
            "     Epoch   gpu_mem      GIoU       obj       cls     total   targets  img_size\n",
            "    12/299     6.96G      3.56      3.71         0      7.26        24       512: 100% 2/2 [00:02<00:00,  1.39s/it]\n",
            "               Class    Images   Targets         P         R   mAP@0.5        F1: 100% 2/2 [00:01<00:00,  1.13it/s]\n",
            "                 all        20        21         0         0    0.0176         0\n",
            "\n",
            "     Epoch   gpu_mem      GIoU       obj       cls     total   targets  img_size\n",
            "    13/299     6.96G       3.6      3.28         0      6.88        15       512: 100% 2/2 [00:02<00:00,  1.37s/it]\n",
            "               Class    Images   Targets         P         R   mAP@0.5        F1: 100% 2/2 [00:01<00:00,  1.13it/s]\n",
            "                 all        20        21         0         0    0.0176         0\n",
            "\n",
            "     Epoch   gpu_mem      GIoU       obj       cls     total   targets  img_size\n",
            "    14/299     6.96G      3.35      3.66         0         7        23       512: 100% 2/2 [00:02<00:00,  1.39s/it]\n",
            "               Class    Images   Targets         P         R   mAP@0.5        F1: 100% 2/2 [00:01<00:00,  1.14it/s]\n",
            "                 all        20        21         0         0    0.0376         0\n",
            "\n",
            "     Epoch   gpu_mem      GIoU       obj       cls     total   targets  img_size\n",
            "    15/299     6.96G      3.46       3.3         0      6.76        23       512: 100% 2/2 [00:02<00:00,  1.37s/it]\n",
            "               Class    Images   Targets         P         R   mAP@0.5        F1: 100% 2/2 [00:01<00:00,  1.14it/s]\n",
            "                 all        20        21         0         0    0.0376         0\n",
            "\n",
            "     Epoch   gpu_mem      GIoU       obj       cls     total   targets  img_size\n",
            "    16/299     6.96G       3.5      2.94         0      6.44        19       512: 100% 2/2 [00:02<00:00,  1.41s/it]\n",
            "               Class    Images   Targets         P         R   mAP@0.5        F1: 100% 2/2 [00:01<00:00,  1.15it/s]\n",
            "                 all        20        21         0         0    0.0743         0\n",
            "\n",
            "     Epoch   gpu_mem      GIoU       obj       cls     total   targets  img_size\n",
            "    17/299     6.96G      3.22      3.15         0      6.37        20       512: 100% 2/2 [00:02<00:00,  1.38s/it]\n",
            "               Class    Images   Targets         P         R   mAP@0.5        F1: 100% 2/2 [00:01<00:00,  1.14it/s]\n",
            "                 all        20        21         0         0    0.0743         0\n",
            "\n",
            "     Epoch   gpu_mem      GIoU       obj       cls     total   targets  img_size\n",
            "    18/299     6.96G      3.21      2.98         0       6.2        19       512: 100% 2/2 [00:02<00:00,  1.41s/it]\n",
            "               Class    Images   Targets         P         R   mAP@0.5        F1: 100% 2/2 [00:01<00:00,  1.14it/s]\n",
            "                 all        20        21         0         0     0.115         0\n",
            "\n",
            "     Epoch   gpu_mem      GIoU       obj       cls     total   targets  img_size\n",
            "    19/299     6.96G      3.46      3.04         0      6.51        20       512: 100% 2/2 [00:02<00:00,  1.38s/it]\n",
            "               Class    Images   Targets         P         R   mAP@0.5        F1: 100% 2/2 [00:01<00:00,  1.15it/s]\n",
            "                 all        20        21         0         0     0.115         0\n",
            "\n",
            "     Epoch   gpu_mem      GIoU       obj       cls     total   targets  img_size\n",
            "    20/299     6.96G      3.17       2.8         0      5.97        20       512: 100% 2/2 [00:02<00:00,  1.41s/it]\n",
            "               Class    Images   Targets         P         R   mAP@0.5        F1: 100% 2/2 [00:01<00:00,  1.15it/s]\n",
            "                 all        20        21         1    0.0476     0.265    0.0909\n",
            "\n",
            "     Epoch   gpu_mem      GIoU       obj       cls     total   targets  img_size\n",
            "    21/299     6.96G      3.04      2.84         0      5.88        22       512: 100% 2/2 [00:02<00:00,  1.38s/it]\n",
            "               Class    Images   Targets         P         R   mAP@0.5        F1: 100% 2/2 [00:01<00:00,  1.15it/s]\n",
            "                 all        20        21         1    0.0476     0.265    0.0909\n",
            "\n",
            "     Epoch   gpu_mem      GIoU       obj       cls     total   targets  img_size\n",
            "    22/299     6.96G      3.01      2.56         0      5.56        20       512: 100% 2/2 [00:02<00:00,  1.41s/it]\n",
            "               Class    Images   Targets         P         R   mAP@0.5        F1: 100% 2/2 [00:01<00:00,  1.16it/s]\n",
            "                 all        20        21         1    0.0476     0.392    0.0909\n",
            "\n",
            "     Epoch   gpu_mem      GIoU       obj       cls     total   targets  img_size\n",
            "    23/299     6.96G      2.78      2.43         0      5.21        18       512: 100% 2/2 [00:02<00:00,  1.39s/it]\n",
            "               Class    Images   Targets         P         R   mAP@0.5        F1: 100% 2/2 [00:01<00:00,  1.16it/s]\n",
            "                 all        20        21         1    0.0476     0.392    0.0909\n",
            "\n",
            "     Epoch   gpu_mem      GIoU       obj       cls     total   targets  img_size\n",
            "    24/299     6.96G      2.64      2.27         0      4.92        18       512: 100% 2/2 [00:02<00:00,  1.42s/it]\n",
            "               Class    Images   Targets         P         R   mAP@0.5        F1:   0% 0/2 [00:00<?, ?it/s]\n",
            "Traceback (most recent call last):\n",
            "  File \"train.py\", line 430, in <module>\n",
            "    train()  # train normally\n",
            "  File \"train.py\", line 318, in train\n",
            "    dataloader=testloader)\n",
            "  File \"/content/YoloV3-1/YoloV3-1/test.py\", line 103, in test\n",
            "    output = non_max_suppression(inf_out, conf_thres=conf_thres, iou_thres=iou_thres)  # nms\n",
            "  File \"/content/YoloV3-1/YoloV3-1/utils/utils.py\", line 513, in non_max_suppression\n",
            "    x = x[x[:, 4] > conf_thres]\n",
            "KeyboardInterrupt\n"
          ],
          "name": "stdout"
        }
      ]
    },
    {
      "cell_type": "code",
      "metadata": {
        "id": "c7jYc5s2cR46",
        "outputId": "b2e8620f-738c-4285-a9f0-cc3155d63d97",
        "colab": {
          "base_uri": "https://localhost:8080/",
          "height": 348
        }
      },
      "source": [
        "!python detect.py --conf-thres 0.1 --output out_out"
      ],
      "execution_count": 73,
      "outputs": [
        {
          "output_type": "stream",
          "text": [
            "Namespace(agnostic_nms=False, augment=False, cfg='cfg/yolov3-custom.cfg', classes=None, conf_thres=0.1, device='', fourcc='mp4v', half=False, img_size=512, iou_thres=0.6, names='data/customdata/custom.names', output='out_out', save_txt=False, source='data/customdata/images', view_img=False, weights='weights/last.pt')\n",
            "Using CUDA device0 _CudaDeviceProperties(name='Tesla P4', total_memory=7611MB)\n",
            "\n",
            "Model Summary: 225 layers, 6.25733e+07 parameters, 6.25733e+07 gradients\n",
            "Downloading https://pjreddie.com/media/files/last.pt\n",
            "  % Total    % Received % Xferd  Average Speed   Time    Time     Time  Current\n",
            "                                 Dload  Upload   Total   Spent    Left  Speed\n",
            "  0     0    0     0    0     0      0      0 --:--:-- --:--:-- --:--:--     0\n",
            "curl: (22) The requested URL returned error: 404 Not Found\n",
            "rm: cannot remove 'weights/last.pt': No such file or directory\n",
            "Traceback (most recent call last):\n",
            "  File \"detect.py\", line 186, in <module>\n",
            "    detect()\n",
            "  File \"detect.py\", line 24, in detect\n",
            "    attempt_download(weights)\n",
            "  File \"/content/YoloV3-1/YoloV3-1/models.py\", line 468, in attempt_download\n",
            "    raise Exception(msg)\n",
            "Exception: weights/last.pt missing, try downloading from https://drive.google.com/open?id=1LezFG5g3BCW6iYaV89B2i64cqEUZD7e0\n"
          ],
          "name": "stdout"
        }
      ]
    },
    {
      "cell_type": "code",
      "metadata": {
        "id": "n26im2eYtxUY",
        "outputId": "49a52bee-1000-4587-9505-3870e72b62a5",
        "colab": {
          "base_uri": "https://localhost:8080/",
          "height": 311
        }
      },
      "source": [
        "Image(filename='out_out/img001.jpg', width=600)"
      ],
      "execution_count": 74,
      "outputs": [
        {
          "output_type": "error",
          "ename": "FileNotFoundError",
          "evalue": "ignored",
          "traceback": [
            "\u001b[0;31m---------------------------------------------------------------------------\u001b[0m",
            "\u001b[0;31mFileNotFoundError\u001b[0m                         Traceback (most recent call last)",
            "\u001b[0;32m<ipython-input-74-d531cb3b5d20>\u001b[0m in \u001b[0;36m<module>\u001b[0;34m()\u001b[0m\n\u001b[0;32m----> 1\u001b[0;31m \u001b[0mImage\u001b[0m\u001b[0;34m(\u001b[0m\u001b[0mfilename\u001b[0m\u001b[0;34m=\u001b[0m\u001b[0;34m'out_out/img001.jpg'\u001b[0m\u001b[0;34m,\u001b[0m \u001b[0mwidth\u001b[0m\u001b[0;34m=\u001b[0m\u001b[0;36m600\u001b[0m\u001b[0;34m)\u001b[0m\u001b[0;34m\u001b[0m\u001b[0;34m\u001b[0m\u001b[0m\n\u001b[0m",
            "\u001b[0;32m/usr/local/lib/python3.6/dist-packages/IPython/core/display.py\u001b[0m in \u001b[0;36m__init__\u001b[0;34m(self, data, url, filename, format, embed, width, height, retina, unconfined, metadata)\u001b[0m\n\u001b[1;32m   1019\u001b[0m         \u001b[0mself\u001b[0m\u001b[0;34m.\u001b[0m\u001b[0munconfined\u001b[0m \u001b[0;34m=\u001b[0m \u001b[0munconfined\u001b[0m\u001b[0;34m\u001b[0m\u001b[0;34m\u001b[0m\u001b[0m\n\u001b[1;32m   1020\u001b[0m         \u001b[0mself\u001b[0m\u001b[0;34m.\u001b[0m\u001b[0mmetadata\u001b[0m \u001b[0;34m=\u001b[0m \u001b[0mmetadata\u001b[0m\u001b[0;34m\u001b[0m\u001b[0;34m\u001b[0m\u001b[0m\n\u001b[0;32m-> 1021\u001b[0;31m         \u001b[0msuper\u001b[0m\u001b[0;34m(\u001b[0m\u001b[0mImage\u001b[0m\u001b[0;34m,\u001b[0m \u001b[0mself\u001b[0m\u001b[0;34m)\u001b[0m\u001b[0;34m.\u001b[0m\u001b[0m__init__\u001b[0m\u001b[0;34m(\u001b[0m\u001b[0mdata\u001b[0m\u001b[0;34m=\u001b[0m\u001b[0mdata\u001b[0m\u001b[0;34m,\u001b[0m \u001b[0murl\u001b[0m\u001b[0;34m=\u001b[0m\u001b[0murl\u001b[0m\u001b[0;34m,\u001b[0m \u001b[0mfilename\u001b[0m\u001b[0;34m=\u001b[0m\u001b[0mfilename\u001b[0m\u001b[0;34m)\u001b[0m\u001b[0;34m\u001b[0m\u001b[0;34m\u001b[0m\u001b[0m\n\u001b[0m\u001b[1;32m   1022\u001b[0m \u001b[0;34m\u001b[0m\u001b[0m\n\u001b[1;32m   1023\u001b[0m         \u001b[0;32mif\u001b[0m \u001b[0mretina\u001b[0m\u001b[0;34m:\u001b[0m\u001b[0;34m\u001b[0m\u001b[0;34m\u001b[0m\u001b[0m\n",
            "\u001b[0;32m/usr/local/lib/python3.6/dist-packages/IPython/core/display.py\u001b[0m in \u001b[0;36m__init__\u001b[0;34m(self, data, url, filename)\u001b[0m\n\u001b[1;32m    611\u001b[0m         \u001b[0mself\u001b[0m\u001b[0;34m.\u001b[0m\u001b[0mfilename\u001b[0m \u001b[0;34m=\u001b[0m \u001b[0;32mNone\u001b[0m \u001b[0;32mif\u001b[0m \u001b[0mfilename\u001b[0m \u001b[0;32mis\u001b[0m \u001b[0;32mNone\u001b[0m \u001b[0;32melse\u001b[0m \u001b[0municode_type\u001b[0m\u001b[0;34m(\u001b[0m\u001b[0mfilename\u001b[0m\u001b[0;34m)\u001b[0m\u001b[0;34m\u001b[0m\u001b[0;34m\u001b[0m\u001b[0m\n\u001b[1;32m    612\u001b[0m \u001b[0;34m\u001b[0m\u001b[0m\n\u001b[0;32m--> 613\u001b[0;31m         \u001b[0mself\u001b[0m\u001b[0;34m.\u001b[0m\u001b[0mreload\u001b[0m\u001b[0;34m(\u001b[0m\u001b[0;34m)\u001b[0m\u001b[0;34m\u001b[0m\u001b[0;34m\u001b[0m\u001b[0m\n\u001b[0m\u001b[1;32m    614\u001b[0m         \u001b[0mself\u001b[0m\u001b[0;34m.\u001b[0m\u001b[0m_check_data\u001b[0m\u001b[0;34m(\u001b[0m\u001b[0;34m)\u001b[0m\u001b[0;34m\u001b[0m\u001b[0;34m\u001b[0m\u001b[0m\n\u001b[1;32m    615\u001b[0m \u001b[0;34m\u001b[0m\u001b[0m\n",
            "\u001b[0;32m/usr/local/lib/python3.6/dist-packages/IPython/core/display.py\u001b[0m in \u001b[0;36mreload\u001b[0;34m(self)\u001b[0m\n\u001b[1;32m   1041\u001b[0m         \u001b[0;34m\"\"\"Reload the raw data from file or URL.\"\"\"\u001b[0m\u001b[0;34m\u001b[0m\u001b[0;34m\u001b[0m\u001b[0m\n\u001b[1;32m   1042\u001b[0m         \u001b[0;32mif\u001b[0m \u001b[0mself\u001b[0m\u001b[0;34m.\u001b[0m\u001b[0membed\u001b[0m\u001b[0;34m:\u001b[0m\u001b[0;34m\u001b[0m\u001b[0;34m\u001b[0m\u001b[0m\n\u001b[0;32m-> 1043\u001b[0;31m             \u001b[0msuper\u001b[0m\u001b[0;34m(\u001b[0m\u001b[0mImage\u001b[0m\u001b[0;34m,\u001b[0m\u001b[0mself\u001b[0m\u001b[0;34m)\u001b[0m\u001b[0;34m.\u001b[0m\u001b[0mreload\u001b[0m\u001b[0;34m(\u001b[0m\u001b[0;34m)\u001b[0m\u001b[0;34m\u001b[0m\u001b[0;34m\u001b[0m\u001b[0m\n\u001b[0m\u001b[1;32m   1044\u001b[0m             \u001b[0;32mif\u001b[0m \u001b[0mself\u001b[0m\u001b[0;34m.\u001b[0m\u001b[0mretina\u001b[0m\u001b[0;34m:\u001b[0m\u001b[0;34m\u001b[0m\u001b[0;34m\u001b[0m\u001b[0m\n\u001b[1;32m   1045\u001b[0m                 \u001b[0mself\u001b[0m\u001b[0;34m.\u001b[0m\u001b[0m_retina_shape\u001b[0m\u001b[0;34m(\u001b[0m\u001b[0;34m)\u001b[0m\u001b[0;34m\u001b[0m\u001b[0;34m\u001b[0m\u001b[0m\n",
            "\u001b[0;32m/usr/local/lib/python3.6/dist-packages/IPython/core/display.py\u001b[0m in \u001b[0;36mreload\u001b[0;34m(self)\u001b[0m\n\u001b[1;32m    629\u001b[0m         \u001b[0;34m\"\"\"Reload the raw data from file or URL.\"\"\"\u001b[0m\u001b[0;34m\u001b[0m\u001b[0;34m\u001b[0m\u001b[0m\n\u001b[1;32m    630\u001b[0m         \u001b[0;32mif\u001b[0m \u001b[0mself\u001b[0m\u001b[0;34m.\u001b[0m\u001b[0mfilename\u001b[0m \u001b[0;32mis\u001b[0m \u001b[0;32mnot\u001b[0m \u001b[0;32mNone\u001b[0m\u001b[0;34m:\u001b[0m\u001b[0;34m\u001b[0m\u001b[0;34m\u001b[0m\u001b[0m\n\u001b[0;32m--> 631\u001b[0;31m             \u001b[0;32mwith\u001b[0m \u001b[0mopen\u001b[0m\u001b[0;34m(\u001b[0m\u001b[0mself\u001b[0m\u001b[0;34m.\u001b[0m\u001b[0mfilename\u001b[0m\u001b[0;34m,\u001b[0m \u001b[0mself\u001b[0m\u001b[0;34m.\u001b[0m\u001b[0m_read_flags\u001b[0m\u001b[0;34m)\u001b[0m \u001b[0;32mas\u001b[0m \u001b[0mf\u001b[0m\u001b[0;34m:\u001b[0m\u001b[0;34m\u001b[0m\u001b[0;34m\u001b[0m\u001b[0m\n\u001b[0m\u001b[1;32m    632\u001b[0m                 \u001b[0mself\u001b[0m\u001b[0;34m.\u001b[0m\u001b[0mdata\u001b[0m \u001b[0;34m=\u001b[0m \u001b[0mf\u001b[0m\u001b[0;34m.\u001b[0m\u001b[0mread\u001b[0m\u001b[0;34m(\u001b[0m\u001b[0;34m)\u001b[0m\u001b[0;34m\u001b[0m\u001b[0;34m\u001b[0m\u001b[0m\n\u001b[1;32m    633\u001b[0m         \u001b[0;32melif\u001b[0m \u001b[0mself\u001b[0m\u001b[0;34m.\u001b[0m\u001b[0murl\u001b[0m \u001b[0;32mis\u001b[0m \u001b[0;32mnot\u001b[0m \u001b[0;32mNone\u001b[0m\u001b[0;34m:\u001b[0m\u001b[0;34m\u001b[0m\u001b[0;34m\u001b[0m\u001b[0m\n",
            "\u001b[0;31mFileNotFoundError\u001b[0m: [Errno 2] No such file or directory: 'out_out/img001.jpg'"
          ]
        }
      ]
    },
    {
      "cell_type": "code",
      "metadata": {
        "id": "5Xs7gz67tyE3"
      },
      "source": [
        "Image(filename='out_out/img002.jpg', width=600)"
      ],
      "execution_count": null,
      "outputs": []
    },
    {
      "cell_type": "code",
      "metadata": {
        "id": "Wy5am5Ait0EP"
      },
      "source": [
        "Image(filename='out_out/img003.jpg', width=600)"
      ],
      "execution_count": null,
      "outputs": []
    },
    {
      "cell_type": "code",
      "metadata": {
        "id": "fjbm3pplt2H0"
      },
      "source": [
        "Image(filename='out_out/img020.jpg', width=600)"
      ],
      "execution_count": null,
      "outputs": []
    },
    {
      "cell_type": "code",
      "metadata": {
        "id": "ws_THaXXt4Ge"
      },
      "source": [
        ""
      ],
      "execution_count": null,
      "outputs": []
    }
  ]
}