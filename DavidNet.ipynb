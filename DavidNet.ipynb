{
  "nbformat": 4,
  "nbformat_minor": 0,
  "metadata": {
    "colab": {
      "name": "Welcome to Colaboratory",
      "provenance": [],
      "collapsed_sections": [],
      "include_colab_link": true
    },
    "kernelspec": {
      "display_name": "Python 3",
      "name": "python3"
    }
  },
  "cells": [
    {
      "cell_type": "markdown",
      "metadata": {
        "id": "view-in-github",
        "colab_type": "text"
      },
      "source": [
        "<a href=\"https://colab.research.google.com/github/thamizhannal/eva5/blob/master/DavidNet.ipynb\" target=\"_parent\"><img src=\"https://colab.research.google.com/assets/colab-badge.svg\" alt=\"Open In Colab\"/></a>"
      ]
    },
    {
      "cell_type": "code",
      "metadata": {
        "id": "JBHfHzYKhawW",
        "outputId": "0e5909ac-f639-472f-ec5a-fcd65733d226",
        "colab": {
          "base_uri": "https://localhost:8080/",
          "height": 138
        }
      },
      "source": [
        "!git clone https://github.com/theschoolof-ai/JEDI.git"
      ],
      "execution_count": 1,
      "outputs": [
        {
          "output_type": "stream",
          "text": [
            "Cloning into 'JEDI'...\n",
            "remote: Enumerating objects: 49, done.\u001b[K\n",
            "remote: Counting objects: 100% (49/49), done.\u001b[K\n",
            "remote: Compressing objects: 100% (47/47), done.\u001b[K\n",
            "remote: Total 381 (delta 21), reused 9 (delta 2), pack-reused 332\u001b[K\n",
            "Receiving objects: 100% (381/381), 241.02 MiB | 19.85 MiB/s, done.\n",
            "Resolving deltas: 100% (165/165), done.\n"
          ],
          "name": "stdout"
        }
      ]
    },
    {
      "cell_type": "code",
      "metadata": {
        "id": "UxewJMfUhbN9",
        "outputId": "7c0b8206-9fc7-46b4-9709-c8b8cc7cb3b1",
        "colab": {
          "base_uri": "https://localhost:8080/",
          "height": 34
        }
      },
      "source": [
        "cd /content/JEDI/tsai.jedi"
      ],
      "execution_count": 2,
      "outputs": [
        {
          "output_type": "stream",
          "text": [
            "/content/JEDI/tsai.jedi\n"
          ],
          "name": "stdout"
        }
      ]
    },
    {
      "cell_type": "code",
      "metadata": {
        "id": "_uxAIsWmhe6h"
      },
      "source": [
        "import sys\n",
        "sys.path.append('Models/')\n",
        "from S8_resnet import ResNet18\n",
        "from S7 import model_summary\n",
        "from S9_resnet import resnet18"
      ],
      "execution_count": 3,
      "outputs": []
    },
    {
      "cell_type": "code",
      "metadata": {
        "id": "qHHpNYdphnym"
      },
      "source": [
        "import torch\n",
        "import torch.nn as nn\n",
        "import torch.nn.functional as F\n",
        "#from tsai.jedi.batchnorm import GhostBatchNorm\n",
        "\n",
        "from S9_resnet import BasicBlock\n",
        "\n",
        "\n",
        "#from s11 import BasicBlock\n",
        "#from s11 import ResNet\n",
        "from batchnorm import GhostBatchNorm"
      ],
      "execution_count": 8,
      "outputs": []
    },
    {
      "cell_type": "code",
      "metadata": {
        "id": "2ioFnnoHhrip"
      },
      "source": [
        "class DavidNet(nn.Module):\n",
        "    # BN_flag 0: normal batchnorm; 1: Ghost batchnorm\n",
        "    def batch_norm(self, channels, BN_flag):\n",
        "        if BN_flag == 1:\n",
        "            return GhostBatchNorm(channels, num_splits=2, weight=False)\n",
        "        else:\n",
        "            return nn.BatchNorm2d(channels)\n",
        "\n",
        "    def __init__(self, flag):\n",
        "\n",
        "        self.in_planes = 64\n",
        "\n",
        "        super(DavidNet, self).__init__()\n",
        "        # 32,32,3\n",
        "\n",
        "        #prep Layer\n",
        "        self.conv1 = nn.Conv2d(\n",
        "            in_channels=3, out_channels=64, kernel_size=3, stride=1, padding=1, bias=False)  # 32,32,8\n",
        "        self.Batchnorm1 = self.batch_norm(64, flag)\n",
        "\n",
        "        # Layer1\n",
        "        self.conv2 = nn.Conv2d(\n",
        "            in_channels=64, out_channels=128, kernel_size=3, stride=1, padding=1, bias=False)  # 32,32,8\n",
        "        self.pool1 = nn.MaxPool2d(2, 2)\n",
        "        self.Batchnorm2 = self.batch_norm(128, flag)\n",
        "\n",
        "        self.residual1 = self._make_layer(BasicBlock, 128, num_blocks=2, stride=1)\n",
        "\n",
        "        # Layer2\n",
        "        self.conv3 = nn.Conv2d(\n",
        "            in_channels=128, out_channels=256, kernel_size=3, stride=1, padding=1, bias=False)  # 32,32,8\n",
        "        self.pool2 = nn.MaxPool2d(2, 2)\n",
        "        self.Batchnorm3 = self.batch_norm(256, flag)\n",
        "\n",
        "        # Layer3\n",
        "        self.conv4 = nn.Conv2d(\n",
        "            in_channels=256, out_channels=512, kernel_size=3, stride=1, padding=1, bias=False)  # 32,32,8\n",
        "        self.pool3 = nn.MaxPool2d(2, 2)\n",
        "        self.Batchnorm4 = self.batch_norm(512, flag)\n",
        "\n",
        "        self.residual2 = self._make_layer(BasicBlock, 512, num_blocks=2, stride=1)\n",
        "\n",
        "        self.pool4 = nn.MaxPool2d(4, 4)\n",
        "\n",
        "        self.fc = nn.Conv2d(512, 10, kernel_size=1)\n",
        "\n",
        "    def _make_layer(self, block, planes, num_blocks, stride):\n",
        "        strides = [stride] + [1]*(num_blocks-1)\n",
        "        layers = []\n",
        "        for stride in strides:\n",
        "            layers.append(block(self.in_planes, planes, stride))\n",
        "            self.in_planes = planes * block.expansion\n",
        "        return nn.Sequential(*layers)\n",
        "\n",
        "    def forward(self, x):\n",
        "        # PrepLayer\n",
        "        x = F.relu(self.Batchnorm1(self.conv1(x)))  # 8\n",
        "\n",
        "        # Layer1\n",
        "        x1 = F.relu(self.Batchnorm2(self.pool1(self.conv2(x))))  # 8\n",
        "        x1 = torch.cat((x1, self.residual1), dim=1)\n",
        "\n",
        "        # Layer2\n",
        "        x2 = F.relu(self.Batchnorm3(self.pool2(self.conv3(x1))))\n",
        "\n",
        "        # Layer3\n",
        "        x3 = F.relu(self.Batchnorm4(self.pool3(self.conv4(x2))))  # 8\n",
        "        x3 = torch.cat((x3, self.residual2), dim=1)\n",
        "\n",
        "        #Layer4\n",
        "        x4 = self.pool4(x3)\n",
        "\n",
        "        x5 = self.fc(x4)\n",
        "\n",
        "        x5 = x5.view(-1, 10)\n",
        "        return F.log_softmax(x5, dim=-1)"
      ],
      "execution_count": 9,
      "outputs": []
    },
    {
      "cell_type": "code",
      "metadata": {
        "id": "Kb-TmFwpiFdq"
      },
      "source": [
        "net = DavidNet(flag=True)"
      ],
      "execution_count": 10,
      "outputs": []
    },
    {
      "cell_type": "code",
      "metadata": {
        "id": "or3g3E1aiQrm",
        "outputId": "92c39db4-f9d1-42ba-ded5-1c2d6be82e9b",
        "colab": {
          "base_uri": "https://localhost:8080/",
          "height": 328
        }
      },
      "source": [
        "from torchsummary import summary\n",
        "summary(net, (3, 32, 32))"
      ],
      "execution_count": 12,
      "outputs": [
        {
          "output_type": "error",
          "ename": "TypeError",
          "evalue": "ignored",
          "traceback": [
            "\u001b[0;31m---------------------------------------------------------------------------\u001b[0m",
            "\u001b[0;31mTypeError\u001b[0m                                 Traceback (most recent call last)",
            "\u001b[0;32m<ipython-input-12-3d7edb1fb4bf>\u001b[0m in \u001b[0;36m<module>\u001b[0;34m()\u001b[0m\n\u001b[1;32m      1\u001b[0m \u001b[0;32mfrom\u001b[0m \u001b[0mtorchsummary\u001b[0m \u001b[0;32mimport\u001b[0m \u001b[0msummary\u001b[0m\u001b[0;34m\u001b[0m\u001b[0;34m\u001b[0m\u001b[0m\n\u001b[0;32m----> 2\u001b[0;31m \u001b[0msummary\u001b[0m\u001b[0;34m(\u001b[0m\u001b[0mnet\u001b[0m\u001b[0;34m,\u001b[0m \u001b[0;34m(\u001b[0m\u001b[0;36m3\u001b[0m\u001b[0;34m,\u001b[0m \u001b[0;36m32\u001b[0m\u001b[0;34m,\u001b[0m \u001b[0;36m32\u001b[0m\u001b[0;34m)\u001b[0m\u001b[0;34m)\u001b[0m\u001b[0;34m\u001b[0m\u001b[0;34m\u001b[0m\u001b[0m\n\u001b[0m",
            "\u001b[0;32m/usr/local/lib/python3.6/dist-packages/torchsummary/torchsummary.py\u001b[0m in \u001b[0;36msummary\u001b[0;34m(model, input_size, batch_size, device)\u001b[0m\n\u001b[1;32m     70\u001b[0m     \u001b[0;31m# make a forward pass\u001b[0m\u001b[0;34m\u001b[0m\u001b[0;34m\u001b[0m\u001b[0;34m\u001b[0m\u001b[0m\n\u001b[1;32m     71\u001b[0m     \u001b[0;31m# print(x.shape)\u001b[0m\u001b[0;34m\u001b[0m\u001b[0;34m\u001b[0m\u001b[0;34m\u001b[0m\u001b[0m\n\u001b[0;32m---> 72\u001b[0;31m     \u001b[0mmodel\u001b[0m\u001b[0;34m(\u001b[0m\u001b[0;34m*\u001b[0m\u001b[0mx\u001b[0m\u001b[0;34m)\u001b[0m\u001b[0;34m\u001b[0m\u001b[0;34m\u001b[0m\u001b[0m\n\u001b[0m\u001b[1;32m     73\u001b[0m \u001b[0;34m\u001b[0m\u001b[0m\n\u001b[1;32m     74\u001b[0m     \u001b[0;31m# remove these hooks\u001b[0m\u001b[0;34m\u001b[0m\u001b[0;34m\u001b[0m\u001b[0;34m\u001b[0m\u001b[0m\n",
            "\u001b[0;32m/usr/local/lib/python3.6/dist-packages/torch/nn/modules/module.py\u001b[0m in \u001b[0;36m_call_impl\u001b[0;34m(self, *input, **kwargs)\u001b[0m\n\u001b[1;32m    720\u001b[0m             \u001b[0mresult\u001b[0m \u001b[0;34m=\u001b[0m \u001b[0mself\u001b[0m\u001b[0;34m.\u001b[0m\u001b[0m_slow_forward\u001b[0m\u001b[0;34m(\u001b[0m\u001b[0;34m*\u001b[0m\u001b[0minput\u001b[0m\u001b[0;34m,\u001b[0m \u001b[0;34m**\u001b[0m\u001b[0mkwargs\u001b[0m\u001b[0;34m)\u001b[0m\u001b[0;34m\u001b[0m\u001b[0;34m\u001b[0m\u001b[0m\n\u001b[1;32m    721\u001b[0m         \u001b[0;32melse\u001b[0m\u001b[0;34m:\u001b[0m\u001b[0;34m\u001b[0m\u001b[0;34m\u001b[0m\u001b[0m\n\u001b[0;32m--> 722\u001b[0;31m             \u001b[0mresult\u001b[0m \u001b[0;34m=\u001b[0m \u001b[0mself\u001b[0m\u001b[0;34m.\u001b[0m\u001b[0mforward\u001b[0m\u001b[0;34m(\u001b[0m\u001b[0;34m*\u001b[0m\u001b[0minput\u001b[0m\u001b[0;34m,\u001b[0m \u001b[0;34m**\u001b[0m\u001b[0mkwargs\u001b[0m\u001b[0;34m)\u001b[0m\u001b[0;34m\u001b[0m\u001b[0;34m\u001b[0m\u001b[0m\n\u001b[0m\u001b[1;32m    723\u001b[0m         for hook in itertools.chain(\n\u001b[1;32m    724\u001b[0m                 \u001b[0m_global_forward_hooks\u001b[0m\u001b[0;34m.\u001b[0m\u001b[0mvalues\u001b[0m\u001b[0;34m(\u001b[0m\u001b[0;34m)\u001b[0m\u001b[0;34m,\u001b[0m\u001b[0;34m\u001b[0m\u001b[0;34m\u001b[0m\u001b[0m\n",
            "\u001b[0;32m<ipython-input-9-32790b3a9bdf>\u001b[0m in \u001b[0;36mforward\u001b[0;34m(self, x)\u001b[0m\n\u001b[1;32m     59\u001b[0m         \u001b[0;31m# Layer1\u001b[0m\u001b[0;34m\u001b[0m\u001b[0;34m\u001b[0m\u001b[0;34m\u001b[0m\u001b[0m\n\u001b[1;32m     60\u001b[0m         \u001b[0mx1\u001b[0m \u001b[0;34m=\u001b[0m \u001b[0mF\u001b[0m\u001b[0;34m.\u001b[0m\u001b[0mrelu\u001b[0m\u001b[0;34m(\u001b[0m\u001b[0mself\u001b[0m\u001b[0;34m.\u001b[0m\u001b[0mBatchnorm2\u001b[0m\u001b[0;34m(\u001b[0m\u001b[0mself\u001b[0m\u001b[0;34m.\u001b[0m\u001b[0mpool1\u001b[0m\u001b[0;34m(\u001b[0m\u001b[0mself\u001b[0m\u001b[0;34m.\u001b[0m\u001b[0mconv2\u001b[0m\u001b[0;34m(\u001b[0m\u001b[0mx\u001b[0m\u001b[0;34m)\u001b[0m\u001b[0;34m)\u001b[0m\u001b[0;34m)\u001b[0m\u001b[0;34m)\u001b[0m  \u001b[0;31m# 8\u001b[0m\u001b[0;34m\u001b[0m\u001b[0;34m\u001b[0m\u001b[0m\n\u001b[0;32m---> 61\u001b[0;31m         \u001b[0mx1\u001b[0m \u001b[0;34m=\u001b[0m \u001b[0mtorch\u001b[0m\u001b[0;34m.\u001b[0m\u001b[0mcat\u001b[0m\u001b[0;34m(\u001b[0m\u001b[0;34m(\u001b[0m\u001b[0mx1\u001b[0m\u001b[0;34m,\u001b[0m \u001b[0mself\u001b[0m\u001b[0;34m.\u001b[0m\u001b[0mresidual1\u001b[0m\u001b[0;34m)\u001b[0m\u001b[0;34m,\u001b[0m \u001b[0mdim\u001b[0m\u001b[0;34m=\u001b[0m\u001b[0;36m1\u001b[0m\u001b[0;34m)\u001b[0m\u001b[0;34m\u001b[0m\u001b[0;34m\u001b[0m\u001b[0m\n\u001b[0m\u001b[1;32m     62\u001b[0m \u001b[0;34m\u001b[0m\u001b[0m\n\u001b[1;32m     63\u001b[0m         \u001b[0;31m# Layer2\u001b[0m\u001b[0;34m\u001b[0m\u001b[0;34m\u001b[0m\u001b[0;34m\u001b[0m\u001b[0m\n",
            "\u001b[0;31mTypeError\u001b[0m: expected Tensor as element 1 in argument 0, but got Sequential"
          ]
        }
      ]
    },
    {
      "cell_type": "code",
      "metadata": {
        "id": "LznFJ4RxiTV8"
      },
      "source": [
        ""
      ],
      "execution_count": null,
      "outputs": []
    }
  ]
}